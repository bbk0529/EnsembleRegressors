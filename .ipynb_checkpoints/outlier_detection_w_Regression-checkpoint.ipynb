{
 "cells": [
  {
   "cell_type": "code",
   "execution_count": 643,
   "metadata": {},
   "outputs": [],
   "source": [
    "import numpy as np\n",
    "import matplotlib.pyplot as plt"
   ]
  },
  {
   "cell_type": "code",
   "execution_count": 644,
   "metadata": {},
   "outputs": [],
   "source": [
    "from scipy.spatial import distance_matrix\n",
    "from sklearn.linear_model import LinearRegression"
   ]
  },
  {
   "cell_type": "code",
   "execution_count": 645,
   "metadata": {},
   "outputs": [],
   "source": [
    "import random"
   ]
  },
  {
   "cell_type": "code",
   "execution_count": 751,
   "metadata": {},
   "outputs": [],
   "source": [
    "def regression_based_outlier_detection(ts_data, neighbor, station, n_regressors = 3, n_variables = 3, eps=1) :\n",
    "    result = np.array([], dtype='int')\n",
    "    for i in range(n_regressors) : \n",
    "        idx = random.choices(neighbor[station],k=n_variables)\n",
    "        y = ts_data[station] \n",
    "        X = ts_data[idx]\n",
    "        reg = LinearRegression().fit(X.T, y)\n",
    "#         print(reg.score(X.T, y))\n",
    "        original = ts_data[station]\n",
    "        predict = reg.intercept_ + np.dot(X.T, reg.coef_)\n",
    "#         print(abs(predict - original))\n",
    "        ix = np.where(abs(predict - original) > eps)\n",
    "#         print(ix)\n",
    "        result = np.append(result, ix)\n",
    "#         print(result)\n",
    "\n",
    "    unique, counts = np.unique(result, return_counts=True)\n",
    "    RESULT = dict(zip(unique, counts))\n",
    "#     print(RESULT)\n",
    "    return {k: v for k, v in sorted(RESULT.items(), key=lambda item: item[1])}\n",
    "\n",
    "    \n",
    "    "
   ]
  },
  {
   "cell_type": "markdown",
   "metadata": {},
   "source": [
    "# CREATING SIMULATION DATA"
   ]
  },
  {
   "cell_type": "code",
   "execution_count": 773,
   "metadata": {},
   "outputs": [],
   "source": [
    "x_length = 200\n",
    "y_length = 200\n",
    "\n",
    "n_stations = 10000\n",
    "time_length = 100\n",
    "\n",
    "k = 10\n"
   ]
  },
  {
   "cell_type": "code",
   "execution_count": 774,
   "metadata": {},
   "outputs": [],
   "source": [
    "#random metadata creation \n",
    "metadata = np.zeros((n_stations,2), dtype='int')\n",
    "for i in range(n_stations) : \n",
    "    x = random.choice(range(x_length))\n",
    "    y = random.choice(range(y_length))\n",
    "    metadata[i] = [x,y]\n",
    "\n"
   ]
  },
  {
   "cell_type": "code",
   "execution_count": 775,
   "metadata": {},
   "outputs": [],
   "source": [
    "#neighbor list\n",
    "dist_matrix = distance_matrix(metadata,metadata)\n",
    "neighbor = dist_matrix.argsort()[:, 1:k+1]"
   ]
  },
  {
   "cell_type": "code",
   "execution_count": 799,
   "metadata": {
    "scrolled": true
   },
   "outputs": [
    {
     "name": "stdout",
     "output_type": "stream",
     "text": [
      "4282 11 \t 1 \t 10.639689659390477\n",
      "6566 13 \t 1 \t 8.75825554045768\n",
      "1616 24 \t -1 \t 8.351945840433912\n",
      "2292 63 \t -1 \t 15.131270088918136\n",
      "5982 65 \t 1 \t 9.783923294829824\n",
      "1787 79 \t -1 \t 16.44876542242278\n",
      "7351 98 \t 1 \t 3.921119345890687\n"
     ]
    }
   ],
   "source": [
    "#random data creation \n",
    "ts_data = np.zeros((n_stations, time_length))\n",
    "lst_failed_station = {}\n",
    "s = random.choice(range(20,30,1))\n",
    "for time_step in range(time_length) :        \n",
    "    temperature = random.choice(range(s-3,s+3,1))\n",
    "    val = temperature + np.random.rand(n_stations)    \n",
    "    #add random noise with 10% prop\n",
    "    if random.random() < 0.1 : \n",
    "        failed_station = random.choice(range(n_stations))\n",
    "        noise = random.random() * 20\n",
    "        sign = random.choice([-1,1])\n",
    "        \n",
    "        val[failed_station] = val[failed_station] + noise * sign \n",
    "        print(failed_station, time_step, \"\\t\", sign, \"\\t\", noise)\n",
    "        \n",
    "        lst_failed_station[failed_station] =[time_step, sign * noise]\n",
    "        \n",
    "    \n",
    "    ts_data[:,time_step] = val\n",
    "# print(len(lst_failed_station))\n",
    "    "
   ]
  },
  {
   "cell_type": "markdown",
   "metadata": {},
   "source": [
    "plt.figure(figsize=(20,20))\n",
    "plt.imshow(ts_data)"
   ]
  },
  {
   "cell_type": "code",
   "execution_count": 802,
   "metadata": {},
   "outputs": [
    {
     "name": "stdout",
     "output_type": "stream",
     "text": [
      "4282 :  10\n",
      "{11: 10}\n",
      "6566 :  10\n",
      "{13: 10}\n",
      "1616 :  10\n",
      "{24: 10}\n",
      "2292 :  10\n",
      "{63: 10}\n",
      "5982 :  7\n",
      "{65: 7}\n",
      "1787 :  10\n",
      "{79: 10}\n",
      "7351 :  10\n",
      "{98: 10}\n"
     ]
    }
   ],
   "source": [
    "for station in lst_failed_station.keys() : \n",
    "    i = station\n",
    "    result = regression_based_outlier_detection(ts_data, neighbor, station=i, n_regressors = 10, n_variables = 3, eps=2)\n",
    "    print(station, \": \", result.get(lst_failed_station[station][0],-1))\n",
    "    print(result)\n",
    "#     plt.plot(ts_data[neighbor[station]].T, color='gray')\n",
    "#     plt.plot(ts_data[station], color='red')"
   ]
  },
  {
   "cell_type": "code",
   "execution_count": 672,
   "metadata": {
    "scrolled": false
   },
   "outputs": [
    {
     "name": "stdout",
     "output_type": "stream",
     "text": [
      "0\n",
      "1\n",
      "2\n",
      "3\n",
      "4\n",
      "5\n",
      "6\n",
      "7\n",
      "8\n",
      "9\n",
      "10\n",
      "11\n",
      "12\n",
      "13\n",
      "14\n",
      "15\n",
      "16\n",
      "17\n",
      "18\n",
      "19\n",
      "20\n",
      "21\n",
      "22\n",
      "23\n",
      "24\n",
      "25\n",
      "26\n",
      "27\n",
      "28\n",
      "29\n",
      "30\n",
      "31\n",
      "32\n",
      "33\n",
      "34\n",
      "35\n",
      "36\n",
      "37\n",
      "38\n",
      "39\n",
      "40\n",
      "41\n",
      "42\n",
      "43\n",
      "44\n",
      "45\n",
      "46\n",
      "47\n",
      "48\n",
      "49\n"
     ]
    }
   ],
   "source": [
    "for i in range(n_stations) : \n",
    "#     plt.figure()    \n",
    "    RESULT = regression_based_outlier_detection(ts_data, neighbor, station, n_regressors = 5, n_variables = 2, eps=1)\n",
    "    if len(RESULT) > 0 : \n",
    "        print(i, RESULT)\n",
    "#     plt.plot(ts_data[neighbor[i]].T, color='gray')\n",
    "#     plt.plot(ts_data[i].T, color='red')\n",
    "# print(\"\\n\")"
   ]
  },
  {
   "cell_type": "code",
   "execution_count": 230,
   "metadata": {},
   "outputs": [],
   "source": [
    "dist_matrix = distance_matrix(metadata,metadata)"
   ]
  },
  {
   "cell_type": "code",
   "execution_count": null,
   "metadata": {},
   "outputs": [],
   "source": []
  },
  {
   "cell_type": "code",
   "execution_count": 209,
   "metadata": {},
   "outputs": [
    {
     "name": "stdout",
     "output_type": "stream",
     "text": [
      "0.9974505250456086\n",
      "87 13.864367583086752\n"
     ]
    }
   ],
   "source": []
  },
  {
   "cell_type": "code",
   "execution_count": 201,
   "metadata": {},
   "outputs": [
    {
     "name": "stdout",
     "output_type": "stream",
     "text": [
      "21 12.588935613643686\n"
     ]
    }
   ],
   "source": []
  },
  {
   "cell_type": "code",
   "execution_count": 183,
   "metadata": {},
   "outputs": [
    {
     "data": {
      "text/plain": [
       "[<matplotlib.lines.Line2D at 0x7f0896697dc0>]"
      ]
     },
     "execution_count": 183,
     "metadata": {},
     "output_type": "execute_result"
    },
    {
     "data": {
      "image/png": "[encoded data removed]",
      "text/plain": [
       "<Figure size 432x288 with 1 Axes>"
      ]
     },
     "metadata": {
      "needs_background": "light"
     },
     "output_type": "display_data"
    }
   ],
   "source": [
    "plt.plot(predict - original)"
   ]
  },
  {
   "cell_type": "code",
   "execution_count": 124,
   "metadata": {},
   "outputs": [
    {
     "data": {
      "text/plain": [
       "array([0.17866241, 0.05695667, 0.28054333, 0.19033037, 0.30030318])"
      ]
     },
     "execution_count": 124,
     "metadata": {},
     "output_type": "execute_result"
    }
   ],
   "source": []
  }
 ],
 "metadata": {
  "kernelspec": {
   "display_name": "Python 3",
   "language": "python",
   "name": "python3"
  },
  "language_info": {
   "codemirror_mode": {
    "name": "ipython",
    "version": 3
   },
   "file_extension": ".py",
   "mimetype": "text/x-python",
   "name": "python",
   "nbconvert_exporter": "python",
   "pygments_lexer": "ipython3",
   "version": "3.8.8"
  }
 },
 "nbformat": 4,
 "nbformat_minor": 4
}
