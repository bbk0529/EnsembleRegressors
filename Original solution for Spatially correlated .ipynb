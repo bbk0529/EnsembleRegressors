{
 "cells": [
  {
   "cell_type": "code",
   "execution_count": 1,
   "metadata": {},
   "outputs": [],
   "source": [
    "import pandas as pd\n",
    "import numpy as np\n"
   ]
  },
  {
   "cell_type": "code",
   "execution_count": 226,
   "metadata": {},
   "outputs": [],
   "source": [
    "df_10 = np.random.randn(10000,2)"
   ]
  },
  {
   "cell_type": "code",
   "execution_count": 227,
   "metadata": {},
   "outputs": [
    {
     "name": "stdout",
     "output_type": "stream",
     "text": [
      "285.62727069854736\n"
     ]
    }
   ],
   "source": [
    "import time\n",
    "start = time.time()\n",
    "n = 0\n",
    "size = len(df_10)\n",
    "dist = np.zeros((size,size))\n",
    "# size = 1000\n",
    "for i in range(size) : \n",
    "    for j in range(i+1,size) :        \n",
    "        \n",
    "        d = np.linalg.norm(df_10[i] - df_10[j])\n",
    "        dist[i,j] = d\n",
    "        dist[j,i] = d\n",
    "end = time.time()\n",
    "print(end-start)"
   ]
  },
  {
   "cell_type": "code",
   "execution_count": 231,
   "metadata": {},
   "outputs": [],
   "source": [
    "data = np.random.randn(10000,100)"
   ]
  },
  {
   "cell_type": "code",
   "execution_count": 236,
   "metadata": {},
   "outputs": [],
   "source": [
    "import random\n",
    "from sklearn.linear_model import LinearRegression\n",
    "import numpy as np\n",
    "import matplotlib.pyplot as plt"
   ]
  },
  {
   "cell_type": "code",
   "execution_count": 233,
   "metadata": {},
   "outputs": [],
   "source": [
    "import random"
   ]
  },
  {
   "cell_type": "code",
   "execution_count": 262,
   "metadata": {},
   "outputs": [],
   "source": [
    "idx = random.choices(range(10000), k=3)\n",
    "reg = LinearRegression().fit(\n",
    "    data[idx[:2]].T, data[idx[-1]]\n",
    ")\n",
    "reg.score(data[idx[:2]].T, data[idx[-1]])"
   ]
  },
  {
   "cell_type": "code",
   "execution_count": 225,
   "metadata": {},
   "outputs": [
    {
     "data": {
      "text/plain": [
       "(100, 100)"
      ]
     },
     "execution_count": 225,
     "metadata": {},
     "output_type": "execute_result"
    }
   ],
   "source": [
    "dist.shape"
   ]
  },
  {
   "cell_type": "code",
   "execution_count": 212,
   "metadata": {},
   "outputs": [
    {
     "data": {
      "text/plain": [
       "2.492693697209432"
      ]
     },
     "execution_count": 212,
     "metadata": {},
     "output_type": "execute_result"
    }
   ],
   "source": [
    "np.linalg.norm(\n",
    "        df_10[0] -\n",
    "        df_10[1]\n",
    ")"
   ]
  },
  {
   "cell_type": "code",
   "execution_count": 25,
   "metadata": {},
   "outputs": [],
   "source": [
    "# Distance O(n^2) +\n",
    "# Sorting O(n log n) ~ O(n^2) * O(n) = O(n^2 log n) ~  O(n^3)\n",
    "# calculation of average (or relevant equation) O(kn), k=number of neighborhood stations \n"
   ]
  },
  {
   "cell_type": "code",
   "execution_count": 30,
   "metadata": {},
   "outputs": [],
   "source": [
    "df = pd.read_csv('./data/GlobalLandTemperaturesByCity.csv')"
   ]
  },
  {
   "cell_type": "code",
   "execution_count": 163,
   "metadata": {},
   "outputs": [],
   "source": [
    "df = pd.read_pickle('data_all.pkl')"
   ]
  },
  {
   "cell_type": "code",
   "execution_count": 164,
   "metadata": {},
   "outputs": [],
   "source": [
    "cities = df.groupby('City').mean().drop_duplicates(subset=['Latitude','Longitude']).index"
   ]
  },
  {
   "cell_type": "code",
   "execution_count": 165,
   "metadata": {},
   "outputs": [],
   "source": [
    "data = df[df.City.isin(cities)]"
   ]
  },
  {
   "cell_type": "code",
   "execution_count": 167,
   "metadata": {
    "scrolled": true
   },
   "outputs": [],
   "source": [
    "data = data.set_index(['City','dt'])"
   ]
  },
  {
   "cell_type": "code",
   "execution_count": 168,
   "metadata": {},
   "outputs": [],
   "source": [
    "data_temp = data.loc[:,'AverageTemperature']"
   ]
  },
  {
   "cell_type": "code",
   "execution_count": 202,
   "metadata": {},
   "outputs": [
    {
     "data": {
      "text/plain": [
       "array(['Çorum', 'Öskemen', 'A Coruña', ..., 'Zinder', 'Zonguldak',\n",
       "       'Zunyi'], dtype=object)"
      ]
     },
     "execution_count": 202,
     "metadata": {},
     "output_type": "execute_result"
    }
   ],
   "source": []
  },
  {
   "cell_type": "code",
   "execution_count": null,
   "metadata": {},
   "outputs": [],
   "source": []
  },
  {
   "cell_type": "code",
   "execution_count": 177,
   "metadata": {},
   "outputs": [],
   "source": [
    "df_cities = pd.DataFrame()\n",
    "for city in cities :\n",
    "    try :\n",
    "        df_cities = df_cities.append(\n",
    "            pd.DataFrame(data_temp.loc[city]).T)    \n",
    "    except : \n",
    "        continue\n",
    "    "
   ]
  },
  {
   "cell_type": "code",
   "execution_count": 193,
   "metadata": {},
   "outputs": [
    {
     "data": {
      "text/html": [
       "<div>\n",
       "<style scoped>\n",
       "    .dataframe tbody tr th:only-of-type {\n",
       "        vertical-align: middle;\n",
       "    }\n",
       "\n",
       "    .dataframe tbody tr th {\n",
       "        vertical-align: top;\n",
       "    }\n",
       "\n",
       "    .dataframe thead th {\n",
       "        text-align: right;\n",
       "    }\n",
       "</style>\n",
       "<table border=\"1\" class=\"dataframe\">\n",
       "  <thead>\n",
       "    <tr style=\"text-align: right;\">\n",
       "      <th>dt</th>\n",
       "      <th>1743-11-01</th>\n",
       "      <th>1743-12-01</th>\n",
       "      <th>1744-01-01</th>\n",
       "      <th>1744-02-01</th>\n",
       "      <th>1744-03-01</th>\n",
       "      <th>1744-04-01</th>\n",
       "      <th>1744-05-01</th>\n",
       "      <th>1744-06-01</th>\n",
       "      <th>1744-07-01</th>\n",
       "      <th>1744-08-01</th>\n",
       "      <th>...</th>\n",
       "      <th>2012-12-01</th>\n",
       "      <th>2013-01-01</th>\n",
       "      <th>2013-02-01</th>\n",
       "      <th>2013-03-01</th>\n",
       "      <th>2013-04-01</th>\n",
       "      <th>2013-05-01</th>\n",
       "      <th>2013-06-01</th>\n",
       "      <th>2013-07-01</th>\n",
       "      <th>2013-08-01</th>\n",
       "      <th>2013-09-01</th>\n",
       "    </tr>\n",
       "  </thead>\n",
       "  <tbody>\n",
       "    <tr>\n",
       "      <th>AverageTemperature</th>\n",
       "      <td>NaN</td>\n",
       "      <td>NaN</td>\n",
       "      <td>NaN</td>\n",
       "      <td>NaN</td>\n",
       "      <td>NaN</td>\n",
       "      <td>NaN</td>\n",
       "      <td>NaN</td>\n",
       "      <td>NaN</td>\n",
       "      <td>NaN</td>\n",
       "      <td>NaN</td>\n",
       "      <td>...</td>\n",
       "      <td>2.486</td>\n",
       "      <td>1.539</td>\n",
       "      <td>4.612</td>\n",
       "      <td>6.846</td>\n",
       "      <td>11.092</td>\n",
       "      <td>17.070</td>\n",
       "      <td>19.056</td>\n",
       "      <td>20.736</td>\n",
       "      <td>21.452</td>\n",
       "      <td>NaN</td>\n",
       "    </tr>\n",
       "    <tr>\n",
       "      <th>AverageTemperature</th>\n",
       "      <td>NaN</td>\n",
       "      <td>NaN</td>\n",
       "      <td>NaN</td>\n",
       "      <td>NaN</td>\n",
       "      <td>NaN</td>\n",
       "      <td>NaN</td>\n",
       "      <td>NaN</td>\n",
       "      <td>NaN</td>\n",
       "      <td>NaN</td>\n",
       "      <td>NaN</td>\n",
       "      <td>...</td>\n",
       "      <td>-21.321</td>\n",
       "      <td>-12.440</td>\n",
       "      <td>-14.449</td>\n",
       "      <td>-2.304</td>\n",
       "      <td>5.718</td>\n",
       "      <td>10.061</td>\n",
       "      <td>15.592</td>\n",
       "      <td>17.727</td>\n",
       "      <td>16.859</td>\n",
       "      <td>NaN</td>\n",
       "    </tr>\n",
       "    <tr>\n",
       "      <th>AverageTemperature</th>\n",
       "      <td>10.779</td>\n",
       "      <td>NaN</td>\n",
       "      <td>NaN</td>\n",
       "      <td>NaN</td>\n",
       "      <td>NaN</td>\n",
       "      <td>13.325</td>\n",
       "      <td>12.900</td>\n",
       "      <td>16.410</td>\n",
       "      <td>17.992</td>\n",
       "      <td>NaN</td>\n",
       "      <td>...</td>\n",
       "      <td>10.247</td>\n",
       "      <td>9.773</td>\n",
       "      <td>9.020</td>\n",
       "      <td>10.558</td>\n",
       "      <td>11.893</td>\n",
       "      <td>12.805</td>\n",
       "      <td>16.596</td>\n",
       "      <td>20.877</td>\n",
       "      <td>20.348</td>\n",
       "      <td>NaN</td>\n",
       "    </tr>\n",
       "    <tr>\n",
       "      <th>AverageTemperature</th>\n",
       "      <td>6.425</td>\n",
       "      <td>NaN</td>\n",
       "      <td>NaN</td>\n",
       "      <td>NaN</td>\n",
       "      <td>NaN</td>\n",
       "      <td>8.599</td>\n",
       "      <td>11.699</td>\n",
       "      <td>14.839</td>\n",
       "      <td>16.390</td>\n",
       "      <td>NaN</td>\n",
       "      <td>...</td>\n",
       "      <td>3.526</td>\n",
       "      <td>0.904</td>\n",
       "      <td>0.121</td>\n",
       "      <td>1.834</td>\n",
       "      <td>8.374</td>\n",
       "      <td>11.463</td>\n",
       "      <td>15.589</td>\n",
       "      <td>19.869</td>\n",
       "      <td>18.098</td>\n",
       "      <td>NaN</td>\n",
       "    </tr>\n",
       "    <tr>\n",
       "      <th>AverageTemperature</th>\n",
       "      <td>6.068</td>\n",
       "      <td>NaN</td>\n",
       "      <td>NaN</td>\n",
       "      <td>NaN</td>\n",
       "      <td>NaN</td>\n",
       "      <td>5.788</td>\n",
       "      <td>10.644</td>\n",
       "      <td>14.051</td>\n",
       "      <td>16.082</td>\n",
       "      <td>NaN</td>\n",
       "      <td>...</td>\n",
       "      <td>-0.921</td>\n",
       "      <td>-0.344</td>\n",
       "      <td>-0.390</td>\n",
       "      <td>-0.474</td>\n",
       "      <td>5.514</td>\n",
       "      <td>12.770</td>\n",
       "      <td>15.223</td>\n",
       "      <td>18.259</td>\n",
       "      <td>17.423</td>\n",
       "      <td>NaN</td>\n",
       "    </tr>\n",
       "    <tr>\n",
       "      <th>...</th>\n",
       "      <td>...</td>\n",
       "      <td>...</td>\n",
       "      <td>...</td>\n",
       "      <td>...</td>\n",
       "      <td>...</td>\n",
       "      <td>...</td>\n",
       "      <td>...</td>\n",
       "      <td>...</td>\n",
       "      <td>...</td>\n",
       "      <td>...</td>\n",
       "      <td>...</td>\n",
       "      <td>...</td>\n",
       "      <td>...</td>\n",
       "      <td>...</td>\n",
       "      <td>...</td>\n",
       "      <td>...</td>\n",
       "      <td>...</td>\n",
       "      <td>...</td>\n",
       "      <td>...</td>\n",
       "      <td>...</td>\n",
       "      <td>...</td>\n",
       "    </tr>\n",
       "    <tr>\n",
       "      <th>AverageTemperature</th>\n",
       "      <td>1.398</td>\n",
       "      <td>NaN</td>\n",
       "      <td>NaN</td>\n",
       "      <td>NaN</td>\n",
       "      <td>NaN</td>\n",
       "      <td>9.255</td>\n",
       "      <td>12.425</td>\n",
       "      <td>16.446</td>\n",
       "      <td>18.464</td>\n",
       "      <td>NaN</td>\n",
       "      <td>...</td>\n",
       "      <td>-5.440</td>\n",
       "      <td>-5.139</td>\n",
       "      <td>-0.834</td>\n",
       "      <td>-2.459</td>\n",
       "      <td>9.199</td>\n",
       "      <td>17.625</td>\n",
       "      <td>20.128</td>\n",
       "      <td>19.627</td>\n",
       "      <td>19.019</td>\n",
       "      <td>NaN</td>\n",
       "    </tr>\n",
       "    <tr>\n",
       "      <th>AverageTemperature</th>\n",
       "      <td>NaN</td>\n",
       "      <td>NaN</td>\n",
       "      <td>NaN</td>\n",
       "      <td>NaN</td>\n",
       "      <td>NaN</td>\n",
       "      <td>NaN</td>\n",
       "      <td>NaN</td>\n",
       "      <td>NaN</td>\n",
       "      <td>NaN</td>\n",
       "      <td>NaN</td>\n",
       "      <td>...</td>\n",
       "      <td>25.302</td>\n",
       "      <td>24.305</td>\n",
       "      <td>25.754</td>\n",
       "      <td>26.294</td>\n",
       "      <td>26.372</td>\n",
       "      <td>27.757</td>\n",
       "      <td>28.564</td>\n",
       "      <td>27.898</td>\n",
       "      <td>26.547</td>\n",
       "      <td>NaN</td>\n",
       "    </tr>\n",
       "    <tr>\n",
       "      <th>AverageTemperature</th>\n",
       "      <td>NaN</td>\n",
       "      <td>NaN</td>\n",
       "      <td>NaN</td>\n",
       "      <td>NaN</td>\n",
       "      <td>NaN</td>\n",
       "      <td>NaN</td>\n",
       "      <td>NaN</td>\n",
       "      <td>NaN</td>\n",
       "      <td>NaN</td>\n",
       "      <td>NaN</td>\n",
       "      <td>...</td>\n",
       "      <td>24.125</td>\n",
       "      <td>23.185</td>\n",
       "      <td>26.495</td>\n",
       "      <td>32.198</td>\n",
       "      <td>32.605</td>\n",
       "      <td>34.403</td>\n",
       "      <td>32.488</td>\n",
       "      <td>29.677</td>\n",
       "      <td>26.918</td>\n",
       "      <td>NaN</td>\n",
       "    </tr>\n",
       "    <tr>\n",
       "      <th>AverageTemperature</th>\n",
       "      <td>6.841</td>\n",
       "      <td>NaN</td>\n",
       "      <td>NaN</td>\n",
       "      <td>NaN</td>\n",
       "      <td>NaN</td>\n",
       "      <td>12.282</td>\n",
       "      <td>13.094</td>\n",
       "      <td>17.638</td>\n",
       "      <td>20.281</td>\n",
       "      <td>NaN</td>\n",
       "      <td>...</td>\n",
       "      <td>4.074</td>\n",
       "      <td>3.419</td>\n",
       "      <td>5.842</td>\n",
       "      <td>8.075</td>\n",
       "      <td>11.876</td>\n",
       "      <td>17.662</td>\n",
       "      <td>19.818</td>\n",
       "      <td>21.343</td>\n",
       "      <td>22.225</td>\n",
       "      <td>NaN</td>\n",
       "    </tr>\n",
       "    <tr>\n",
       "      <th>AverageTemperature</th>\n",
       "      <td>NaN</td>\n",
       "      <td>NaN</td>\n",
       "      <td>NaN</td>\n",
       "      <td>NaN</td>\n",
       "      <td>NaN</td>\n",
       "      <td>NaN</td>\n",
       "      <td>NaN</td>\n",
       "      <td>NaN</td>\n",
       "      <td>NaN</td>\n",
       "      <td>NaN</td>\n",
       "      <td>...</td>\n",
       "      <td>5.915</td>\n",
       "      <td>4.293</td>\n",
       "      <td>8.435</td>\n",
       "      <td>13.718</td>\n",
       "      <td>15.627</td>\n",
       "      <td>19.473</td>\n",
       "      <td>23.670</td>\n",
       "      <td>26.159</td>\n",
       "      <td>25.502</td>\n",
       "      <td>NaN</td>\n",
       "    </tr>\n",
       "  </tbody>\n",
       "</table>\n",
       "<p>1342 rows × 3239 columns</p>\n",
       "</div>"
      ],
      "text/plain": [
       "dt                  1743-11-01  1743-12-01  1744-01-01  1744-02-01  \\\n",
       "AverageTemperature         NaN         NaN         NaN         NaN   \n",
       "AverageTemperature         NaN         NaN         NaN         NaN   \n",
       "AverageTemperature      10.779         NaN         NaN         NaN   \n",
       "AverageTemperature       6.425         NaN         NaN         NaN   \n",
       "AverageTemperature       6.068         NaN         NaN         NaN   \n",
       "...                        ...         ...         ...         ...   \n",
       "AverageTemperature       1.398         NaN         NaN         NaN   \n",
       "AverageTemperature         NaN         NaN         NaN         NaN   \n",
       "AverageTemperature         NaN         NaN         NaN         NaN   \n",
       "AverageTemperature       6.841         NaN         NaN         NaN   \n",
       "AverageTemperature         NaN         NaN         NaN         NaN   \n",
       "\n",
       "dt                  1744-03-01  1744-04-01  1744-05-01  1744-06-01  \\\n",
       "AverageTemperature         NaN         NaN         NaN         NaN   \n",
       "AverageTemperature         NaN         NaN         NaN         NaN   \n",
       "AverageTemperature         NaN      13.325      12.900      16.410   \n",
       "AverageTemperature         NaN       8.599      11.699      14.839   \n",
       "AverageTemperature         NaN       5.788      10.644      14.051   \n",
       "...                        ...         ...         ...         ...   \n",
       "AverageTemperature         NaN       9.255      12.425      16.446   \n",
       "AverageTemperature         NaN         NaN         NaN         NaN   \n",
       "AverageTemperature         NaN         NaN         NaN         NaN   \n",
       "AverageTemperature         NaN      12.282      13.094      17.638   \n",
       "AverageTemperature         NaN         NaN         NaN         NaN   \n",
       "\n",
       "dt                  1744-07-01  1744-08-01  ...  2012-12-01  2013-01-01  \\\n",
       "AverageTemperature         NaN         NaN  ...       2.486       1.539   \n",
       "AverageTemperature         NaN         NaN  ...     -21.321     -12.440   \n",
       "AverageTemperature      17.992         NaN  ...      10.247       9.773   \n",
       "AverageTemperature      16.390         NaN  ...       3.526       0.904   \n",
       "AverageTemperature      16.082         NaN  ...      -0.921      -0.344   \n",
       "...                        ...         ...  ...         ...         ...   \n",
       "AverageTemperature      18.464         NaN  ...      -5.440      -5.139   \n",
       "AverageTemperature         NaN         NaN  ...      25.302      24.305   \n",
       "AverageTemperature         NaN         NaN  ...      24.125      23.185   \n",
       "AverageTemperature      20.281         NaN  ...       4.074       3.419   \n",
       "AverageTemperature         NaN         NaN  ...       5.915       4.293   \n",
       "\n",
       "dt                  2013-02-01  2013-03-01  2013-04-01  2013-05-01  \\\n",
       "AverageTemperature       4.612       6.846      11.092      17.070   \n",
       "AverageTemperature     -14.449      -2.304       5.718      10.061   \n",
       "AverageTemperature       9.020      10.558      11.893      12.805   \n",
       "AverageTemperature       0.121       1.834       8.374      11.463   \n",
       "AverageTemperature      -0.390      -0.474       5.514      12.770   \n",
       "...                        ...         ...         ...         ...   \n",
       "AverageTemperature      -0.834      -2.459       9.199      17.625   \n",
       "AverageTemperature      25.754      26.294      26.372      27.757   \n",
       "AverageTemperature      26.495      32.198      32.605      34.403   \n",
       "AverageTemperature       5.842       8.075      11.876      17.662   \n",
       "AverageTemperature       8.435      13.718      15.627      19.473   \n",
       "\n",
       "dt                  2013-06-01  2013-07-01  2013-08-01  2013-09-01  \n",
       "AverageTemperature      19.056      20.736      21.452         NaN  \n",
       "AverageTemperature      15.592      17.727      16.859         NaN  \n",
       "AverageTemperature      16.596      20.877      20.348         NaN  \n",
       "AverageTemperature      15.589      19.869      18.098         NaN  \n",
       "AverageTemperature      15.223      18.259      17.423         NaN  \n",
       "...                        ...         ...         ...         ...  \n",
       "AverageTemperature      20.128      19.627      19.019         NaN  \n",
       "AverageTemperature      28.564      27.898      26.547         NaN  \n",
       "AverageTemperature      32.488      29.677      26.918         NaN  \n",
       "AverageTemperature      19.818      21.343      22.225         NaN  \n",
       "AverageTemperature      23.670      26.159      25.502         NaN  \n",
       "\n",
       "[1342 rows x 3239 columns]"
      ]
     },
     "execution_count": 193,
     "metadata": {},
     "output_type": "execute_result"
    }
   ],
   "source": [
    "df_cities"
   ]
  },
  {
   "cell_type": "code",
   "execution_count": 195,
   "metadata": {},
   "outputs": [],
   "source": [
    "DATA = df_cities.set_index(np.array(range(1342)))"
   ]
  },
  {
   "cell_type": "code",
   "execution_count": 199,
   "metadata": {},
   "outputs": [],
   "source": [
    "DATA.T.dropna().T.to_pickle('DATA.pkl')"
   ]
  },
  {
   "cell_type": "code",
   "execution_count": 132,
   "metadata": {},
   "outputs": [
    {
     "data": {
      "text/plain": [
       "dt\n",
       "1856-01-01    21.617\n",
       "1856-02-01    23.896\n",
       "1856-03-01    28.610\n",
       "1856-04-01    31.573\n",
       "1856-05-01    32.705\n",
       "               ...  \n",
       "2013-04-01    32.605\n",
       "2013-05-01    34.403\n",
       "2013-06-01    32.488\n",
       "2013-07-01    29.677\n",
       "2013-08-01    26.918\n",
       "Name: AverageTemperature, Length: 1721, dtype: float64"
      ]
     },
     "execution_count": 132,
     "metadata": {},
     "output_type": "execute_result"
    }
   ],
   "source": [
    "cities = \n",
    "data_temp.loc('')"
   ]
  },
  {
   "cell_type": "code",
   "execution_count": null,
   "metadata": {},
   "outputs": [],
   "source": []
  }
 ],
 "metadata": {
  "kernelspec": {
   "display_name": "Python 3",
   "language": "python",
   "name": "python3"
  },
  "language_info": {
   "codemirror_mode": {
    "name": "ipython",
    "version": 3
   },
   "file_extension": ".py",
   "mimetype": "text/x-python",
   "name": "python",
   "nbconvert_exporter": "python",
   "pygments_lexer": "ipython3",
   "version": "3.8.8"
  }
 },
 "nbformat": 4,
 "nbformat_minor": 4
}
