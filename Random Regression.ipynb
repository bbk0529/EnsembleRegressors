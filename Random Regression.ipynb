{
 "cells": [
  {
   "cell_type": "markdown",
   "metadata": {},
   "source": [
    "# COMPLEXITY "
   ]
  },
  {
   "cell_type": "markdown",
   "metadata": {},
   "source": [
    "Linear regression\n",
    "Calling n the number of observations and p the number of weights, the overall complexity should be n^2p+p^3.\n",
    "\n",
    "\n",
    "random selection \n",
    "max 100 operation \n"
   ]
  },
  {
   "cell_type": "markdown",
   "metadata": {},
   "source": [
    "regression (peudoinverse matrix multiplication operation)\n",
    "\n",
    "n_regressor * n "
   ]
  },
  {
   "cell_type": "markdown",
   "metadata": {},
   "source": [
    "# Data Import / Preprocessing"
   ]
  },
  {
   "cell_type": "code",
   "execution_count": 139,
   "metadata": {},
   "outputs": [],
   "source": [
    "import pandas as pd"
   ]
  },
  {
   "cell_type": "code",
   "execution_count": 140,
   "metadata": {},
   "outputs": [],
   "source": [
    "df = pd.read_pickle('data_india.pkl')\n",
    "df_loc = pd.read_pickle('data_india_location.pkl')"
   ]
  },
  {
   "cell_type": "code",
   "execution_count": 141,
   "metadata": {},
   "outputs": [],
   "source": [
    "df_loc = df_loc.drop_duplicates(subset=['Latitude','Longitude'])"
   ]
  },
  {
   "cell_type": "code",
   "execution_count": 142,
   "metadata": {},
   "outputs": [],
   "source": [
    "df = df.T.loc[df_loc.index]\n",
    "df = df.T.dropna()"
   ]
  },
  {
   "cell_type": "code",
   "execution_count": 143,
   "metadata": {},
   "outputs": [],
   "source": [
    "df = df.T"
   ]
  },
  {
   "cell_type": "code",
   "execution_count": 145,
   "metadata": {},
   "outputs": [],
   "source": [
    "DATA = df.values"
   ]
  },
  {
   "cell_type": "code",
   "execution_count": 180,
   "metadata": {},
   "outputs": [
    {
     "data": {
      "text/plain": [
       "array([[7.0906729 , 7.78274232, 7.3903193 , ..., 7.52351488, 7.05664984,\n",
       "        6.95568829],\n",
       "       [7.78274232, 8.74944302, 8.24131855, ..., 8.39296165, 7.86978869,\n",
       "        7.75224948],\n",
       "       [7.3903193 , 8.24131855, 7.93275931, ..., 8.00278699, 7.51110515,\n",
       "        7.39582025],\n",
       "       ...,\n",
       "       [7.52351488, 8.39296165, 8.00278699, ..., 8.25096069, 7.67251368,\n",
       "        7.55267929],\n",
       "       [7.05664984, 7.86978869, 7.51110515, ..., 7.67251368, 7.29932176,\n",
       "        7.10350405],\n",
       "       [6.95568829, 7.75224948, 7.39582025, ..., 7.55267929, 7.10350405,\n",
       "        7.07868489]])"
      ]
     },
     "execution_count": 180,
     "metadata": {},
     "output_type": "execute_result"
    }
   ],
   "source": [
    "from sklearn.covariance import empirical_covariance"
   ]
  },
  {
   "cell_type": "code",
   "execution_count": 592,
   "metadata": {},
   "outputs": [
    {
     "data": {
      "text/html": [
       "<div>\n",
       "<style scoped>\n",
       "    .dataframe tbody tr th:only-of-type {\n",
       "        vertical-align: middle;\n",
       "    }\n",
       "\n",
       "    .dataframe tbody tr th {\n",
       "        vertical-align: top;\n",
       "    }\n",
       "\n",
       "    .dataframe thead th {\n",
       "        text-align: right;\n",
       "    }\n",
       "</style>\n",
       "<table border=\"1\" class=\"dataframe\">\n",
       "  <thead>\n",
       "    <tr style=\"text-align: right;\">\n",
       "      <th></th>\n",
       "      <th>1816-04-01</th>\n",
       "      <th>1816-05-01</th>\n",
       "      <th>1816-06-01</th>\n",
       "      <th>1816-07-01</th>\n",
       "      <th>1816-08-01</th>\n",
       "      <th>1816-09-01</th>\n",
       "      <th>1816-10-01</th>\n",
       "      <th>1816-11-01</th>\n",
       "      <th>1816-12-01</th>\n",
       "      <th>1817-01-01</th>\n",
       "      <th>...</th>\n",
       "      <th>2012-11-01</th>\n",
       "      <th>2012-12-01</th>\n",
       "      <th>2013-01-01</th>\n",
       "      <th>2013-02-01</th>\n",
       "      <th>2013-03-01</th>\n",
       "      <th>2013-04-01</th>\n",
       "      <th>2013-05-01</th>\n",
       "      <th>2013-06-01</th>\n",
       "      <th>2013-07-01</th>\n",
       "      <th>2013-08-01</th>\n",
       "    </tr>\n",
       "    <tr>\n",
       "      <th>City</th>\n",
       "      <th></th>\n",
       "      <th></th>\n",
       "      <th></th>\n",
       "      <th></th>\n",
       "      <th></th>\n",
       "      <th></th>\n",
       "      <th></th>\n",
       "      <th></th>\n",
       "      <th></th>\n",
       "      <th></th>\n",
       "      <th></th>\n",
       "      <th></th>\n",
       "      <th></th>\n",
       "      <th></th>\n",
       "      <th></th>\n",
       "      <th></th>\n",
       "      <th></th>\n",
       "      <th></th>\n",
       "      <th></th>\n",
       "      <th></th>\n",
       "      <th></th>\n",
       "    </tr>\n",
       "  </thead>\n",
       "  <tbody>\n",
       "    <tr>\n",
       "      <th>Abohar</th>\n",
       "      <td>26.641</td>\n",
       "      <td>32.535</td>\n",
       "      <td>33.254</td>\n",
       "      <td>31.105</td>\n",
       "      <td>30.429</td>\n",
       "      <td>27.903</td>\n",
       "      <td>22.144</td>\n",
       "      <td>17.236</td>\n",
       "      <td>12.092</td>\n",
       "      <td>11.604</td>\n",
       "      <td>...</td>\n",
       "      <td>20.085</td>\n",
       "      <td>14.650</td>\n",
       "      <td>12.664</td>\n",
       "      <td>16.055</td>\n",
       "      <td>21.868</td>\n",
       "      <td>28.265</td>\n",
       "      <td>34.354</td>\n",
       "      <td>35.018</td>\n",
       "      <td>33.771</td>\n",
       "      <td>31.749</td>\n",
       "    </tr>\n",
       "    <tr>\n",
       "      <th>Achalpur</th>\n",
       "      <td>29.992</td>\n",
       "      <td>33.366</td>\n",
       "      <td>30.283</td>\n",
       "      <td>25.152</td>\n",
       "      <td>24.565</td>\n",
       "      <td>24.662</td>\n",
       "      <td>22.810</td>\n",
       "      <td>20.707</td>\n",
       "      <td>18.010</td>\n",
       "      <td>18.490</td>\n",
       "      <td>...</td>\n",
       "      <td>22.524</td>\n",
       "      <td>21.036</td>\n",
       "      <td>19.405</td>\n",
       "      <td>22.741</td>\n",
       "      <td>26.992</td>\n",
       "      <td>31.185</td>\n",
       "      <td>35.341</td>\n",
       "      <td>29.164</td>\n",
       "      <td>26.192</td>\n",
       "      <td>25.916</td>\n",
       "    </tr>\n",
       "    <tr>\n",
       "      <th>Adilabad</th>\n",
       "      <td>31.297</td>\n",
       "      <td>34.422</td>\n",
       "      <td>31.229</td>\n",
       "      <td>26.024</td>\n",
       "      <td>25.488</td>\n",
       "      <td>25.648</td>\n",
       "      <td>23.946</td>\n",
       "      <td>21.885</td>\n",
       "      <td>19.707</td>\n",
       "      <td>20.767</td>\n",
       "      <td>...</td>\n",
       "      <td>23.915</td>\n",
       "      <td>22.872</td>\n",
       "      <td>22.492</td>\n",
       "      <td>25.306</td>\n",
       "      <td>29.050</td>\n",
       "      <td>32.706</td>\n",
       "      <td>36.856</td>\n",
       "      <td>30.330</td>\n",
       "      <td>27.324</td>\n",
       "      <td>26.980</td>\n",
       "    </tr>\n",
       "    <tr>\n",
       "      <th>Adoni</th>\n",
       "      <td>30.342</td>\n",
       "      <td>31.433</td>\n",
       "      <td>28.569</td>\n",
       "      <td>25.323</td>\n",
       "      <td>25.330</td>\n",
       "      <td>25.030</td>\n",
       "      <td>23.744</td>\n",
       "      <td>23.335</td>\n",
       "      <td>21.654</td>\n",
       "      <td>22.455</td>\n",
       "      <td>...</td>\n",
       "      <td>25.434</td>\n",
       "      <td>24.806</td>\n",
       "      <td>25.435</td>\n",
       "      <td>27.426</td>\n",
       "      <td>30.693</td>\n",
       "      <td>33.048</td>\n",
       "      <td>33.602</td>\n",
       "      <td>29.279</td>\n",
       "      <td>27.500</td>\n",
       "      <td>27.524</td>\n",
       "    </tr>\n",
       "    <tr>\n",
       "      <th>Agartala</th>\n",
       "      <td>26.449</td>\n",
       "      <td>28.121</td>\n",
       "      <td>27.665</td>\n",
       "      <td>26.207</td>\n",
       "      <td>26.918</td>\n",
       "      <td>25.785</td>\n",
       "      <td>23.720</td>\n",
       "      <td>20.814</td>\n",
       "      <td>17.306</td>\n",
       "      <td>17.216</td>\n",
       "      <td>...</td>\n",
       "      <td>23.444</td>\n",
       "      <td>18.789</td>\n",
       "      <td>17.009</td>\n",
       "      <td>21.961</td>\n",
       "      <td>26.410</td>\n",
       "      <td>28.242</td>\n",
       "      <td>27.854</td>\n",
       "      <td>29.664</td>\n",
       "      <td>28.926</td>\n",
       "      <td>28.381</td>\n",
       "    </tr>\n",
       "    <tr>\n",
       "      <th>...</th>\n",
       "      <td>...</td>\n",
       "      <td>...</td>\n",
       "      <td>...</td>\n",
       "      <td>...</td>\n",
       "      <td>...</td>\n",
       "      <td>...</td>\n",
       "      <td>...</td>\n",
       "      <td>...</td>\n",
       "      <td>...</td>\n",
       "      <td>...</td>\n",
       "      <td>...</td>\n",
       "      <td>...</td>\n",
       "      <td>...</td>\n",
       "      <td>...</td>\n",
       "      <td>...</td>\n",
       "      <td>...</td>\n",
       "      <td>...</td>\n",
       "      <td>...</td>\n",
       "      <td>...</td>\n",
       "      <td>...</td>\n",
       "      <td>...</td>\n",
       "    </tr>\n",
       "    <tr>\n",
       "      <th>Raigarh</th>\n",
       "      <td>30.104</td>\n",
       "      <td>33.129</td>\n",
       "      <td>30.689</td>\n",
       "      <td>26.069</td>\n",
       "      <td>25.713</td>\n",
       "      <td>25.383</td>\n",
       "      <td>23.606</td>\n",
       "      <td>20.574</td>\n",
       "      <td>17.963</td>\n",
       "      <td>18.940</td>\n",
       "      <td>...</td>\n",
       "      <td>22.624</td>\n",
       "      <td>20.644</td>\n",
       "      <td>20.166</td>\n",
       "      <td>23.226</td>\n",
       "      <td>28.027</td>\n",
       "      <td>31.341</td>\n",
       "      <td>34.786</td>\n",
       "      <td>30.760</td>\n",
       "      <td>28.045</td>\n",
       "      <td>27.735</td>\n",
       "    </tr>\n",
       "    <tr>\n",
       "      <th>Raurkela</th>\n",
       "      <td>28.871</td>\n",
       "      <td>31.299</td>\n",
       "      <td>29.621</td>\n",
       "      <td>26.083</td>\n",
       "      <td>25.972</td>\n",
       "      <td>25.137</td>\n",
       "      <td>23.318</td>\n",
       "      <td>20.170</td>\n",
       "      <td>17.400</td>\n",
       "      <td>18.324</td>\n",
       "      <td>...</td>\n",
       "      <td>22.435</td>\n",
       "      <td>19.932</td>\n",
       "      <td>19.324</td>\n",
       "      <td>22.774</td>\n",
       "      <td>27.803</td>\n",
       "      <td>30.586</td>\n",
       "      <td>32.528</td>\n",
       "      <td>29.784</td>\n",
       "      <td>28.173</td>\n",
       "      <td>27.896</td>\n",
       "    </tr>\n",
       "    <tr>\n",
       "      <th>Shillong</th>\n",
       "      <td>23.552</td>\n",
       "      <td>25.526</td>\n",
       "      <td>25.940</td>\n",
       "      <td>25.321</td>\n",
       "      <td>26.141</td>\n",
       "      <td>24.613</td>\n",
       "      <td>22.191</td>\n",
       "      <td>19.662</td>\n",
       "      <td>16.419</td>\n",
       "      <td>16.111</td>\n",
       "      <td>...</td>\n",
       "      <td>21.909</td>\n",
       "      <td>18.013</td>\n",
       "      <td>16.376</td>\n",
       "      <td>21.109</td>\n",
       "      <td>24.618</td>\n",
       "      <td>25.467</td>\n",
       "      <td>25.495</td>\n",
       "      <td>28.416</td>\n",
       "      <td>27.998</td>\n",
       "      <td>27.555</td>\n",
       "    </tr>\n",
       "    <tr>\n",
       "      <th>Srinagar</th>\n",
       "      <td>8.999</td>\n",
       "      <td>14.491</td>\n",
       "      <td>16.992</td>\n",
       "      <td>17.522</td>\n",
       "      <td>17.554</td>\n",
       "      <td>13.754</td>\n",
       "      <td>7.057</td>\n",
       "      <td>3.073</td>\n",
       "      <td>-1.443</td>\n",
       "      <td>-2.413</td>\n",
       "      <td>...</td>\n",
       "      <td>6.162</td>\n",
       "      <td>1.346</td>\n",
       "      <td>-1.433</td>\n",
       "      <td>1.832</td>\n",
       "      <td>6.852</td>\n",
       "      <td>11.008</td>\n",
       "      <td>15.715</td>\n",
       "      <td>19.680</td>\n",
       "      <td>20.416</td>\n",
       "      <td>19.048</td>\n",
       "    </tr>\n",
       "    <tr>\n",
       "      <th>Visakhapatnam</th>\n",
       "      <td>27.754</td>\n",
       "      <td>30.008</td>\n",
       "      <td>28.089</td>\n",
       "      <td>24.585</td>\n",
       "      <td>24.441</td>\n",
       "      <td>24.005</td>\n",
       "      <td>22.579</td>\n",
       "      <td>20.578</td>\n",
       "      <td>18.363</td>\n",
       "      <td>19.333</td>\n",
       "      <td>...</td>\n",
       "      <td>22.708</td>\n",
       "      <td>21.328</td>\n",
       "      <td>21.565</td>\n",
       "      <td>23.880</td>\n",
       "      <td>27.324</td>\n",
       "      <td>29.577</td>\n",
       "      <td>31.887</td>\n",
       "      <td>28.059</td>\n",
       "      <td>26.139</td>\n",
       "      <td>26.605</td>\n",
       "    </tr>\n",
       "  </tbody>\n",
       "</table>\n",
       "<p>97 rows × 2025 columns</p>\n",
       "</div>"
      ],
      "text/plain": [
       "               1816-04-01  1816-05-01  1816-06-01  1816-07-01  1816-08-01  \\\n",
       "City                                                                        \n",
       "Abohar             26.641      32.535      33.254      31.105      30.429   \n",
       "Achalpur           29.992      33.366      30.283      25.152      24.565   \n",
       "Adilabad           31.297      34.422      31.229      26.024      25.488   \n",
       "Adoni              30.342      31.433      28.569      25.323      25.330   \n",
       "Agartala           26.449      28.121      27.665      26.207      26.918   \n",
       "...                   ...         ...         ...         ...         ...   \n",
       "Raigarh            30.104      33.129      30.689      26.069      25.713   \n",
       "Raurkela           28.871      31.299      29.621      26.083      25.972   \n",
       "Shillong           23.552      25.526      25.940      25.321      26.141   \n",
       "Srinagar            8.999      14.491      16.992      17.522      17.554   \n",
       "Visakhapatnam      27.754      30.008      28.089      24.585      24.441   \n",
       "\n",
       "               1816-09-01  1816-10-01  1816-11-01  1816-12-01  1817-01-01  \\\n",
       "City                                                                        \n",
       "Abohar             27.903      22.144      17.236      12.092      11.604   \n",
       "Achalpur           24.662      22.810      20.707      18.010      18.490   \n",
       "Adilabad           25.648      23.946      21.885      19.707      20.767   \n",
       "Adoni              25.030      23.744      23.335      21.654      22.455   \n",
       "Agartala           25.785      23.720      20.814      17.306      17.216   \n",
       "...                   ...         ...         ...         ...         ...   \n",
       "Raigarh            25.383      23.606      20.574      17.963      18.940   \n",
       "Raurkela           25.137      23.318      20.170      17.400      18.324   \n",
       "Shillong           24.613      22.191      19.662      16.419      16.111   \n",
       "Srinagar           13.754       7.057       3.073      -1.443      -2.413   \n",
       "Visakhapatnam      24.005      22.579      20.578      18.363      19.333   \n",
       "\n",
       "               ...  2012-11-01  2012-12-01  2013-01-01  2013-02-01  \\\n",
       "City           ...                                                   \n",
       "Abohar         ...      20.085      14.650      12.664      16.055   \n",
       "Achalpur       ...      22.524      21.036      19.405      22.741   \n",
       "Adilabad       ...      23.915      22.872      22.492      25.306   \n",
       "Adoni          ...      25.434      24.806      25.435      27.426   \n",
       "Agartala       ...      23.444      18.789      17.009      21.961   \n",
       "...            ...         ...         ...         ...         ...   \n",
       "Raigarh        ...      22.624      20.644      20.166      23.226   \n",
       "Raurkela       ...      22.435      19.932      19.324      22.774   \n",
       "Shillong       ...      21.909      18.013      16.376      21.109   \n",
       "Srinagar       ...       6.162       1.346      -1.433       1.832   \n",
       "Visakhapatnam  ...      22.708      21.328      21.565      23.880   \n",
       "\n",
       "               2013-03-01  2013-04-01  2013-05-01  2013-06-01  2013-07-01  \\\n",
       "City                                                                        \n",
       "Abohar             21.868      28.265      34.354      35.018      33.771   \n",
       "Achalpur           26.992      31.185      35.341      29.164      26.192   \n",
       "Adilabad           29.050      32.706      36.856      30.330      27.324   \n",
       "Adoni              30.693      33.048      33.602      29.279      27.500   \n",
       "Agartala           26.410      28.242      27.854      29.664      28.926   \n",
       "...                   ...         ...         ...         ...         ...   \n",
       "Raigarh            28.027      31.341      34.786      30.760      28.045   \n",
       "Raurkela           27.803      30.586      32.528      29.784      28.173   \n",
       "Shillong           24.618      25.467      25.495      28.416      27.998   \n",
       "Srinagar            6.852      11.008      15.715      19.680      20.416   \n",
       "Visakhapatnam      27.324      29.577      31.887      28.059      26.139   \n",
       "\n",
       "               2013-08-01  \n",
       "City                       \n",
       "Abohar             31.749  \n",
       "Achalpur           25.916  \n",
       "Adilabad           26.980  \n",
       "Adoni              27.524  \n",
       "Agartala           28.381  \n",
       "...                   ...  \n",
       "Raigarh            27.735  \n",
       "Raurkela           27.896  \n",
       "Shillong           27.555  \n",
       "Srinagar           19.048  \n",
       "Visakhapatnam      26.605  \n",
       "\n",
       "[97 rows x 2025 columns]"
      ]
     },
     "execution_count": 592,
     "metadata": {},
     "output_type": "execute_result"
    }
   ],
   "source": [
    "df"
   ]
  },
  {
   "cell_type": "code",
   "execution_count": 286,
   "metadata": {},
   "outputs": [
    {
     "data": {
      "text/plain": [
       "(2025, 10001)"
      ]
     },
     "execution_count": 286,
     "metadata": {},
     "output_type": "execute_result"
    }
   ],
   "source": [
    "DATA.T.shape"
   ]
  },
  {
   "cell_type": "code",
   "execution_count": 569,
   "metadata": {},
   "outputs": [],
   "source": [
    "D = D[:,-100:]"
   ]
  },
  {
   "cell_type": "code",
   "execution_count": 570,
   "metadata": {},
   "outputs": [],
   "source": [
    "D = DATA[:,-100:]\n",
    "cov = empirical_covariance(D.T)"
   ]
  },
  {
   "cell_type": "code",
   "execution_count": 593,
   "metadata": {},
   "outputs": [],
   "source": [
    "D = df.values[:,-50:-12]\n",
    "cov = empirical_covariance(D.T)"
   ]
  },
  {
   "cell_type": "code",
   "execution_count": 601,
   "metadata": {},
   "outputs": [],
   "source": [
    "a = np.array([1,2,3,4])"
   ]
  },
  {
   "cell_type": "code",
   "execution_count": 605,
   "metadata": {},
   "outputs": [
    {
     "data": {
      "text/plain": [
       "(array([0]),)"
      ]
     },
     "execution_count": 605,
     "metadata": {},
     "output_type": "execute_result"
    }
   ],
   "source": [
    "np.where(a==1)"
   ]
  },
  {
   "cell_type": "code",
   "execution_count": 688,
   "metadata": {},
   "outputs": [],
   "source": [
    "def correlation_from_covariance(covariance):\n",
    "    v = np.sqrt(np.diag(covariance))\n",
    "    outer_v = np.outer(v, v)\n",
    "    correlation = covariance / outer_v\n",
    "    correlation[covariance == 0] = 0\n",
    "    return correlation"
   ]
  },
  {
   "cell_type": "code",
   "execution_count": 689,
   "metadata": {
    "scrolled": true
   },
   "outputs": [
    {
     "data": {
      "text/plain": [
       "array([[1.        , 0.86054558, 0.80917621, ..., 0.94833397, 0.96572033,\n",
       "        0.86132672],\n",
       "       [0.86054558, 1.        , 0.99181348, ..., 0.75419317, 0.71297913,\n",
       "        0.97581538],\n",
       "       [0.80917621, 0.99181348, 1.        , ..., 0.69119154, 0.64313742,\n",
       "        0.97776014],\n",
       "       ...,\n",
       "       [0.94833397, 0.75419317, 0.69119154, ..., 1.        , 0.9545265 ,\n",
       "        0.78476251],\n",
       "       [0.96572033, 0.71297913, 0.64313742, ..., 0.9545265 , 1.        ,\n",
       "        0.72382805],\n",
       "       [0.86132672, 0.97581538, 0.97776014, ..., 0.78476251, 0.72382805,\n",
       "        1.        ]])"
      ]
     },
     "execution_count": 689,
     "metadata": {},
     "output_type": "execute_result"
    }
   ],
   "source": [
    "correlation_from_covariance(cov)"
   ]
  },
  {
   "cell_type": "code",
   "execution_count": 701,
   "metadata": {
    "scrolled": true
   },
   "outputs": [
    {
     "name": "stdout",
     "output_type": "stream",
     "text": [
      "95.9410158627795\n"
     ]
    }
   ],
   "source": [
    "# rd = random.choice(range(len(D)))\n",
    "result=[]\n",
    "cov = correlation_from_covariance(cov)\n",
    "k=3\n",
    "start=time.time()\n",
    "lst = []\n",
    "n=0\n",
    "s=0\n",
    "#     k=10\n",
    "for i in range(len(D)) : \n",
    "    rd = i \n",
    "    idx = (-cov[rd]).argsort()[:k]\n",
    "    idx[np.where(idx==rd)] = (-cov[rd]).argsort()[k]\n",
    "    reg = LinearRegression().fit(\n",
    "        D[idx].T, D[rd]\n",
    "    )\n",
    "    scr = reg.score(\n",
    "        D[idx].T, D[rd]\n",
    "    )\n",
    "#     print(i,scr)\n",
    "    s+=scr\n",
    "print(s)"
   ]
  },
  {
   "cell_type": "code",
   "execution_count": 702,
   "metadata": {
    "scrolled": true
   },
   "outputs": [
    {
     "name": "stdout",
     "output_type": "stream",
     "text": [
      "90.67623419617043\n"
     ]
    }
   ],
   "source": [
    "# rd = random.choice(range(len(D)))\n",
    "result=[]\n",
    "cov = empirical_covariance(D.T)\n",
    "k=3\n",
    "start=time.time()\n",
    "lst = []\n",
    "n=0\n",
    "s=0\n",
    "#     k=10\n",
    "for i in range(len(D)) : \n",
    "    rd = i \n",
    "    idx = (-cov[rd]).argsort()[:k]\n",
    "    idx[np.where(idx==rd)] = (-cov[rd]).argsort()[k]\n",
    "    reg = LinearRegression().fit(\n",
    "        D[idx].T, D[rd]\n",
    "    )\n",
    "    scr = reg.score(\n",
    "        D[idx].T, D[rd]\n",
    "    )\n",
    "    s+=scr\n",
    "print(s)"
   ]
  },
  {
   "cell_type": "code",
   "execution_count": 691,
   "metadata": {},
   "outputs": [
    {
     "data": {
      "text/plain": [
       "[<matplotlib.lines.Line2D at 0x7fc61f6e1ca0>]"
      ]
     },
     "execution_count": 691,
     "metadata": {},
     "output_type": "execute_result"
    },
    {
     "data": {
      "image/png": "[encoded data removed]",
      "text/plain": [
       "<Figure size 432x288 with 1 Axes>"
      ]
     },
     "metadata": {
      "needs_background": "light"
     },
     "output_type": "display_data"
    }
   ],
   "source": [
    "plt.plot(np.array(result)[:,0])"
   ]
  },
  {
   "cell_type": "code",
   "execution_count": 684,
   "metadata": {},
   "outputs": [
    {
     "data": {
      "text/plain": [
       "[<matplotlib.lines.Line2D at 0x7fc61f7cf0d0>]"
      ]
     },
     "execution_count": 684,
     "metadata": {},
     "output_type": "execute_result"
    },
    {
     "data": {
      "image/png": "[encoded data removed]",
      "text/plain": [
       "<Figure size 432x288 with 1 Axes>"
      ]
     },
     "metadata": {
      "needs_background": "light"
     },
     "output_type": "display_data"
    }
   ],
   "source": [
    "plt.plot(np.array(result)[:,1])"
   ]
  },
  {
   "cell_type": "code",
   "execution_count": 658,
   "metadata": {},
   "outputs": [
    {
     "name": "stderr",
     "output_type": "stream",
     "text": [
      "<ipython-input-658-2778f8d1b235>:1: VisibleDeprecationWarning: Creating an ndarray from ragged nested sequences (which is a list-or-tuple of lists-or-tuples-or ndarrays with different lengths or shapes) is deprecated. If you meant to do this, you must specify 'dtype=object' when creating the ndarray\n",
      "  np.array(lst)[:,-1].sum()\n"
     ]
    },
    {
     "data": {
      "text/plain": [
       "92.60725123277767"
      ]
     },
     "execution_count": 658,
     "metadata": {},
     "output_type": "execute_result"
    }
   ],
   "source": [
    "np.array(lst)[:,-1].sum()"
   ]
  },
  {
   "cell_type": "code",
   "execution_count": 648,
   "metadata": {},
   "outputs": [
    {
     "data": {
      "text/plain": [
       "array([  96.55400054,  112.1123856 ,  175.80674302,  237.60631531,\n",
       "        387.29569816,  444.0278866 ,  505.31494593,  541.18027106,\n",
       "        556.50707906,  567.57321168,  573.65029226,  720.17260399,\n",
       "        778.16612559,  796.8415484 ,  883.0357391 ,  899.31985659,\n",
       "        914.65833743,  930.05799262,  960.35633088,  964.4390612 ,\n",
       "       1019.85998339, 1029.24808767, 1048.57878548, 1080.37381098,\n",
       "       1096.02681424, 1172.56709036, 1184.27644523, 1204.66458628,\n",
       "       1207.73015785, 1266.05149161, 1269.13718053, 1290.52935646,\n",
       "       1301.68923872, 1305.92383355, 1351.98746044, 1356.88625254,\n",
       "       1360.25671248, 1419.0508002 , 1419.63805452, 1439.3223622 ,\n",
       "       1453.25133046, 1463.87223189, 1480.52620254, 1498.44745978,\n",
       "       1551.12577021, 1551.76426843, 1562.64246806, 1564.21169405,\n",
       "       1566.50115999, 1575.90865611, 1581.2858591 , 1639.18676758,\n",
       "       1643.20689548, 1645.8902287 , 1663.45810968, 1663.73230125,\n",
       "       1684.35743507, 1719.42414871, 1719.68780567, 1755.98998375,\n",
       "       1775.29425168, 1785.28449236, 1820.81682785, 1866.85297726,\n",
       "       1875.02066647, 1879.95180094, 1927.84733225, 1937.22638261,\n",
       "       1952.15767144, 2021.40897113, 2030.78725285, 2056.565461  ,\n",
       "       2136.18936547, 2188.48178274, 2258.04448206, 2271.17729407,\n",
       "       2281.94501528, 2302.15887894, 2340.59319171, 2380.6557436 ,\n",
       "       2393.81157685, 2405.20158286, 2416.94380892, 2418.61705429,\n",
       "       2501.89260779, 2530.07698479, 2536.98159303, 2548.40504345,\n",
       "       2572.96997984, 2606.433962  , 2654.99772674, 2657.70593807,\n",
       "       2694.85814561, 2756.98167321, 2774.3825227 , 2893.80991166,\n",
       "       2973.19470439])"
      ]
     },
     "execution_count": 648,
     "metadata": {},
     "output_type": "execute_result"
    }
   ],
   "source": [
    "z = cov.sum(axis=0)\n",
    "ord_ = z.argsort()\n",
    "z[ord_]\n"
   ]
  },
  {
   "cell_type": "code",
   "execution_count": 654,
   "metadata": {},
   "outputs": [
    {
     "data": {
      "text/plain": [
       "array([-0.24813682,  2.1415249 ,  2.35833273,  2.0856026 ,  0.37010494,\n",
       "        0.97161408,  1.32301576,  1.95142792,  0.42098819,  1.0872858 ,\n",
       "        2.36531348,  0.48874458,  1.29839954,  0.51872718,  1.21057989,\n",
       "        0.30111327,  0.22571098,  1.10793843, -0.33301418,  0.6148695 ,\n",
       "        1.04969194,  1.36008898,  2.23714442,  0.69310551,  0.42704347,\n",
       "        0.8903693 ,  0.26815133,  0.89447324,  0.34220973,  1.30884016,\n",
       "        1.55423956,  0.08482888,  2.33504469,  0.84425759,  0.84185721,\n",
       "        1.44091669,  1.83814123,  1.06532878,  1.50918163,  1.11311488,\n",
       "        2.19140779,  1.54653626,  0.89719058,  1.59542517,  0.49836156,\n",
       "        2.11933196,  1.53598443,  0.58191278,  1.90615681,  2.40465778,\n",
       "        2.07722326,  0.24673125,  0.39978534, -0.51309855,  2.23672119,\n",
       "        1.93037524,  1.51174419,  2.00558508, -0.08639318, -0.40656101,\n",
       "        1.07940754,  1.83980368, -1.37997772, -0.88816314,  0.84981623,\n",
       "        2.27703965,  1.42655851,  0.75303902,  2.06971845,  1.07113629,\n",
       "        1.6047301 ,  0.69979492, -0.55207353,  2.31942684,  1.6538863 ,\n",
       "       -0.88204807, -0.2244362 ,  1.55057791,  2.08936741,  1.37114516,\n",
       "       -0.3847145 , -0.68293923, -1.33678837,  2.16048916,  1.16536031,\n",
       "        1.48229031,  1.67319572,  0.7477452 , -0.55434905,  1.87138703,\n",
       "        1.50019613,  0.3842172 ,  2.01786171,  1.61203719, -0.43453703,\n",
       "       -2.03429618,  1.60084569])"
      ]
     },
     "execution_count": 654,
     "metadata": {},
     "output_type": "execute_result"
    }
   ],
   "source": [
    "cov[12]"
   ]
  },
  {
   "cell_type": "code",
   "execution_count": 653,
   "metadata": {},
   "outputs": [
    {
     "data": {
      "text/plain": [
       "12"
      ]
     },
     "execution_count": 653,
     "metadata": {},
     "output_type": "execute_result"
    }
   ],
   "source": [
    "ord_[0]"
   ]
  },
  {
   "cell_type": "code",
   "execution_count": 652,
   "metadata": {},
   "outputs": [
    {
     "data": {
      "text/plain": [
       "[12, array([49, 10,  2, 32, 73]), 0.9058029080658745]"
      ]
     },
     "execution_count": 652,
     "metadata": {},
     "output_type": "execute_result"
    }
   ],
   "source": [
    "lst[ord_[0]]"
   ]
  },
  {
   "cell_type": "code",
   "execution_count": 642,
   "metadata": {},
   "outputs": [
    {
     "data": {
      "text/plain": [
       "[<matplotlib.lines.Line2D at 0x7fc61f9776d0>]"
      ]
     },
     "execution_count": 642,
     "metadata": {},
     "output_type": "execute_result"
    },
    {
     "data": {
      "image/png": "[encoded data removed]",
      "text/plain": [
       "<Figure size 432x288 with 1 Axes>"
      ]
     },
     "metadata": {
      "needs_background": "light"
     },
     "output_type": "display_data"
    }
   ],
   "source": [
    "plt.plot(cov[91][(-cov[91]).argsort()].cumsum())"
   ]
  },
  {
   "cell_type": "code",
   "execution_count": null,
   "metadata": {},
   "outputs": [],
   "source": [
    "(-cov[rd]).argsort()[:5]"
   ]
  },
  {
   "cell_type": "code",
   "execution_count": 591,
   "metadata": {
    "scrolled": true
   },
   "outputs": [
    {
     "data": {
      "text/plain": [
       "[<matplotlib.lines.Line2D at 0x7fc61fa32be0>]"
      ]
     },
     "execution_count": 591,
     "metadata": {},
     "output_type": "execute_result"
    },
    {
     "data": {
      "image/png": "[encoded data removed]",
      "text/plain": [
       "<Figure size 1152x504 with 1 Axes>"
      ]
     },
     "metadata": {
      "needs_background": "light"
     },
     "output_type": "display_data"
    }
   ],
   "source": [
    "plt.figure(figsize=(16,7))\n",
    "plt.plot(D[91])"
   ]
  },
  {
   "cell_type": "code",
   "execution_count": 541,
   "metadata": {},
   "outputs": [
    {
     "data": {
      "text/plain": [
       "[<matplotlib.lines.Line2D at 0x7fc6240d0910>]"
      ]
     },
     "execution_count": 541,
     "metadata": {},
     "output_type": "execute_result"
    },
    {
     "data": {
      "image/png": "[encoded data removed]",
      "text/plain": [
       "<Figure size 1152x504 with 1 Axes>"
      ]
     },
     "metadata": {
      "needs_background": "light"
     },
     "output_type": "display_data"
    }
   ],
   "source": [
    "plt.figure(figsize=(16,7))\n",
    "plt.plot(D[1])"
   ]
  },
  {
   "cell_type": "code",
   "execution_count": 506,
   "metadata": {},
   "outputs": [
    {
     "data": {
      "text/plain": [
       "1816-04-01    27.198\n",
       "1816-05-01    28.127\n",
       "1816-06-01    26.915\n",
       "1816-07-01    25.616\n",
       "1816-08-01    26.261\n",
       "               ...  \n",
       "2013-04-01    29.603\n",
       "2013-05-01    29.520\n",
       "2013-06-01    28.208\n",
       "2013-07-01    27.881\n",
       "2013-08-01    28.480\n",
       "Name: Port Blair, Length: 2025, dtype: float64"
      ]
     },
     "execution_count": 506,
     "metadata": {},
     "output_type": "execute_result"
    }
   ],
   "source": [
    "df.iloc[91]"
   ]
  },
  {
   "cell_type": "code",
   "execution_count": null,
   "metadata": {},
   "outputs": [],
   "source": []
  },
  {
   "cell_type": "code",
   "execution_count": 463,
   "metadata": {},
   "outputs": [],
   "source": []
  },
  {
   "cell_type": "code",
   "execution_count": 464,
   "metadata": {},
   "outputs": [],
   "source": []
  },
  {
   "cell_type": "code",
   "execution_count": 465,
   "metadata": {},
   "outputs": [
    {
     "data": {
      "text/plain": [
       "0.9723749881478515"
      ]
     },
     "execution_count": 465,
     "metadata": {},
     "output_type": "execute_result"
    }
   ],
   "source": []
  },
  {
   "cell_type": "code",
   "execution_count": null,
   "metadata": {},
   "outputs": [],
   "source": []
  },
  {
   "cell_type": "code",
   "execution_count": null,
   "metadata": {},
   "outputs": [],
   "source": []
  },
  {
   "cell_type": "code",
   "execution_count": 267,
   "metadata": {},
   "outputs": [],
   "source": [
    "cov_10000 = empirical_covariance(DATA.T)"
   ]
  },
  {
   "cell_type": "code",
   "execution_count": 275,
   "metadata": {},
   "outputs": [
    {
     "data": {
      "text/plain": [
       "(10001, 10001)"
      ]
     },
     "execution_count": 275,
     "metadata": {},
     "output_type": "execute_result"
    }
   ],
   "source": [
    "np.matmul(DATA, DATA.T).shape"
   ]
  },
  {
   "cell_type": "code",
   "execution_count": 281,
   "metadata": {},
   "outputs": [
    {
     "data": {
      "text/plain": [
       "array([ 0, 31, 51])"
      ]
     },
     "execution_count": 281,
     "metadata": {},
     "output_type": "execute_result"
    }
   ],
   "source": [
    "(-cov_10000[4]).argsort()[:3]"
   ]
  },
  {
   "cell_type": "code",
   "execution_count": 258,
   "metadata": {},
   "outputs": [
    {
     "data": {
      "text/plain": [
       "[<matplotlib.lines.Line2D at 0x7fc626675ac0>]"
      ]
     },
     "execution_count": 258,
     "metadata": {},
     "output_type": "execute_result"
    },
    {
     "data": {
      "image/png": "[encoded data removed]",
      "text/plain": [
       "<Figure size 432x288 with 1 Axes>"
      ]
     },
     "metadata": {
      "needs_background": "light"
     },
     "output_type": "display_data"
    }
   ],
   "source": [
    "plt.plot(cov[rd])"
   ]
  },
  {
   "cell_type": "code",
   "execution_count": 199,
   "metadata": {},
   "outputs": [
    {
     "ename": "TypeError",
     "evalue": "'k' is an invalid keyword argument for argmax()",
     "output_type": "error",
     "traceback": [
      "\u001b[0;31m---------------------------------------------------------------------------\u001b[0m",
      "\u001b[0;31mTypeError\u001b[0m                                 Traceback (most recent call last)",
      "\u001b[0;32m<ipython-input-199-71b9413fd30a>\u001b[0m in \u001b[0;36m<module>\u001b[0;34m\u001b[0m\n\u001b[0;32m----> 1\u001b[0;31m \u001b[0mcov\u001b[0m\u001b[0;34m[\u001b[0m\u001b[0;36m0\u001b[0m\u001b[0;34m]\u001b[0m\u001b[0;34m.\u001b[0m\u001b[0margmax\u001b[0m\u001b[0;34m(\u001b[0m\u001b[0mk\u001b[0m\u001b[0;34m=\u001b[0m\u001b[0;36m5\u001b[0m\u001b[0;34m)\u001b[0m\u001b[0;34m\u001b[0m\u001b[0;34m\u001b[0m\u001b[0m\n\u001b[0m",
      "\u001b[0;31mTypeError\u001b[0m: 'k' is an invalid keyword argument for argmax()"
     ]
    }
   ],
   "source": [
    "cov[0].argmax(k=5)"
   ]
  },
  {
   "cell_type": "code",
   "execution_count": 175,
   "metadata": {},
   "outputs": [
    {
     "data": {
      "text/plain": [
       "0.00015048400878725499"
      ]
     },
     "execution_count": 175,
     "metadata": {},
     "output_type": "execute_result"
    }
   ],
   "source": [
    "idx = random.choices(range(10000), k=3)\n",
    "reg = LinearRegression().fit(\n",
    "    DATA[idx[:2]].T, DATA[idx[-1]]\n",
    ")\n",
    "reg.score(DATA[idx[:2]].T, DATA[idx[-1]])"
   ]
  },
  {
   "cell_type": "code",
   "execution_count": 159,
   "metadata": {},
   "outputs": [
    {
     "data": {
      "text/plain": [
       "97"
      ]
     },
     "execution_count": 159,
     "metadata": {},
     "output_type": "execute_result"
    }
   ],
   "source": [
    "len(DATA)"
   ]
  },
  {
   "cell_type": "code",
   "execution_count": 160,
   "metadata": {},
   "outputs": [],
   "source": [
    "while True : \n",
    "    DATA = np.vstack(\n",
    "        (DATA, np.random.rand(2025))\n",
    "    )\n",
    "    if len(DATA) > 10000 : \n",
    "        break\n",
    "        "
   ]
  },
  {
   "cell_type": "code",
   "execution_count": 161,
   "metadata": {},
   "outputs": [
    {
     "data": {
      "text/plain": [
       "array([[2.66410000e+01, 3.25350000e+01, 3.32540000e+01, ...,\n",
       "        3.50180000e+01, 3.37710000e+01, 3.17490000e+01],\n",
       "       [2.99920000e+01, 3.33660000e+01, 3.02830000e+01, ...,\n",
       "        2.91640000e+01, 2.61920000e+01, 2.59160000e+01],\n",
       "       [3.12970000e+01, 3.44220000e+01, 3.12290000e+01, ...,\n",
       "        3.03300000e+01, 2.73240000e+01, 2.69800000e+01],\n",
       "       ...,\n",
       "       [1.60142807e-01, 2.53548769e-01, 8.91011203e-01, ...,\n",
       "        2.32877403e-01, 9.94379184e-01, 2.04696172e-01],\n",
       "       [2.18911216e-01, 9.04404770e-01, 9.79487133e-01, ...,\n",
       "        6.43237454e-02, 2.81958231e-01, 9.89250090e-01],\n",
       "       [8.64639938e-01, 8.14385788e-01, 9.44548683e-01, ...,\n",
       "        3.78901377e-01, 1.44900011e-01, 1.30360321e-03]])"
      ]
     },
     "execution_count": 161,
     "metadata": {},
     "output_type": "execute_result"
    }
   ],
   "source": [
    "DATA"
   ]
  },
  {
   "cell_type": "code",
   "execution_count": 135,
   "metadata": {
    "scrolled": true
   },
   "outputs": [
    {
     "name": "stdout",
     "output_type": "stream",
     "text": [
      "Jammu\n",
      "Bhilai\n",
      "Gadag\n",
      "Aizawl\n",
      "Bhilai\n",
      "Murwara\n",
      "Haldwani\n",
      "Brahmapur\n",
      "Gondal\n",
      "Bhilai\n",
      "Bhavnagar\n",
      "Akola\n",
      "Alandur\n",
      "Gandhidham\n",
      "Ambur\n",
      "Bijapur\n",
      "Amroha\n",
      "Barsi\n",
      "Bhusawal\n",
      "Ara\n",
      "Agra\n",
      "Aligarh\n",
      "Beawar\n",
      "Palanpur\n",
      "Bhusawal\n",
      "Gulbarga\n",
      "Brahmapur\n",
      "Gulbarga\n",
      "Gondal\n",
      "Damoh\n",
      "Port Blair\n",
      "Brahmapur\n",
      "Bhilai\n",
      "Bijapur\n",
      "Begusarai\n",
      "Jammu\n",
      "Gadag\n",
      "Kochi\n",
      "Balurghat\n",
      "Agartala\n",
      "Fatehpur\n",
      "Haldwani\n",
      "Haldwani\n",
      "Srinagar\n",
      "Haldwani\n",
      "Bhimavaram\n",
      "Adilabad\n",
      "Haldwani\n",
      "Kochi\n",
      "Chitradurga\n",
      "Haldwani\n",
      "Bhusawal\n",
      "Fatehpur\n",
      "Brahmapur\n",
      "Alandur\n",
      "Hazaribag\n",
      "Bhilai\n",
      "Haldwani\n",
      "Brahmapur\n",
      "Bhilai\n",
      "Shillong\n",
      "Bhopal\n",
      "Gulbarga\n",
      "Haldwani\n",
      "Bhilai\n",
      "Haldwani\n",
      "Haldwani\n",
      "Haldwani\n",
      "Haldwani\n",
      "Haldwani\n",
      "Haldwani\n"
     ]
    }
   ],
   "source": [
    "while True :     \n",
    "    idx = random.choice(df.index)\n",
    "    print(idx)\n",
    "    df = df.append(df.loc[idx]  + np.random.randn(2025))\n",
    "    if len(df) > 10000 :\n",
    "        break"
   ]
  },
  {
   "cell_type": "code",
   "execution_count": 136,
   "metadata": {},
   "outputs": [
    {
     "data": {
      "text/html": [
       "<div>\n",
       "<style scoped>\n",
       "    .dataframe tbody tr th:only-of-type {\n",
       "        vertical-align: middle;\n",
       "    }\n",
       "\n",
       "    .dataframe tbody tr th {\n",
       "        vertical-align: top;\n",
       "    }\n",
       "\n",
       "    .dataframe thead th {\n",
       "        text-align: right;\n",
       "    }\n",
       "</style>\n",
       "<table border=\"1\" class=\"dataframe\">\n",
       "  <thead>\n",
       "    <tr style=\"text-align: right;\">\n",
       "      <th></th>\n",
       "      <th>1816-04-01</th>\n",
       "      <th>1816-05-01</th>\n",
       "      <th>1816-06-01</th>\n",
       "      <th>1816-07-01</th>\n",
       "      <th>1816-08-01</th>\n",
       "      <th>1816-09-01</th>\n",
       "      <th>1816-10-01</th>\n",
       "      <th>1816-11-01</th>\n",
       "      <th>1816-12-01</th>\n",
       "      <th>1817-01-01</th>\n",
       "      <th>...</th>\n",
       "      <th>2012-11-01</th>\n",
       "      <th>2012-12-01</th>\n",
       "      <th>2013-01-01</th>\n",
       "      <th>2013-02-01</th>\n",
       "      <th>2013-03-01</th>\n",
       "      <th>2013-04-01</th>\n",
       "      <th>2013-05-01</th>\n",
       "      <th>2013-06-01</th>\n",
       "      <th>2013-07-01</th>\n",
       "      <th>2013-08-01</th>\n",
       "    </tr>\n",
       "    <tr>\n",
       "      <th>City</th>\n",
       "      <th></th>\n",
       "      <th></th>\n",
       "      <th></th>\n",
       "      <th></th>\n",
       "      <th></th>\n",
       "      <th></th>\n",
       "      <th></th>\n",
       "      <th></th>\n",
       "      <th></th>\n",
       "      <th></th>\n",
       "      <th></th>\n",
       "      <th></th>\n",
       "      <th></th>\n",
       "      <th></th>\n",
       "      <th></th>\n",
       "      <th></th>\n",
       "      <th></th>\n",
       "      <th></th>\n",
       "      <th></th>\n",
       "      <th></th>\n",
       "      <th></th>\n",
       "    </tr>\n",
       "  </thead>\n",
       "  <tbody>\n",
       "    <tr>\n",
       "      <th>Abohar</th>\n",
       "      <td>26.641000</td>\n",
       "      <td>32.535000</td>\n",
       "      <td>33.254000</td>\n",
       "      <td>31.105000</td>\n",
       "      <td>30.429000</td>\n",
       "      <td>27.903000</td>\n",
       "      <td>22.144000</td>\n",
       "      <td>17.236000</td>\n",
       "      <td>12.092000</td>\n",
       "      <td>11.604000</td>\n",
       "      <td>...</td>\n",
       "      <td>20.085000</td>\n",
       "      <td>14.650000</td>\n",
       "      <td>12.664000</td>\n",
       "      <td>16.055000</td>\n",
       "      <td>21.868000</td>\n",
       "      <td>28.265000</td>\n",
       "      <td>34.354000</td>\n",
       "      <td>35.018000</td>\n",
       "      <td>33.771000</td>\n",
       "      <td>31.749000</td>\n",
       "    </tr>\n",
       "    <tr>\n",
       "      <th>Achalpur</th>\n",
       "      <td>29.992000</td>\n",
       "      <td>33.366000</td>\n",
       "      <td>30.283000</td>\n",
       "      <td>25.152000</td>\n",
       "      <td>24.565000</td>\n",
       "      <td>24.662000</td>\n",
       "      <td>22.810000</td>\n",
       "      <td>20.707000</td>\n",
       "      <td>18.010000</td>\n",
       "      <td>18.490000</td>\n",
       "      <td>...</td>\n",
       "      <td>22.524000</td>\n",
       "      <td>21.036000</td>\n",
       "      <td>19.405000</td>\n",
       "      <td>22.741000</td>\n",
       "      <td>26.992000</td>\n",
       "      <td>31.185000</td>\n",
       "      <td>35.341000</td>\n",
       "      <td>29.164000</td>\n",
       "      <td>26.192000</td>\n",
       "      <td>25.916000</td>\n",
       "    </tr>\n",
       "    <tr>\n",
       "      <th>Adilabad</th>\n",
       "      <td>31.297000</td>\n",
       "      <td>34.422000</td>\n",
       "      <td>31.229000</td>\n",
       "      <td>26.024000</td>\n",
       "      <td>25.488000</td>\n",
       "      <td>25.648000</td>\n",
       "      <td>23.946000</td>\n",
       "      <td>21.885000</td>\n",
       "      <td>19.707000</td>\n",
       "      <td>20.767000</td>\n",
       "      <td>...</td>\n",
       "      <td>23.915000</td>\n",
       "      <td>22.872000</td>\n",
       "      <td>22.492000</td>\n",
       "      <td>25.306000</td>\n",
       "      <td>29.050000</td>\n",
       "      <td>32.706000</td>\n",
       "      <td>36.856000</td>\n",
       "      <td>30.330000</td>\n",
       "      <td>27.324000</td>\n",
       "      <td>26.980000</td>\n",
       "    </tr>\n",
       "    <tr>\n",
       "      <th>Adoni</th>\n",
       "      <td>30.342000</td>\n",
       "      <td>31.433000</td>\n",
       "      <td>28.569000</td>\n",
       "      <td>25.323000</td>\n",
       "      <td>25.330000</td>\n",
       "      <td>25.030000</td>\n",
       "      <td>23.744000</td>\n",
       "      <td>23.335000</td>\n",
       "      <td>21.654000</td>\n",
       "      <td>22.455000</td>\n",
       "      <td>...</td>\n",
       "      <td>25.434000</td>\n",
       "      <td>24.806000</td>\n",
       "      <td>25.435000</td>\n",
       "      <td>27.426000</td>\n",
       "      <td>30.693000</td>\n",
       "      <td>33.048000</td>\n",
       "      <td>33.602000</td>\n",
       "      <td>29.279000</td>\n",
       "      <td>27.500000</td>\n",
       "      <td>27.524000</td>\n",
       "    </tr>\n",
       "    <tr>\n",
       "      <th>Agartala</th>\n",
       "      <td>26.449000</td>\n",
       "      <td>28.121000</td>\n",
       "      <td>27.665000</td>\n",
       "      <td>26.207000</td>\n",
       "      <td>26.918000</td>\n",
       "      <td>25.785000</td>\n",
       "      <td>23.720000</td>\n",
       "      <td>20.814000</td>\n",
       "      <td>17.306000</td>\n",
       "      <td>17.216000</td>\n",
       "      <td>...</td>\n",
       "      <td>23.444000</td>\n",
       "      <td>18.789000</td>\n",
       "      <td>17.009000</td>\n",
       "      <td>21.961000</td>\n",
       "      <td>26.410000</td>\n",
       "      <td>28.242000</td>\n",
       "      <td>27.854000</td>\n",
       "      <td>29.664000</td>\n",
       "      <td>28.926000</td>\n",
       "      <td>28.381000</td>\n",
       "    </tr>\n",
       "    <tr>\n",
       "      <th>...</th>\n",
       "      <td>...</td>\n",
       "      <td>...</td>\n",
       "      <td>...</td>\n",
       "      <td>...</td>\n",
       "      <td>...</td>\n",
       "      <td>...</td>\n",
       "      <td>...</td>\n",
       "      <td>...</td>\n",
       "      <td>...</td>\n",
       "      <td>...</td>\n",
       "      <td>...</td>\n",
       "      <td>...</td>\n",
       "      <td>...</td>\n",
       "      <td>...</td>\n",
       "      <td>...</td>\n",
       "      <td>...</td>\n",
       "      <td>...</td>\n",
       "      <td>...</td>\n",
       "      <td>...</td>\n",
       "      <td>...</td>\n",
       "      <td>...</td>\n",
       "    </tr>\n",
       "    <tr>\n",
       "      <th>Haldwani</th>\n",
       "      <td>19.577967</td>\n",
       "      <td>25.435526</td>\n",
       "      <td>25.248004</td>\n",
       "      <td>20.391620</td>\n",
       "      <td>27.509524</td>\n",
       "      <td>18.953353</td>\n",
       "      <td>22.584256</td>\n",
       "      <td>13.011676</td>\n",
       "      <td>8.998983</td>\n",
       "      <td>10.291479</td>\n",
       "      <td>...</td>\n",
       "      <td>12.318974</td>\n",
       "      <td>8.484892</td>\n",
       "      <td>4.883103</td>\n",
       "      <td>11.864966</td>\n",
       "      <td>13.179641</td>\n",
       "      <td>18.889205</td>\n",
       "      <td>22.437881</td>\n",
       "      <td>22.368282</td>\n",
       "      <td>23.115176</td>\n",
       "      <td>20.138610</td>\n",
       "    </tr>\n",
       "    <tr>\n",
       "      <th>Haldwani</th>\n",
       "      <td>16.456753</td>\n",
       "      <td>24.788338</td>\n",
       "      <td>26.610354</td>\n",
       "      <td>22.475305</td>\n",
       "      <td>24.809847</td>\n",
       "      <td>17.520606</td>\n",
       "      <td>20.605074</td>\n",
       "      <td>12.865732</td>\n",
       "      <td>6.640819</td>\n",
       "      <td>9.440853</td>\n",
       "      <td>...</td>\n",
       "      <td>13.204789</td>\n",
       "      <td>11.352846</td>\n",
       "      <td>8.481026</td>\n",
       "      <td>13.698494</td>\n",
       "      <td>13.181312</td>\n",
       "      <td>20.539032</td>\n",
       "      <td>23.160612</td>\n",
       "      <td>21.435376</td>\n",
       "      <td>21.018099</td>\n",
       "      <td>19.115257</td>\n",
       "    </tr>\n",
       "    <tr>\n",
       "      <th>Haldwani</th>\n",
       "      <td>16.692731</td>\n",
       "      <td>24.061039</td>\n",
       "      <td>27.184602</td>\n",
       "      <td>21.313212</td>\n",
       "      <td>27.572856</td>\n",
       "      <td>17.887592</td>\n",
       "      <td>22.098597</td>\n",
       "      <td>13.613824</td>\n",
       "      <td>8.001426</td>\n",
       "      <td>11.586395</td>\n",
       "      <td>...</td>\n",
       "      <td>13.065167</td>\n",
       "      <td>10.382619</td>\n",
       "      <td>5.245927</td>\n",
       "      <td>13.228433</td>\n",
       "      <td>12.960595</td>\n",
       "      <td>18.646843</td>\n",
       "      <td>24.227804</td>\n",
       "      <td>22.460379</td>\n",
       "      <td>22.850679</td>\n",
       "      <td>20.429957</td>\n",
       "    </tr>\n",
       "    <tr>\n",
       "      <th>Haldwani</th>\n",
       "      <td>17.917179</td>\n",
       "      <td>25.251294</td>\n",
       "      <td>25.897458</td>\n",
       "      <td>21.369222</td>\n",
       "      <td>24.292280</td>\n",
       "      <td>18.058904</td>\n",
       "      <td>20.840503</td>\n",
       "      <td>11.397634</td>\n",
       "      <td>6.868414</td>\n",
       "      <td>8.686951</td>\n",
       "      <td>...</td>\n",
       "      <td>13.306479</td>\n",
       "      <td>10.304405</td>\n",
       "      <td>8.185662</td>\n",
       "      <td>12.086492</td>\n",
       "      <td>14.361880</td>\n",
       "      <td>19.288628</td>\n",
       "      <td>23.032729</td>\n",
       "      <td>20.802758</td>\n",
       "      <td>21.372982</td>\n",
       "      <td>19.538921</td>\n",
       "    </tr>\n",
       "    <tr>\n",
       "      <th>Haldwani</th>\n",
       "      <td>18.153157</td>\n",
       "      <td>24.523995</td>\n",
       "      <td>26.471705</td>\n",
       "      <td>20.207130</td>\n",
       "      <td>27.055289</td>\n",
       "      <td>18.425890</td>\n",
       "      <td>22.334026</td>\n",
       "      <td>12.145726</td>\n",
       "      <td>8.229021</td>\n",
       "      <td>10.832492</td>\n",
       "      <td>...</td>\n",
       "      <td>13.166857</td>\n",
       "      <td>9.334178</td>\n",
       "      <td>4.950563</td>\n",
       "      <td>11.616431</td>\n",
       "      <td>14.141163</td>\n",
       "      <td>17.396438</td>\n",
       "      <td>24.099921</td>\n",
       "      <td>21.827761</td>\n",
       "      <td>23.205561</td>\n",
       "      <td>20.853621</td>\n",
       "    </tr>\n",
       "  </tbody>\n",
       "</table>\n",
       "<p>16698 rows × 2025 columns</p>\n",
       "</div>"
      ],
      "text/plain": [
       "          1816-04-01  1816-05-01  1816-06-01  1816-07-01  1816-08-01  \\\n",
       "City                                                                   \n",
       "Abohar     26.641000   32.535000   33.254000   31.105000   30.429000   \n",
       "Achalpur   29.992000   33.366000   30.283000   25.152000   24.565000   \n",
       "Adilabad   31.297000   34.422000   31.229000   26.024000   25.488000   \n",
       "Adoni      30.342000   31.433000   28.569000   25.323000   25.330000   \n",
       "Agartala   26.449000   28.121000   27.665000   26.207000   26.918000   \n",
       "...              ...         ...         ...         ...         ...   \n",
       "Haldwani   19.577967   25.435526   25.248004   20.391620   27.509524   \n",
       "Haldwani   16.456753   24.788338   26.610354   22.475305   24.809847   \n",
       "Haldwani   16.692731   24.061039   27.184602   21.313212   27.572856   \n",
       "Haldwani   17.917179   25.251294   25.897458   21.369222   24.292280   \n",
       "Haldwani   18.153157   24.523995   26.471705   20.207130   27.055289   \n",
       "\n",
       "          1816-09-01  1816-10-01  1816-11-01  1816-12-01  1817-01-01  ...  \\\n",
       "City                                                                  ...   \n",
       "Abohar     27.903000   22.144000   17.236000   12.092000   11.604000  ...   \n",
       "Achalpur   24.662000   22.810000   20.707000   18.010000   18.490000  ...   \n",
       "Adilabad   25.648000   23.946000   21.885000   19.707000   20.767000  ...   \n",
       "Adoni      25.030000   23.744000   23.335000   21.654000   22.455000  ...   \n",
       "Agartala   25.785000   23.720000   20.814000   17.306000   17.216000  ...   \n",
       "...              ...         ...         ...         ...         ...  ...   \n",
       "Haldwani   18.953353   22.584256   13.011676    8.998983   10.291479  ...   \n",
       "Haldwani   17.520606   20.605074   12.865732    6.640819    9.440853  ...   \n",
       "Haldwani   17.887592   22.098597   13.613824    8.001426   11.586395  ...   \n",
       "Haldwani   18.058904   20.840503   11.397634    6.868414    8.686951  ...   \n",
       "Haldwani   18.425890   22.334026   12.145726    8.229021   10.832492  ...   \n",
       "\n",
       "          2012-11-01  2012-12-01  2013-01-01  2013-02-01  2013-03-01  \\\n",
       "City                                                                   \n",
       "Abohar     20.085000   14.650000   12.664000   16.055000   21.868000   \n",
       "Achalpur   22.524000   21.036000   19.405000   22.741000   26.992000   \n",
       "Adilabad   23.915000   22.872000   22.492000   25.306000   29.050000   \n",
       "Adoni      25.434000   24.806000   25.435000   27.426000   30.693000   \n",
       "Agartala   23.444000   18.789000   17.009000   21.961000   26.410000   \n",
       "...              ...         ...         ...         ...         ...   \n",
       "Haldwani   12.318974    8.484892    4.883103   11.864966   13.179641   \n",
       "Haldwani   13.204789   11.352846    8.481026   13.698494   13.181312   \n",
       "Haldwani   13.065167   10.382619    5.245927   13.228433   12.960595   \n",
       "Haldwani   13.306479   10.304405    8.185662   12.086492   14.361880   \n",
       "Haldwani   13.166857    9.334178    4.950563   11.616431   14.141163   \n",
       "\n",
       "          2013-04-01  2013-05-01  2013-06-01  2013-07-01  2013-08-01  \n",
       "City                                                                  \n",
       "Abohar     28.265000   34.354000   35.018000   33.771000   31.749000  \n",
       "Achalpur   31.185000   35.341000   29.164000   26.192000   25.916000  \n",
       "Adilabad   32.706000   36.856000   30.330000   27.324000   26.980000  \n",
       "Adoni      33.048000   33.602000   29.279000   27.500000   27.524000  \n",
       "Agartala   28.242000   27.854000   29.664000   28.926000   28.381000  \n",
       "...              ...         ...         ...         ...         ...  \n",
       "Haldwani   18.889205   22.437881   22.368282   23.115176   20.138610  \n",
       "Haldwani   20.539032   23.160612   21.435376   21.018099   19.115257  \n",
       "Haldwani   18.646843   24.227804   22.460379   22.850679   20.429957  \n",
       "Haldwani   19.288628   23.032729   20.802758   21.372982   19.538921  \n",
       "Haldwani   17.396438   24.099921   21.827761   23.205561   20.853621  \n",
       "\n",
       "[16698 rows x 2025 columns]"
      ]
     },
     "execution_count": 136,
     "metadata": {},
     "output_type": "execute_result"
    }
   ],
   "source": [
    "df"
   ]
  },
  {
   "cell_type": "code",
   "execution_count": 124,
   "metadata": {},
   "outputs": [
    {
     "data": {
      "text/plain": [
       "98"
      ]
     },
     "execution_count": 124,
     "metadata": {},
     "output_type": "execute_result"
    }
   ],
   "source": []
  },
  {
   "cell_type": "code",
   "execution_count": 115,
   "metadata": {},
   "outputs": [
    {
     "data": {
      "text/plain": [
       "(2025,)"
      ]
     },
     "execution_count": 115,
     "metadata": {},
     "output_type": "execute_result"
    }
   ],
   "source": [
    "np.random.randn(2025)"
   ]
  },
  {
   "cell_type": "markdown",
   "metadata": {},
   "source": [
    "# Randomly select stations and training regressor "
   ]
  },
  {
   "cell_type": "code",
   "execution_count": 7,
   "metadata": {},
   "outputs": [],
   "source": [
    "import random\n",
    "from sklearn.linear_model import LinearRegression\n",
    "import numpy as np\n",
    "import matplotlib.pyplot as plt"
   ]
  },
  {
   "cell_type": "code",
   "execution_count": 97,
   "metadata": {},
   "outputs": [],
   "source": [
    "df = pd.read_pickle('DATA.pkl')"
   ]
  },
  {
   "cell_type": "code",
   "execution_count": null,
   "metadata": {},
   "outputs": [],
   "source": [
    "df.index"
   ]
  },
  {
   "cell_type": "code",
   "execution_count": 98,
   "metadata": {},
   "outputs": [
    {
     "data": {
      "text/html": [
       "<div>\n",
       "<style scoped>\n",
       "    .dataframe tbody tr th:only-of-type {\n",
       "        vertical-align: middle;\n",
       "    }\n",
       "\n",
       "    .dataframe tbody tr th {\n",
       "        vertical-align: top;\n",
       "    }\n",
       "\n",
       "    .dataframe thead th {\n",
       "        text-align: right;\n",
       "    }\n",
       "</style>\n",
       "<table border=\"1\" class=\"dataframe\">\n",
       "  <thead>\n",
       "    <tr style=\"text-align: right;\">\n",
       "      <th>dt</th>\n",
       "      <th>1891-01-01</th>\n",
       "      <th>1891-02-01</th>\n",
       "      <th>1891-03-01</th>\n",
       "      <th>1891-04-01</th>\n",
       "      <th>1891-06-01</th>\n",
       "      <th>1891-07-01</th>\n",
       "      <th>1891-09-01</th>\n",
       "      <th>1891-10-01</th>\n",
       "      <th>1891-11-01</th>\n",
       "      <th>1891-12-01</th>\n",
       "      <th>...</th>\n",
       "      <th>2012-11-01</th>\n",
       "      <th>2012-12-01</th>\n",
       "      <th>2013-01-01</th>\n",
       "      <th>2013-02-01</th>\n",
       "      <th>2013-03-01</th>\n",
       "      <th>2013-04-01</th>\n",
       "      <th>2013-05-01</th>\n",
       "      <th>2013-06-01</th>\n",
       "      <th>2013-07-01</th>\n",
       "      <th>2013-08-01</th>\n",
       "    </tr>\n",
       "  </thead>\n",
       "  <tbody>\n",
       "    <tr>\n",
       "      <th>0</th>\n",
       "      <td>-1.524</td>\n",
       "      <td>-2.288</td>\n",
       "      <td>5.473</td>\n",
       "      <td>8.516</td>\n",
       "      <td>17.928</td>\n",
       "      <td>20.522</td>\n",
       "      <td>16.008</td>\n",
       "      <td>11.074</td>\n",
       "      <td>4.912</td>\n",
       "      <td>0.676</td>\n",
       "      <td>...</td>\n",
       "      <td>7.934</td>\n",
       "      <td>2.486</td>\n",
       "      <td>1.539</td>\n",
       "      <td>4.612</td>\n",
       "      <td>6.846</td>\n",
       "      <td>11.092</td>\n",
       "      <td>17.070</td>\n",
       "      <td>19.056</td>\n",
       "      <td>20.736</td>\n",
       "      <td>21.452</td>\n",
       "    </tr>\n",
       "    <tr>\n",
       "      <th>1</th>\n",
       "      <td>-20.212</td>\n",
       "      <td>-17.456</td>\n",
       "      <td>-9.954</td>\n",
       "      <td>-1.447</td>\n",
       "      <td>15.325</td>\n",
       "      <td>18.268</td>\n",
       "      <td>10.934</td>\n",
       "      <td>0.880</td>\n",
       "      <td>-9.087</td>\n",
       "      <td>-12.860</td>\n",
       "      <td>...</td>\n",
       "      <td>-6.514</td>\n",
       "      <td>-21.321</td>\n",
       "      <td>-12.440</td>\n",
       "      <td>-14.449</td>\n",
       "      <td>-2.304</td>\n",
       "      <td>5.718</td>\n",
       "      <td>10.061</td>\n",
       "      <td>15.592</td>\n",
       "      <td>17.727</td>\n",
       "      <td>16.859</td>\n",
       "    </tr>\n",
       "    <tr>\n",
       "      <th>2</th>\n",
       "      <td>5.883</td>\n",
       "      <td>9.365</td>\n",
       "      <td>9.047</td>\n",
       "      <td>11.203</td>\n",
       "      <td>15.989</td>\n",
       "      <td>17.513</td>\n",
       "      <td>16.855</td>\n",
       "      <td>13.173</td>\n",
       "      <td>10.456</td>\n",
       "      <td>9.535</td>\n",
       "      <td>...</td>\n",
       "      <td>10.908</td>\n",
       "      <td>10.247</td>\n",
       "      <td>9.773</td>\n",
       "      <td>9.020</td>\n",
       "      <td>10.558</td>\n",
       "      <td>11.893</td>\n",
       "      <td>12.805</td>\n",
       "      <td>16.596</td>\n",
       "      <td>20.877</td>\n",
       "      <td>20.348</td>\n",
       "    </tr>\n",
       "    <tr>\n",
       "      <th>3</th>\n",
       "      <td>-3.317</td>\n",
       "      <td>0.921</td>\n",
       "      <td>3.530</td>\n",
       "      <td>5.685</td>\n",
       "      <td>15.101</td>\n",
       "      <td>16.348</td>\n",
       "      <td>14.770</td>\n",
       "      <td>10.348</td>\n",
       "      <td>3.573</td>\n",
       "      <td>2.605</td>\n",
       "      <td>...</td>\n",
       "      <td>5.905</td>\n",
       "      <td>3.526</td>\n",
       "      <td>0.904</td>\n",
       "      <td>0.121</td>\n",
       "      <td>1.834</td>\n",
       "      <td>8.374</td>\n",
       "      <td>11.463</td>\n",
       "      <td>15.589</td>\n",
       "      <td>19.869</td>\n",
       "      <td>18.098</td>\n",
       "    </tr>\n",
       "    <tr>\n",
       "      <th>4</th>\n",
       "      <td>-2.873</td>\n",
       "      <td>1.399</td>\n",
       "      <td>0.803</td>\n",
       "      <td>4.693</td>\n",
       "      <td>14.896</td>\n",
       "      <td>17.251</td>\n",
       "      <td>13.401</td>\n",
       "      <td>9.972</td>\n",
       "      <td>2.900</td>\n",
       "      <td>2.219</td>\n",
       "      <td>...</td>\n",
       "      <td>5.927</td>\n",
       "      <td>-0.921</td>\n",
       "      <td>-0.344</td>\n",
       "      <td>-0.390</td>\n",
       "      <td>-0.474</td>\n",
       "      <td>5.514</td>\n",
       "      <td>12.770</td>\n",
       "      <td>15.223</td>\n",
       "      <td>18.259</td>\n",
       "      <td>17.423</td>\n",
       "    </tr>\n",
       "    <tr>\n",
       "      <th>...</th>\n",
       "      <td>...</td>\n",
       "      <td>...</td>\n",
       "      <td>...</td>\n",
       "      <td>...</td>\n",
       "      <td>...</td>\n",
       "      <td>...</td>\n",
       "      <td>...</td>\n",
       "      <td>...</td>\n",
       "      <td>...</td>\n",
       "      <td>...</td>\n",
       "      <td>...</td>\n",
       "      <td>...</td>\n",
       "      <td>...</td>\n",
       "      <td>...</td>\n",
       "      <td>...</td>\n",
       "      <td>...</td>\n",
       "      <td>...</td>\n",
       "      <td>...</td>\n",
       "      <td>...</td>\n",
       "      <td>...</td>\n",
       "      <td>...</td>\n",
       "    </tr>\n",
       "    <tr>\n",
       "      <th>1337</th>\n",
       "      <td>-8.691</td>\n",
       "      <td>-6.533</td>\n",
       "      <td>1.181</td>\n",
       "      <td>5.275</td>\n",
       "      <td>16.880</td>\n",
       "      <td>20.301</td>\n",
       "      <td>13.309</td>\n",
       "      <td>7.549</td>\n",
       "      <td>-1.648</td>\n",
       "      <td>-1.858</td>\n",
       "      <td>...</td>\n",
       "      <td>4.514</td>\n",
       "      <td>-5.440</td>\n",
       "      <td>-5.139</td>\n",
       "      <td>-0.834</td>\n",
       "      <td>-2.459</td>\n",
       "      <td>9.199</td>\n",
       "      <td>17.625</td>\n",
       "      <td>20.128</td>\n",
       "      <td>19.627</td>\n",
       "      <td>19.019</td>\n",
       "    </tr>\n",
       "    <tr>\n",
       "      <th>1338</th>\n",
       "      <td>21.415</td>\n",
       "      <td>24.027</td>\n",
       "      <td>25.772</td>\n",
       "      <td>25.199</td>\n",
       "      <td>27.314</td>\n",
       "      <td>27.003</td>\n",
       "      <td>26.553</td>\n",
       "      <td>27.212</td>\n",
       "      <td>25.547</td>\n",
       "      <td>24.569</td>\n",
       "      <td>...</td>\n",
       "      <td>28.175</td>\n",
       "      <td>25.302</td>\n",
       "      <td>24.305</td>\n",
       "      <td>25.754</td>\n",
       "      <td>26.294</td>\n",
       "      <td>26.372</td>\n",
       "      <td>27.757</td>\n",
       "      <td>28.564</td>\n",
       "      <td>27.898</td>\n",
       "      <td>26.547</td>\n",
       "    </tr>\n",
       "    <tr>\n",
       "      <th>1339</th>\n",
       "      <td>20.751</td>\n",
       "      <td>23.317</td>\n",
       "      <td>27.893</td>\n",
       "      <td>31.612</td>\n",
       "      <td>30.583</td>\n",
       "      <td>27.643</td>\n",
       "      <td>28.052</td>\n",
       "      <td>27.878</td>\n",
       "      <td>25.754</td>\n",
       "      <td>22.142</td>\n",
       "      <td>...</td>\n",
       "      <td>28.405</td>\n",
       "      <td>24.125</td>\n",
       "      <td>23.185</td>\n",
       "      <td>26.495</td>\n",
       "      <td>32.198</td>\n",
       "      <td>32.605</td>\n",
       "      <td>34.403</td>\n",
       "      <td>32.488</td>\n",
       "      <td>29.677</td>\n",
       "      <td>26.918</td>\n",
       "    </tr>\n",
       "    <tr>\n",
       "      <th>1340</th>\n",
       "      <td>0.036</td>\n",
       "      <td>-0.878</td>\n",
       "      <td>6.652</td>\n",
       "      <td>9.060</td>\n",
       "      <td>18.565</td>\n",
       "      <td>21.078</td>\n",
       "      <td>16.688</td>\n",
       "      <td>12.112</td>\n",
       "      <td>6.870</td>\n",
       "      <td>2.199</td>\n",
       "      <td>...</td>\n",
       "      <td>9.702</td>\n",
       "      <td>4.074</td>\n",
       "      <td>3.419</td>\n",
       "      <td>5.842</td>\n",
       "      <td>8.075</td>\n",
       "      <td>11.876</td>\n",
       "      <td>17.662</td>\n",
       "      <td>19.818</td>\n",
       "      <td>21.343</td>\n",
       "      <td>22.225</td>\n",
       "    </tr>\n",
       "    <tr>\n",
       "      <th>1341</th>\n",
       "      <td>5.089</td>\n",
       "      <td>4.404</td>\n",
       "      <td>9.057</td>\n",
       "      <td>13.518</td>\n",
       "      <td>21.396</td>\n",
       "      <td>24.112</td>\n",
       "      <td>20.489</td>\n",
       "      <td>16.019</td>\n",
       "      <td>10.412</td>\n",
       "      <td>6.557</td>\n",
       "      <td>...</td>\n",
       "      <td>10.694</td>\n",
       "      <td>5.915</td>\n",
       "      <td>4.293</td>\n",
       "      <td>8.435</td>\n",
       "      <td>13.718</td>\n",
       "      <td>15.627</td>\n",
       "      <td>19.473</td>\n",
       "      <td>23.670</td>\n",
       "      <td>26.159</td>\n",
       "      <td>25.502</td>\n",
       "    </tr>\n",
       "  </tbody>\n",
       "</table>\n",
       "<p>1342 rows × 1450 columns</p>\n",
       "</div>"
      ],
      "text/plain": [
       "dt    1891-01-01  1891-02-01  1891-03-01  1891-04-01  1891-06-01  1891-07-01  \\\n",
       "0         -1.524      -2.288       5.473       8.516      17.928      20.522   \n",
       "1        -20.212     -17.456      -9.954      -1.447      15.325      18.268   \n",
       "2          5.883       9.365       9.047      11.203      15.989      17.513   \n",
       "3         -3.317       0.921       3.530       5.685      15.101      16.348   \n",
       "4         -2.873       1.399       0.803       4.693      14.896      17.251   \n",
       "...          ...         ...         ...         ...         ...         ...   \n",
       "1337      -8.691      -6.533       1.181       5.275      16.880      20.301   \n",
       "1338      21.415      24.027      25.772      25.199      27.314      27.003   \n",
       "1339      20.751      23.317      27.893      31.612      30.583      27.643   \n",
       "1340       0.036      -0.878       6.652       9.060      18.565      21.078   \n",
       "1341       5.089       4.404       9.057      13.518      21.396      24.112   \n",
       "\n",
       "dt    1891-09-01  1891-10-01  1891-11-01  1891-12-01  ...  2012-11-01  \\\n",
       "0         16.008      11.074       4.912       0.676  ...       7.934   \n",
       "1         10.934       0.880      -9.087     -12.860  ...      -6.514   \n",
       "2         16.855      13.173      10.456       9.535  ...      10.908   \n",
       "3         14.770      10.348       3.573       2.605  ...       5.905   \n",
       "4         13.401       9.972       2.900       2.219  ...       5.927   \n",
       "...          ...         ...         ...         ...  ...         ...   \n",
       "1337      13.309       7.549      -1.648      -1.858  ...       4.514   \n",
       "1338      26.553      27.212      25.547      24.569  ...      28.175   \n",
       "1339      28.052      27.878      25.754      22.142  ...      28.405   \n",
       "1340      16.688      12.112       6.870       2.199  ...       9.702   \n",
       "1341      20.489      16.019      10.412       6.557  ...      10.694   \n",
       "\n",
       "dt    2012-12-01  2013-01-01  2013-02-01  2013-03-01  2013-04-01  2013-05-01  \\\n",
       "0          2.486       1.539       4.612       6.846      11.092      17.070   \n",
       "1        -21.321     -12.440     -14.449      -2.304       5.718      10.061   \n",
       "2         10.247       9.773       9.020      10.558      11.893      12.805   \n",
       "3          3.526       0.904       0.121       1.834       8.374      11.463   \n",
       "4         -0.921      -0.344      -0.390      -0.474       5.514      12.770   \n",
       "...          ...         ...         ...         ...         ...         ...   \n",
       "1337      -5.440      -5.139      -0.834      -2.459       9.199      17.625   \n",
       "1338      25.302      24.305      25.754      26.294      26.372      27.757   \n",
       "1339      24.125      23.185      26.495      32.198      32.605      34.403   \n",
       "1340       4.074       3.419       5.842       8.075      11.876      17.662   \n",
       "1341       5.915       4.293       8.435      13.718      15.627      19.473   \n",
       "\n",
       "dt    2013-06-01  2013-07-01  2013-08-01  \n",
       "0         19.056      20.736      21.452  \n",
       "1         15.592      17.727      16.859  \n",
       "2         16.596      20.877      20.348  \n",
       "3         15.589      19.869      18.098  \n",
       "4         15.223      18.259      17.423  \n",
       "...          ...         ...         ...  \n",
       "1337      20.128      19.627      19.019  \n",
       "1338      28.564      27.898      26.547  \n",
       "1339      32.488      29.677      26.918  \n",
       "1340      19.818      21.343      22.225  \n",
       "1341      23.670      26.159      25.502  \n",
       "\n",
       "[1342 rows x 1450 columns]"
      ]
     },
     "execution_count": 98,
     "metadata": {},
     "output_type": "execute_result"
    }
   ],
   "source": [
    "df"
   ]
  },
  {
   "cell_type": "code",
   "execution_count": 24,
   "metadata": {},
   "outputs": [
    {
     "name": "stdout",
     "output_type": "stream",
     "text": [
      "0\n",
      "1\n",
      "2\n",
      "3\n",
      "4\n",
      "5\n",
      "6\n",
      "7\n",
      "8\n",
      "9\n",
      "0.00042891502380371094\n"
     ]
    }
   ],
   "source": [
    "import time\n",
    "start = time.time()\n",
    "for i in range(10) : \n",
    "    print(i)\n",
    "end = time.time()\n",
    "\n",
    "print(end-start)\n"
   ]
  },
  {
   "cell_type": "code",
   "execution_count": 25,
   "metadata": {},
   "outputs": [
    {
     "data": {
      "text/plain": [
       "1342"
      ]
     },
     "execution_count": 25,
     "metadata": {},
     "output_type": "execute_result"
    }
   ],
   "source": [
    "len(df)"
   ]
  },
  {
   "cell_type": "code",
   "execution_count": 53,
   "metadata": {},
   "outputs": [],
   "source": [
    "#PARAMETERS \n",
    "\n",
    "n_station = len(df); k = 2; n_regressor=5; thres = 0.8\n",
    "\n",
    "def regressor_training_active(df, n_station, k, n_regressor, thres) : \n",
    "    \n",
    "    COEF = np.zeros(\n",
    "        (n_station*n_regressor,len(df)+1)\n",
    "    )\n",
    "\n",
    "    for i in range(n_station):\n",
    "        y = df.iloc[i]   \n",
    "        n=0  \n",
    "        t=0\n",
    "#         print(df.index[i])\n",
    "        while True : \n",
    "            while True :\n",
    "                rn = random.choices(range(len(df)),k=k)\n",
    "                if i not in rn :\n",
    "                    break                \n",
    "            X = df.iloc[rn]\n",
    "            reg = LinearRegression().fit(X.T, y)\n",
    "            score = reg.score(X.T,y)\n",
    "            if score > thres :\n",
    "\n",
    "    #             print(\"\\t\", i*n_regressor + n, rn, np.array(df.index)[[rn]],reg.score(X.T,y), reg.coef_, reg.intercept_)\n",
    "                COEF[i*n_regressor + n][rn] = reg.coef_\n",
    "                COEF[i*n_regressor + n][-1] = reg.intercept_\n",
    "                n+=1\n",
    "            else : \n",
    "    #             print(score, \"is less than the threadhold\", thres)\n",
    "                t+=1\n",
    "            if n>=n_regressor : \n",
    "                break\n",
    "            if t>=1000 : \n",
    "#                 print(df.index[i], \"has problem of fitting into regressors\")\n",
    "                break\n",
    "    return COEF"
   ]
  },
  {
   "cell_type": "code",
   "execution_count": 92,
   "metadata": {},
   "outputs": [],
   "source": [
    "#PARAMETERS \n",
    "\n",
    "n_station = len(df); k = 2; n_regressor=50; thres = 0.9\n",
    "\n",
    "def regressor_training_ensemble(df, n_station, k, n_regressor, thres) : \n",
    "    \n",
    "    COEF = np.zeros(\n",
    "        (n_station*n_regressor,len(df)+1)\n",
    "    )\n",
    "    WEIGHT = np.zeros(n_station*n_regressor)\n",
    "\n",
    "    for i in range(n_station):\n",
    "        y = df.iloc[i]   \n",
    "        n=0  \n",
    "        t=0\n",
    "#         print(df.index[i])\n",
    "        while True : \n",
    "            while True : #for selection of random variables \n",
    "                rn = random.choices(range(len(df)),k=k)\n",
    "                if i not in rn :\n",
    "                    break                \n",
    "            X = df.iloc[rn]\n",
    "            reg = LinearRegression().fit(X.T, y)\n",
    "            score = reg.score(X.T,y)\n",
    "            COEF[i*n_regressor + n][rn] = reg.coef_\n",
    "            COEF[i*n_regressor + n][-1] = reg.intercept_\n",
    "            WEIGHT[i*n_regressor + n] = score\n",
    "            n+=1\n",
    "            if n>=n_regressor : \n",
    "                idx = slice(i*n_regressor,i*n_regressor+n_regressor)\n",
    "#                 WEIGHT[idx] = WEIGHT[idx] / sum(WEIGHT[idx])\n",
    "                break\n",
    "            \n",
    "    return COEF, WEIGHT"
   ]
  },
  {
   "cell_type": "code",
   "execution_count": 90,
   "metadata": {},
   "outputs": [
    {
     "name": "stdout",
     "output_type": "stream",
     "text": [
      "16.146061420440674\n"
     ]
    }
   ],
   "source": [
    "start = time.time()\n",
    "COEF, WEIGHT = regressor_training_ensemble(df.iloc[:,-100:], n_station, k, n_regressor, thres)\n",
    "end = time.time()\n",
    "print(end-start)"
   ]
  },
  {
   "cell_type": "code",
   "execution_count": 93,
   "metadata": {},
   "outputs": [
    {
     "name": "stdout",
     "output_type": "stream",
     "text": [
      "17.11467671394348\n"
     ]
    }
   ],
   "source": [
    "start = time.time()\n",
    "COEF, WEIGHT = regressor_training_ensemble(df, n_station, k, n_regressor, thres)\n",
    "end = time.time()\n",
    "print(end-start)"
   ]
  },
  {
   "cell_type": "code",
   "execution_count": 96,
   "metadata": {},
   "outputs": [
    {
     "data": {
      "text/plain": [
       "(array([  5.,   2.,   0.,   0.,   0.,   0.,   0.,   0.,   2.,   1.,   1.,\n",
       "          2.,   1.,   1.,   3.,   2.,   0.,   1.,   2.,   1.,   1.,   1.,\n",
       "          0.,   5.,   3.,   1.,   0.,   2.,   1.,   2.,   3.,   5.,   4.,\n",
       "          7.,   7.,   2.,   4.,   4.,   7.,   5.,   8.,   8.,   3.,   7.,\n",
       "          5.,   5.,   3.,   5.,   7.,   7.,   5.,  11.,  10.,  11.,  10.,\n",
       "         13.,  13.,  12.,   8.,  17.,  17.,  22.,  12.,   7.,  11.,  14.,\n",
       "         13.,  15.,  16.,  17.,  25.,  16.,  21.,  29.,  22.,  37.,  24.,\n",
       "         24.,  40.,  43.,  41.,  44.,  49.,  69.,  57.,  65.,  77., 101.,\n",
       "         97., 138., 160., 183., 236., 309., 319., 359., 422., 422., 494.,\n",
       "        527.]),\n",
       " array([0.00416574, 0.01411786, 0.02406998, 0.0340221 , 0.04397423,\n",
       "        0.05392635, 0.06387847, 0.07383059, 0.08378271, 0.09373483,\n",
       "        0.10368695, 0.11363907, 0.12359119, 0.13354331, 0.14349543,\n",
       "        0.15344755, 0.16339967, 0.17335179, 0.18330391, 0.19325603,\n",
       "        0.20320815, 0.21316027, 0.22311239, 0.23306451, 0.24301663,\n",
       "        0.25296875, 0.26292087, 0.27287299, 0.28282511, 0.29277724,\n",
       "        0.30272936, 0.31268148, 0.3226336 , 0.33258572, 0.34253784,\n",
       "        0.35248996, 0.36244208, 0.3723942 , 0.38234632, 0.39229844,\n",
       "        0.40225056, 0.41220268, 0.4221548 , 0.43210692, 0.44205904,\n",
       "        0.45201116, 0.46196328, 0.4719154 , 0.48186752, 0.49181964,\n",
       "        0.50177176, 0.51172388, 0.521676  , 0.53162812, 0.54158024,\n",
       "        0.55153237, 0.56148449, 0.57143661, 0.58138873, 0.59134085,\n",
       "        0.60129297, 0.61124509, 0.62119721, 0.63114933, 0.64110145,\n",
       "        0.65105357, 0.66100569, 0.67095781, 0.68090993, 0.69086205,\n",
       "        0.70081417, 0.71076629, 0.72071841, 0.73067053, 0.74062265,\n",
       "        0.75057477, 0.76052689, 0.77047901, 0.78043113, 0.79038325,\n",
       "        0.80033538, 0.8102875 , 0.82023962, 0.83019174, 0.84014386,\n",
       "        0.85009598, 0.8600481 , 0.87000022, 0.87995234, 0.88990446,\n",
       "        0.89985658, 0.9098087 , 0.91976082, 0.92971294, 0.93966506,\n",
       "        0.94961718, 0.9595693 , 0.96952142, 0.97947354, 0.98942566,\n",
       "        0.99937778]),\n",
       " <BarContainer object of 100 artists>)"
      ]
     },
     "execution_count": 96,
     "metadata": {},
     "output_type": "execute_result"
    },
    {
     "data": {
      "image/png": "[encoded data removed]",
      "text/plain": [
       "<Figure size 432x288 with 1 Axes>"
      ]
     },
     "metadata": {
      "needs_background": "light"
     },
     "output_type": "display_data"
    }
   ],
   "source": [
    "plt.hist(WEIGHT, bins=100)"
   ]
  },
  {
   "cell_type": "code",
   "execution_count": 74,
   "metadata": {},
   "outputs": [
    {
     "data": {
      "text/plain": [
       "array([0.99043766, 0.99414641, 0.99279923, 0.9561083 , 0.98573211])"
      ]
     },
     "execution_count": 74,
     "metadata": {},
     "output_type": "execute_result"
    }
   ],
   "source": [
    "WEIGHT[slice(i*n_regressor,i*n_regressor+n_regressor)]"
   ]
  },
  {
   "cell_type": "code",
   "execution_count": 70,
   "metadata": {},
   "outputs": [
    {
     "data": {
      "text/plain": [
       "array([0.20315916, 0.18704996, 0.2066416 , 0.19083719, 0.21231209])"
      ]
     },
     "execution_count": 70,
     "metadata": {},
     "output_type": "execute_result"
    }
   ],
   "source": [
    "WEIGHT[0:0+n_regressor]"
   ]
  },
  {
   "cell_type": "code",
   "execution_count": null,
   "metadata": {},
   "outputs": [],
   "source": []
  },
  {
   "cell_type": "code",
   "execution_count": 55,
   "metadata": {},
   "outputs": [
    {
     "data": {
      "text/plain": [
       "array([[ 0.        ,  0.        ,  0.        , ...,  0.        ,\n",
       "         0.        ,  1.81476007],\n",
       "       [ 0.        ,  0.        ,  0.        , ...,  0.        ,\n",
       "         0.        , -0.2698424 ],\n",
       "       [ 0.        ,  0.        ,  0.        , ...,  0.        ,\n",
       "         0.        , 17.52487575],\n",
       "       ...,\n",
       "       [ 0.        ,  0.        ,  0.        , ...,  0.        ,\n",
       "         0.        , 14.68876708],\n",
       "       [ 0.        ,  0.        ,  0.        , ...,  0.        ,\n",
       "         0.        , -2.53224725],\n",
       "       [ 0.        ,  0.        ,  0.        , ...,  0.        ,\n",
       "         0.        ,  3.96798033]])"
      ]
     },
     "execution_count": 55,
     "metadata": {},
     "output_type": "execute_result"
    }
   ],
   "source": [
    "COEF"
   ]
  },
  {
   "cell_type": "code",
   "execution_count": 384,
   "metadata": {},
   "outputs": [
    {
     "data": {
      "text/plain": [
       "City\n",
       "Abohar       -0.400660\n",
       "Achalpur     -0.175703\n",
       "Adilabad     -0.394823\n",
       "Adoni        -0.373636\n",
       "Agartala      0.225878\n",
       "Agra         -0.783651\n",
       "Ahmadabad    -0.010600\n",
       "Ahmadnagar   -0.228764\n",
       "Aizawl        0.103872\n",
       "Ajmer        -0.023217\n",
       "Name: 1817-02-01 00:00:00, dtype: float64"
      ]
     },
     "execution_count": 384,
     "metadata": {},
     "output_type": "execute_result"
    }
   ],
   "source": [
    "i=10\n",
    "\n",
    "np.matmul(\n",
    "    COEF,\n",
    "    df.iloc[:,i].append(pd.Series([1]))\n",
    ").reshape(n_station, n_regressor).mean(axis=1) - df.iloc[:10,i]\n"
   ]
  },
  {
   "cell_type": "code",
   "execution_count": 347,
   "metadata": {},
   "outputs": [
    {
     "data": {
      "text/plain": [
       "City\n",
       "Abohar        26.641\n",
       "Achalpur      29.992\n",
       "Adilabad      31.297\n",
       "Adoni         30.342\n",
       "Agartala      26.449\n",
       "Agra          28.738\n",
       "Ahmadabad     29.427\n",
       "Ahmadnagar    27.695\n",
       "Aizawl        24.400\n",
       "Ajmer         28.595\n",
       "Name: 1816-04-01 00:00:00, dtype: float64"
      ]
     },
     "execution_count": 347,
     "metadata": {},
     "output_type": "execute_result"
    }
   ],
   "source": [
    "df.iloc[:10,0]"
   ]
  },
  {
   "cell_type": "code",
   "execution_count": 325,
   "metadata": {
    "scrolled": true
   },
   "outputs": [
    {
     "data": {
      "text/plain": [
       "1816-04-01    26.641\n",
       "1816-05-01    32.535\n",
       "1816-06-01    33.254\n",
       "1816-07-01    31.105\n",
       "1816-08-01    30.429\n",
       "               ...  \n",
       "2013-04-01    28.265\n",
       "2013-05-01    34.354\n",
       "2013-06-01    35.018\n",
       "2013-07-01    33.771\n",
       "2013-08-01    31.749\n",
       "Name: Abohar, Length: 2025, dtype: float64"
      ]
     },
     "execution_count": 325,
     "metadata": {},
     "output_type": "execute_result"
    }
   ],
   "source": [
    "df.loc['Abohar']"
   ]
  },
  {
   "cell_type": "code",
   "execution_count": 327,
   "metadata": {},
   "outputs": [
    {
     "data": {
      "text/plain": [
       "1816-04-01    26.702792\n",
       "1816-05-01    32.792622\n",
       "1816-06-01    33.377710\n",
       "1816-07-01    30.891762\n",
       "1816-08-01    30.271370\n",
       "                ...    \n",
       "2013-04-01    28.476314\n",
       "2013-05-01    34.690429\n",
       "2013-06-01    35.378771\n",
       "2013-07-01    33.591639\n",
       "2013-08-01    31.561712\n",
       "Length: 2025, dtype: float64"
      ]
     },
     "execution_count": 327,
     "metadata": {},
     "output_type": "execute_result"
    }
   ],
   "source": [
    "df.loc['Bharuch'] * -0.13494314 + df.loc['Amritsar'] * 0.56975373 + df.loc['Bikaner'] * 0.57257126"
   ]
  },
  {
   "cell_type": "code",
   "execution_count": 324,
   "metadata": {},
   "outputs": [
    {
     "data": {
      "text/plain": [
       "array([49.54933474, 53.61445881, 51.89121456, ..., 54.87943036,\n",
       "       52.13485002, 51.0880009 ])"
      ]
     },
     "execution_count": 324,
     "metadata": {},
     "output_type": "execute_result"
    }
   ],
   "source": [
    "np.matmul(\n",
    "    df.T.values,\n",
    "    COEF[0]\n",
    ")"
   ]
  },
  {
   "cell_type": "code",
   "execution_count": null,
   "metadata": {},
   "outputs": [],
   "source": []
  },
  {
   "cell_type": "code",
   "execution_count": 321,
   "metadata": {},
   "outputs": [
    {
     "data": {
      "text/plain": [
       "(97,)"
      ]
     },
     "execution_count": 321,
     "metadata": {},
     "output_type": "execute_result"
    }
   ],
   "source": []
  },
  {
   "cell_type": "code",
   "execution_count": 314,
   "metadata": {},
   "outputs": [
    {
     "ename": "ValueError",
     "evalue": "Shape of passed values is (2025, 1), indices imply (2025, 97)",
     "output_type": "error",
     "traceback": [
      "\u001b[0;31m---------------------------------------------------------------------------\u001b[0m",
      "\u001b[0;31mValueError\u001b[0m                                Traceback (most recent call last)",
      "\u001b[0;32m~/anaconda3/lib/python3.8/site-packages/pandas/core/internals/managers.py\u001b[0m in \u001b[0;36mcreate_block_manager_from_blocks\u001b[0;34m(blocks, axes)\u001b[0m\n\u001b[1;32m   1661\u001b[0m                 blocks = [\n\u001b[0;32m-> 1662\u001b[0;31m                     \u001b[0mmake_block\u001b[0m\u001b[0;34m(\u001b[0m\u001b[0mvalues\u001b[0m\u001b[0;34m=\u001b[0m\u001b[0mblocks\u001b[0m\u001b[0;34m[\u001b[0m\u001b[0;36m0\u001b[0m\u001b[0;34m]\u001b[0m\u001b[0;34m,\u001b[0m \u001b[0mplacement\u001b[0m\u001b[0;34m=\u001b[0m\u001b[0mslice\u001b[0m\u001b[0;34m(\u001b[0m\u001b[0;36m0\u001b[0m\u001b[0;34m,\u001b[0m \u001b[0mlen\u001b[0m\u001b[0;34m(\u001b[0m\u001b[0maxes\u001b[0m\u001b[0;34m[\u001b[0m\u001b[0;36m0\u001b[0m\u001b[0;34m]\u001b[0m\u001b[0;34m)\u001b[0m\u001b[0;34m)\u001b[0m\u001b[0;34m)\u001b[0m\u001b[0;34m\u001b[0m\u001b[0;34m\u001b[0m\u001b[0m\n\u001b[0m\u001b[1;32m   1663\u001b[0m                 ]\n",
      "\u001b[0;32m~/anaconda3/lib/python3.8/site-packages/pandas/core/internals/blocks.py\u001b[0m in \u001b[0;36mmake_block\u001b[0;34m(values, placement, klass, ndim, dtype)\u001b[0m\n\u001b[1;32m   2721\u001b[0m \u001b[0;34m\u001b[0m\u001b[0m\n\u001b[0;32m-> 2722\u001b[0;31m     \u001b[0;32mreturn\u001b[0m \u001b[0mklass\u001b[0m\u001b[0;34m(\u001b[0m\u001b[0mvalues\u001b[0m\u001b[0;34m,\u001b[0m \u001b[0mndim\u001b[0m\u001b[0;34m=\u001b[0m\u001b[0mndim\u001b[0m\u001b[0;34m,\u001b[0m \u001b[0mplacement\u001b[0m\u001b[0;34m=\u001b[0m\u001b[0mplacement\u001b[0m\u001b[0;34m)\u001b[0m\u001b[0;34m\u001b[0m\u001b[0;34m\u001b[0m\u001b[0m\n\u001b[0m\u001b[1;32m   2723\u001b[0m \u001b[0;34m\u001b[0m\u001b[0m\n",
      "\u001b[0;32m~/anaconda3/lib/python3.8/site-packages/pandas/core/internals/blocks.py\u001b[0m in \u001b[0;36m__init__\u001b[0;34m(self, values, placement, ndim)\u001b[0m\n\u001b[1;32m    129\u001b[0m         \u001b[0;32mif\u001b[0m \u001b[0mself\u001b[0m\u001b[0;34m.\u001b[0m\u001b[0m_validate_ndim\u001b[0m \u001b[0;32mand\u001b[0m \u001b[0mself\u001b[0m\u001b[0;34m.\u001b[0m\u001b[0mndim\u001b[0m \u001b[0;32mand\u001b[0m \u001b[0mlen\u001b[0m\u001b[0;34m(\u001b[0m\u001b[0mself\u001b[0m\u001b[0;34m.\u001b[0m\u001b[0mmgr_locs\u001b[0m\u001b[0;34m)\u001b[0m \u001b[0;34m!=\u001b[0m \u001b[0mlen\u001b[0m\u001b[0;34m(\u001b[0m\u001b[0mself\u001b[0m\u001b[0;34m.\u001b[0m\u001b[0mvalues\u001b[0m\u001b[0;34m)\u001b[0m\u001b[0;34m:\u001b[0m\u001b[0;34m\u001b[0m\u001b[0;34m\u001b[0m\u001b[0m\n\u001b[0;32m--> 130\u001b[0;31m             raise ValueError(\n\u001b[0m\u001b[1;32m    131\u001b[0m                 \u001b[0;34mf\"Wrong number of items passed {len(self.values)}, \"\u001b[0m\u001b[0;34m\u001b[0m\u001b[0;34m\u001b[0m\u001b[0m\n",
      "\u001b[0;31mValueError\u001b[0m: Wrong number of items passed 1, placement implies 97",
      "\nDuring handling of the above exception, another exception occurred:\n",
      "\u001b[0;31mValueError\u001b[0m                                Traceback (most recent call last)",
      "\u001b[0;32m<ipython-input-314-332c761fc4e9>\u001b[0m in \u001b[0;36m<module>\u001b[0;34m\u001b[0m\n\u001b[0;32m----> 1\u001b[0;31m np.matmul(\n\u001b[0m\u001b[1;32m      2\u001b[0m     \u001b[0mdf\u001b[0m\u001b[0;34m.\u001b[0m\u001b[0mT\u001b[0m\u001b[0;34m,\u001b[0m\u001b[0;34m\u001b[0m\u001b[0;34m\u001b[0m\u001b[0m\n\u001b[1;32m      3\u001b[0m     \u001b[0mCOEF\u001b[0m\u001b[0;34m[\u001b[0m\u001b[0;36m0\u001b[0m\u001b[0;34m]\u001b[0m\u001b[0;34m\u001b[0m\u001b[0;34m\u001b[0m\u001b[0m\n\u001b[1;32m      4\u001b[0m )\n",
      "\u001b[0;32m~/anaconda3/lib/python3.8/site-packages/pandas/core/generic.py\u001b[0m in \u001b[0;36m__array_wrap__\u001b[0;34m(self, result, context)\u001b[0m\n\u001b[1;32m   1788\u001b[0m             \u001b[0;32mreturn\u001b[0m \u001b[0mresult\u001b[0m\u001b[0;34m\u001b[0m\u001b[0;34m\u001b[0m\u001b[0m\n\u001b[1;32m   1789\u001b[0m         \u001b[0md\u001b[0m \u001b[0;34m=\u001b[0m \u001b[0mself\u001b[0m\u001b[0;34m.\u001b[0m\u001b[0m_construct_axes_dict\u001b[0m\u001b[0;34m(\u001b[0m\u001b[0mself\u001b[0m\u001b[0;34m.\u001b[0m\u001b[0m_AXIS_ORDERS\u001b[0m\u001b[0;34m,\u001b[0m \u001b[0mcopy\u001b[0m\u001b[0;34m=\u001b[0m\u001b[0;32mFalse\u001b[0m\u001b[0;34m)\u001b[0m\u001b[0;34m\u001b[0m\u001b[0;34m\u001b[0m\u001b[0m\n\u001b[0;32m-> 1790\u001b[0;31m         return self._constructor(result, **d).__finalize__(\n\u001b[0m\u001b[1;32m   1791\u001b[0m             \u001b[0mself\u001b[0m\u001b[0;34m,\u001b[0m \u001b[0mmethod\u001b[0m\u001b[0;34m=\u001b[0m\u001b[0;34m\"__array_wrap__\"\u001b[0m\u001b[0;34m\u001b[0m\u001b[0;34m\u001b[0m\u001b[0m\n\u001b[1;32m   1792\u001b[0m         )\n",
      "\u001b[0;32m~/anaconda3/lib/python3.8/site-packages/pandas/core/frame.py\u001b[0m in \u001b[0;36m__init__\u001b[0;34m(self, data, index, columns, dtype, copy)\u001b[0m\n\u001b[1;32m    495\u001b[0m                 \u001b[0mmgr\u001b[0m \u001b[0;34m=\u001b[0m \u001b[0minit_dict\u001b[0m\u001b[0;34m(\u001b[0m\u001b[0;34m{\u001b[0m\u001b[0mdata\u001b[0m\u001b[0;34m.\u001b[0m\u001b[0mname\u001b[0m\u001b[0;34m:\u001b[0m \u001b[0mdata\u001b[0m\u001b[0;34m}\u001b[0m\u001b[0;34m,\u001b[0m \u001b[0mindex\u001b[0m\u001b[0;34m,\u001b[0m \u001b[0mcolumns\u001b[0m\u001b[0;34m,\u001b[0m \u001b[0mdtype\u001b[0m\u001b[0;34m=\u001b[0m\u001b[0mdtype\u001b[0m\u001b[0;34m)\u001b[0m\u001b[0;34m\u001b[0m\u001b[0;34m\u001b[0m\u001b[0m\n\u001b[1;32m    496\u001b[0m             \u001b[0;32melse\u001b[0m\u001b[0;34m:\u001b[0m\u001b[0;34m\u001b[0m\u001b[0;34m\u001b[0m\u001b[0m\n\u001b[0;32m--> 497\u001b[0;31m                 \u001b[0mmgr\u001b[0m \u001b[0;34m=\u001b[0m \u001b[0minit_ndarray\u001b[0m\u001b[0;34m(\u001b[0m\u001b[0mdata\u001b[0m\u001b[0;34m,\u001b[0m \u001b[0mindex\u001b[0m\u001b[0;34m,\u001b[0m \u001b[0mcolumns\u001b[0m\u001b[0;34m,\u001b[0m \u001b[0mdtype\u001b[0m\u001b[0;34m=\u001b[0m\u001b[0mdtype\u001b[0m\u001b[0;34m,\u001b[0m \u001b[0mcopy\u001b[0m\u001b[0;34m=\u001b[0m\u001b[0mcopy\u001b[0m\u001b[0;34m)\u001b[0m\u001b[0;34m\u001b[0m\u001b[0;34m\u001b[0m\u001b[0m\n\u001b[0m\u001b[1;32m    498\u001b[0m \u001b[0;34m\u001b[0m\u001b[0m\n\u001b[1;32m    499\u001b[0m         \u001b[0;31m# For data is list-like, or Iterable (will consume into list)\u001b[0m\u001b[0;34m\u001b[0m\u001b[0;34m\u001b[0m\u001b[0;34m\u001b[0m\u001b[0m\n",
      "\u001b[0;32m~/anaconda3/lib/python3.8/site-packages/pandas/core/internals/construction.py\u001b[0m in \u001b[0;36minit_ndarray\u001b[0;34m(values, index, columns, dtype, copy)\u001b[0m\n\u001b[1;32m    232\u001b[0m         \u001b[0mblock_values\u001b[0m \u001b[0;34m=\u001b[0m \u001b[0;34m[\u001b[0m\u001b[0mvalues\u001b[0m\u001b[0;34m]\u001b[0m\u001b[0;34m\u001b[0m\u001b[0;34m\u001b[0m\u001b[0m\n\u001b[1;32m    233\u001b[0m \u001b[0;34m\u001b[0m\u001b[0m\n\u001b[0;32m--> 234\u001b[0;31m     \u001b[0;32mreturn\u001b[0m \u001b[0mcreate_block_manager_from_blocks\u001b[0m\u001b[0;34m(\u001b[0m\u001b[0mblock_values\u001b[0m\u001b[0;34m,\u001b[0m \u001b[0;34m[\u001b[0m\u001b[0mcolumns\u001b[0m\u001b[0;34m,\u001b[0m \u001b[0mindex\u001b[0m\u001b[0;34m]\u001b[0m\u001b[0;34m)\u001b[0m\u001b[0;34m\u001b[0m\u001b[0;34m\u001b[0m\u001b[0m\n\u001b[0m\u001b[1;32m    235\u001b[0m \u001b[0;34m\u001b[0m\u001b[0m\n\u001b[1;32m    236\u001b[0m \u001b[0;34m\u001b[0m\u001b[0m\n",
      "\u001b[0;32m~/anaconda3/lib/python3.8/site-packages/pandas/core/internals/managers.py\u001b[0m in \u001b[0;36mcreate_block_manager_from_blocks\u001b[0;34m(blocks, axes)\u001b[0m\n\u001b[1;32m   1670\u001b[0m         \u001b[0mblocks\u001b[0m \u001b[0;34m=\u001b[0m \u001b[0;34m[\u001b[0m\u001b[0mgetattr\u001b[0m\u001b[0;34m(\u001b[0m\u001b[0mb\u001b[0m\u001b[0;34m,\u001b[0m \u001b[0;34m\"values\"\u001b[0m\u001b[0;34m,\u001b[0m \u001b[0mb\u001b[0m\u001b[0;34m)\u001b[0m \u001b[0;32mfor\u001b[0m \u001b[0mb\u001b[0m \u001b[0;32min\u001b[0m \u001b[0mblocks\u001b[0m\u001b[0;34m]\u001b[0m\u001b[0;34m\u001b[0m\u001b[0;34m\u001b[0m\u001b[0m\n\u001b[1;32m   1671\u001b[0m         \u001b[0mtot_items\u001b[0m \u001b[0;34m=\u001b[0m \u001b[0msum\u001b[0m\u001b[0;34m(\u001b[0m\u001b[0mb\u001b[0m\u001b[0;34m.\u001b[0m\u001b[0mshape\u001b[0m\u001b[0;34m[\u001b[0m\u001b[0;36m0\u001b[0m\u001b[0;34m]\u001b[0m \u001b[0;32mfor\u001b[0m \u001b[0mb\u001b[0m \u001b[0;32min\u001b[0m \u001b[0mblocks\u001b[0m\u001b[0;34m)\u001b[0m\u001b[0;34m\u001b[0m\u001b[0;34m\u001b[0m\u001b[0m\n\u001b[0;32m-> 1672\u001b[0;31m         \u001b[0;32mraise\u001b[0m \u001b[0mconstruction_error\u001b[0m\u001b[0;34m(\u001b[0m\u001b[0mtot_items\u001b[0m\u001b[0;34m,\u001b[0m \u001b[0mblocks\u001b[0m\u001b[0;34m[\u001b[0m\u001b[0;36m0\u001b[0m\u001b[0;34m]\u001b[0m\u001b[0;34m.\u001b[0m\u001b[0mshape\u001b[0m\u001b[0;34m[\u001b[0m\u001b[0;36m1\u001b[0m\u001b[0;34m:\u001b[0m\u001b[0;34m]\u001b[0m\u001b[0;34m,\u001b[0m \u001b[0maxes\u001b[0m\u001b[0;34m,\u001b[0m \u001b[0me\u001b[0m\u001b[0;34m)\u001b[0m\u001b[0;34m\u001b[0m\u001b[0;34m\u001b[0m\u001b[0m\n\u001b[0m\u001b[1;32m   1673\u001b[0m \u001b[0;34m\u001b[0m\u001b[0m\n\u001b[1;32m   1674\u001b[0m \u001b[0;34m\u001b[0m\u001b[0m\n",
      "\u001b[0;31mValueError\u001b[0m: Shape of passed values is (2025, 1), indices imply (2025, 97)"
     ]
    }
   ],
   "source": [
    "np.matmul(\n",
    "    df.T,\n",
    "A    COEF[0]\n",
    ")"
   ]
  },
  {
   "cell_type": "code",
   "execution_count": null,
   "metadata": {},
   "outputs": [],
   "source": []
  },
  {
   "cell_type": "code",
   "execution_count": 303,
   "metadata": {},
   "outputs": [
    {
     "data": {
      "text/plain": [
       "array([49.54933474, 27.47391935, 37.96589508, 19.98159677, 62.1091263 ,\n",
       "       26.70279258, 78.63107079, 32.09632   , 24.65089744, 28.07977923,\n",
       "       27.64864698, 43.51771734, 32.27161147, 32.24301047, 27.06517448,\n",
       "       31.00092493, 24.15599002, 33.28003402, 47.84713739, 35.41042816,\n",
       "       25.47805923, 40.4138637 , 36.48080711, 35.97312142, 35.6911022 ,\n",
       "       26.39820077, 24.13733723, 31.51207824, 29.7656164 , 29.97919233,\n",
       "       28.13250686, 32.61560177, 26.08413981, 42.50350189, 28.09962988,\n",
       "       32.56344108, 28.63116372, 32.01503599, 29.71346478, 37.01484272,\n",
       "       20.88534866, 24.95643362, 31.76025706, 27.06119298, 28.88456963,\n",
       "       24.54782433, 24.08138001, 29.41512692, 11.81872159, 18.91787201,\n",
       "       47.24262312, 34.04428282, 30.44815707, 41.03951032, 36.6812326 ,\n",
       "       29.26591605, 35.56316079, 28.4388363 , 43.85346586, 29.12758952,\n",
       "       23.6745561 , 22.62087395, 25.08116344, 20.755081  , 22.8258629 ,\n",
       "       31.82412503, 22.68599898, 19.66605555, 20.85364813, 23.51299011,\n",
       "       28.13421416, 26.9388015 , 40.73433233, 29.12337481, 37.16368108,\n",
       "       24.8869585 , 20.00791938, 24.99571491, 41.09585192, 15.28508035,\n",
       "       32.22269514, 22.85742204, 20.54628391, 26.24188033, 19.54862799,\n",
       "       19.36631005, 10.4966568 , 29.79541698, 17.75106911, 16.0176942 ,\n",
       "       30.3058402 , 18.45521555,  8.01467403, 33.99485845, 42.57496997,\n",
       "       24.63880923, 34.34672719, 29.13943079, 27.54027401, 29.09788896,\n",
       "       33.77669998, 41.47686151, 39.95779815, 29.01132547, 31.1681644 ,\n",
       "       42.10611522, 40.15468408, 42.47845406, 43.4641629 , 22.76535115,\n",
       "       30.17647556, 14.78250157, 20.76874307, 14.01804313, 29.77068962,\n",
       "       20.94754102, 16.96634002, 16.45701284, 16.35323738, 14.34511927,\n",
       "       27.42802446, 28.28890891, 16.18161246, 18.55730348, 19.58198202,\n",
       "       30.06504874, 17.77783366, 18.38169292, 15.35916289, 18.4457851 ,\n",
       "       13.89014978, 31.04916942, 34.10784021, 35.97604165, 32.97911647,\n",
       "       13.31758093, 34.19417554, 20.64499437, 29.09857155, 25.90791844,\n",
       "       33.46062204, 31.39836232, 33.61808271, 27.32322855, 38.83892861,\n",
       "       23.83179984, 32.56036805, 51.45596173, 34.60408657, 32.16545774,\n",
       "       28.2922797 , 26.24898432, 26.35062009, 29.9011981 , 33.57515891,\n",
       "       26.18002022, 12.25651969, 69.19834424, 27.43087564, 23.78031301,\n",
       "       21.47834608, 18.00384144, 20.78546272, 23.07111678, 21.92671694,\n",
       "       28.28062038, 20.44159471, 20.53340871, 20.78552584, 16.61104326,\n",
       "       36.36449096, 26.3621611 , 26.25843153, 19.46779171, 22.85163792,\n",
       "       24.89915763, 18.45796921, 19.73089592, 16.32419572, 14.0866666 ,\n",
       "       47.93211398, 28.39791675, 23.47190199, 16.94687733, 21.8279689 ,\n",
       "       23.80630436, 33.58981393, 27.0479432 , 17.88062709, 29.99311726,\n",
       "       27.40578592, 30.32378594, 28.42942766, 28.53686598, 27.80423006,\n",
       "       42.57582763, 24.05214433, 50.36267405, 37.57172792, 43.72048902])"
      ]
     },
     "execution_count": 303,
     "metadata": {},
     "output_type": "execute_result"
    }
   ],
   "source": [
    "np.matmul(\n",
    "    COEF,\n",
    "    df.iloc[:,0]\n",
    ")"
   ]
  },
  {
   "cell_type": "code",
   "execution_count": 237,
   "metadata": {},
   "outputs": [
    {
     "data": {
      "text/plain": [
       "-2.432306379263782"
      ]
     },
     "execution_count": 237,
     "metadata": {},
     "output_type": "execute_result"
    }
   ],
   "source": [
    "np.matmul(\n",
    "    COEF[6],\n",
    "    df.iloc[:,0]\n",
    ")"
   ]
  },
  {
   "cell_type": "code",
   "execution_count": 231,
   "metadata": {},
   "outputs": [
    {
     "data": {
      "text/plain": [
       "26.641"
      ]
     },
     "execution_count": 231,
     "metadata": {},
     "output_type": "execute_result"
    }
   ],
   "source": [
    "df.iloc[0,0]"
   ]
  },
  {
   "cell_type": "code",
   "execution_count": 218,
   "metadata": {},
   "outputs": [],
   "source": [
    "PRED = np.matmul(\n",
    "    COEF,\n",
    "    df.iloc[:,0]\n",
    ")"
   ]
  },
  {
   "cell_type": "code",
   "execution_count": 220,
   "metadata": {},
   "outputs": [
    {
     "data": {
      "text/plain": [
       "(200,)"
      ]
     },
     "execution_count": 220,
     "metadata": {},
     "output_type": "execute_result"
    }
   ],
   "source": [
    "PRED.shape"
   ]
  },
  {
   "cell_type": "code",
   "execution_count": 227,
   "metadata": {},
   "outputs": [
    {
     "ename": "NameError",
     "evalue": "name 'Alandur' is not defined",
     "output_type": "error",
     "traceback": [
      "\u001b[0;31m---------------------------------------------------------------------------\u001b[0m",
      "\u001b[0;31mNameError\u001b[0m                                 Traceback (most recent call last)",
      "\u001b[0;32m<ipython-input-227-8b4b7e6f0369>\u001b[0m in \u001b[0;36m<module>\u001b[0;34m\u001b[0m\n\u001b[0;32m----> 1\u001b[0;31m \u001b[0mAlandur\u001b[0m\u001b[0;34m\u001b[0m\u001b[0;34m\u001b[0m\u001b[0m\n\u001b[0m",
      "\u001b[0;31mNameError\u001b[0m: name 'Alandur' is not defined"
     ]
    }
   ],
   "source": [
    "Alandur"
   ]
  },
  {
   "cell_type": "code",
   "execution_count": 226,
   "metadata": {},
   "outputs": [
    {
     "data": {
      "text/plain": [
       "City\n",
       "Abohar        -4.753990\n",
       "Achalpur       6.282720\n",
       "Adilabad      -2.312907\n",
       "Adoni         -0.987025\n",
       "Agartala      -5.125964\n",
       "Agra           8.284352\n",
       "Ahmadabad     -1.014706\n",
       "Ahmadnagar     0.804779\n",
       "Aizawl        -4.077917\n",
       "Ajmer          4.961513\n",
       "Akola          3.757692\n",
       "Alandur      -10.008140\n",
       "Alappuzha     -5.164323\n",
       "Aligarh        0.553177\n",
       "Allahabad      7.257717\n",
       "Ambala         5.400147\n",
       "Ambarnath     -4.260879\n",
       "Ambur         -5.634788\n",
       "Amritsar      -3.479171\n",
       "Amroha         3.855089\n",
       "Name: 1816-04-01 00:00:00, dtype: float64"
      ]
     },
     "execution_count": 226,
     "metadata": {},
     "output_type": "execute_result"
    }
   ],
   "source": [
    "PRED.reshape(20,10).mean(axis=1) - df.iloc[:20,0]"
   ]
  },
  {
   "cell_type": "code",
   "execution_count": 174,
   "metadata": {},
   "outputs": [
    {
     "data": {
      "text/plain": [
       "['Baharampur', 'Adoni', 'Ara']"
      ]
     },
     "execution_count": 174,
     "metadata": {},
     "output_type": "execute_result"
    }
   ],
   "source": [
    "cities"
   ]
  },
  {
   "cell_type": "code",
   "execution_count": 87,
   "metadata": {},
   "outputs": [
    {
     "data": {
      "text/plain": [
       "array('Abohar', dtype='<U6')"
      ]
     },
     "execution_count": 87,
     "metadata": {},
     "output_type": "execute_result"
    }
   ],
   "source": [
    "np.array((df.index[0]))"
   ]
  },
  {
   "cell_type": "code",
   "execution_count": 90,
   "metadata": {},
   "outputs": [
    {
     "data": {
      "text/plain": [
       "array(['Achalpur', 'Adilabad', 'Adoni', 'Agartala', 'Agra', 'Ahmadabad',\n",
       "       'Ahmadnagar', 'Aizawl', 'Ajmer', 'Akola', 'Alandur', 'Alappuzha',\n",
       "       'Aligarh', 'Allahabad', 'Ambala', 'Ambarnath', 'Ambur', 'Amritsar',\n",
       "       'Amroha', 'Ara', 'Asansol', 'Aurangabad', 'Azamgarh', 'Bagaha',\n",
       "       'Baharampur', 'Bahraich', 'Baleshwar', 'Balurghat', 'Banda',\n",
       "       'Bangalore', 'Barnala', 'Barsi', 'Beawar', 'Begusarai', 'Belgaum',\n",
       "       'Bhadravati', 'Bharatpur', 'Bharuch', 'Bhavnagar', 'Bhilai',\n",
       "       'Bhilwara', 'Bhimavaram', 'Bhiwandi', 'Bhiwani', 'Bhopal',\n",
       "       'Bhubaneswar', 'Bhuj', 'Bhusawal', 'Bidar', 'Bijapur', 'Bikaner',\n",
       "       'Brahmapur', 'Chandigarh', 'Chhindwara', 'Chitradurga', 'Cuddapah',\n",
       "       'Damoh', 'Darbhanga', 'Darjiling', 'Dehri', 'Dewas', 'Dibrugarh',\n",
       "       'Dimapur', 'Dindigul', 'Durg', 'Eluru', 'Fatehpur', 'Gadag',\n",
       "       'Gandhidham', 'Godhra', 'Gondal', 'Gudalur', 'Gulbarga', 'Guna',\n",
       "       'Guwahati', 'Haldwani', 'Hazaribag', 'Hyderabad', 'Ichalkaranji',\n",
       "       'Imphal', 'Jalpaiguri', 'Jammu', 'Karimnagar', 'Kochi', 'Kolar',\n",
       "       'Kota', 'Kumbakonam', 'Machilipatnam', 'Murwara', 'Palanpur',\n",
       "       'Port Blair', 'Raigarh', 'Raurkela', 'Shillong', 'Srinagar',\n",
       "       'Visakhapatnam'], dtype=object)"
      ]
     },
     "execution_count": 90,
     "metadata": {},
     "output_type": "execute_result"
    }
   ],
   "source": [
    "np.delete(\n",
    "    np.array(df.index),\n",
    "    i\n",
    ")"
   ]
  },
  {
   "cell_type": "code",
   "execution_count": 55,
   "metadata": {},
   "outputs": [],
   "source": []
  },
  {
   "cell_type": "code",
   "execution_count": 58,
   "metadata": {},
   "outputs": [
    {
     "data": {
      "text/plain": [
       "0.9980720960409558"
      ]
     },
     "execution_count": 58,
     "metadata": {},
     "output_type": "execute_result"
    }
   ],
   "source": []
  },
  {
   "cell_type": "code",
   "execution_count": 59,
   "metadata": {},
   "outputs": [
    {
     "data": {
      "text/plain": [
       "array([-0.00879475,  1.00832045,  0.07803537])"
      ]
     },
     "execution_count": 59,
     "metadata": {},
     "output_type": "execute_result"
    }
   ],
   "source": [
    "reg.coef_"
   ]
  },
  {
   "cell_type": "code",
   "execution_count": 64,
   "metadata": {},
   "outputs": [
    {
     "data": {
      "text/plain": [
       "[<matplotlib.lines.Line2D at 0x7f247902d400>]"
      ]
     },
     "execution_count": 64,
     "metadata": {},
     "output_type": "execute_result"
    },
    {
     "data": {
      "image/png": "[encoded data removed]",
      "text/plain": [
       "<Figure size 432x288 with 1 Axes>"
      ]
     },
     "metadata": {
      "needs_background": "light"
     },
     "output_type": "display_data"
    }
   ],
   "source": [
    "plt.plot(reg.predict(X.T)-y)"
   ]
  },
  {
   "cell_type": "code",
   "execution_count": null,
   "metadata": {},
   "outputs": [],
   "source": []
  }
 ],
 "metadata": {
  "kernelspec": {
   "display_name": "Python 3",
   "language": "python",
   "name": "python3"
  },
  "language_info": {
   "codemirror_mode": {
    "name": "ipython",
    "version": 3
   },
   "file_extension": ".py",
   "mimetype": "text/x-python",
   "name": "python",
   "nbconvert_exporter": "python",
   "pygments_lexer": "ipython3",
   "version": "3.8.8"
  }
 },
 "nbformat": 4,
 "nbformat_minor": 4
}
