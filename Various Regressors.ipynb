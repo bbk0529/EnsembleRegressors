{
 "cells": [
  {
   "cell_type": "code",
   "execution_count": 1,
   "metadata": {},
   "outputs": [],
   "source": [
    "from regressors import *\n",
    "import pickle\n",
    "import pandas as pd"
   ]
  },
  {
   "cell_type": "code",
   "execution_count": 2,
   "metadata": {},
   "outputs": [],
   "source": [
    "ensembleregression = EnsembleRegression(n_regressors=5,n_variables=3, eps=3, decision_boundary=0.6, global_search=False)\n",
    "spatialcomparision = SpatialComparision()\n",
    "smoothpredictor = SmoothingAndPredict()\n",
    "ransacregressor = RansacRegressor()\n",
    "huberregressor = HuberRegressor()\n",
    "theilSenregressor = TheilSenRegressor()\n"
   ]
  },
  {
   "cell_type": "code",
   "execution_count": 161,
   "metadata": {},
   "outputs": [
    {
     "name": "stdout",
     "output_type": "stream",
     "text": [
      "# of noises: 1215.0\n",
      "# of data : 54000\n"
     ]
    }
   ],
   "source": [
    "\n",
    "n_stations = 450\n",
    "n_timesteps= 120 #maybe 144 is the maximum to propoerly manage them \n",
    "k = 10\n",
    "p_noise_stations = 0.15\n",
    "p_noise_timesteps= 0.15\n",
    "print(\"# of noises:\", n_stations * n_timesteps * p_noise_stations * p_noise_timesteps)\n",
    "print(\"# of data :\", n_stations * n_timesteps )\n",
    "\n",
    "data = Tempearture_DWD(n_stations, n_timesteps, k, p_noise_stations=p_noise_stations, p_noise_timesteps= p_noise_timesteps)\n"
   ]
  },
  {
   "cell_type": "markdown",
   "metadata": {},
   "source": [
    "def evaluator(regressor) : \n",
    "    RESULT = []    \n",
    "    lst_n_timesteps = range(50,150,10)\n",
    "    \n",
    "    for n_timesteps in lst_n_timesteps : \n",
    "        n_stations = 450\n",
    "    #     n_timesteps= 50 #maybe 144 is the maximum to propoerly manage them     \n",
    "        k = 10\n",
    "        p_noise_stations = 0.05\n",
    "        p_noise_timesteps= 0.05    \n",
    "        data = Tempearture_DWD(n_stations, n_timesteps, k, p_noise_stations=p_noise_stations, p_noise_timesteps= p_noise_timesteps)\n",
    "        \n",
    "        executor = Executor(data, regressor)\n",
    "        try : \n",
    "            resultTotal = executor.evaluate_validator()  \n",
    "            result = [resultTotal['precision'],resultTotal['recall'], resultTotal['f1']]\n",
    "            print(result)\n",
    "        except : \n",
    "            result = [-1,-1,-1]\n",
    "\n",
    "\n",
    "        RESULT.append(result)\n",
    "    return np.array(RESULT)"
   ]
  },
  {
   "cell_type": "code",
   "execution_count": 25,
   "metadata": {},
   "outputs": [],
   "source": [
    "import warnings\n",
    "warnings.filterwarnings('ignore')"
   ]
  },
  {
   "cell_type": "code",
   "execution_count": 162,
   "metadata": {},
   "outputs": [
    {
     "data": {
      "text/plain": [
       "[0.961, 0.99, 0.975]"
      ]
     },
     "execution_count": 162,
     "metadata": {},
     "output_type": "execute_result"
    }
   ],
   "source": [
    "executorHuber = Executor(data, huberregressor)\n",
    "result = executorHuber.evaluate_validator()\n",
    "[result['precision'],result['recall'], result['f1']]\n"
   ]
  },
  {
   "cell_type": "code",
   "execution_count": 163,
   "metadata": {},
   "outputs": [
    {
     "data": {
      "text/plain": [
       "[0.994, 0.984, 0.989]"
      ]
     },
     "execution_count": 163,
     "metadata": {},
     "output_type": "execute_result"
    }
   ],
   "source": [
    "executorSmooth = Executor(data, smoothpredictor)\n",
    "result = executorSmooth.evaluate_validator()\n",
    "[result['precision'],result['recall'], result['f1']]\n"
   ]
  },
  {
   "cell_type": "code",
   "execution_count": 164,
   "metadata": {},
   "outputs": [
    {
     "data": {
      "text/plain": [
       "[0.725, 0.772, 0.748]"
      ]
     },
     "execution_count": 164,
     "metadata": {},
     "output_type": "execute_result"
    }
   ],
   "source": [
    "executorOld = Executor(data, spatialcomparision)\n",
    "result = executorOld.evaluate_validator()\n",
    "[result['precision'],result['recall'], result['f1']]\n"
   ]
  },
  {
   "cell_type": "code",
   "execution_count": null,
   "metadata": {},
   "outputs": [],
   "source": []
  },
  {
   "cell_type": "code",
   "execution_count": null,
   "metadata": {},
   "outputs": [],
   "source": []
  },
  {
   "cell_type": "code",
   "execution_count": null,
   "metadata": {},
   "outputs": [],
   "source": []
  },
  {
   "cell_type": "code",
   "execution_count": 15,
   "metadata": {},
   "outputs": [
    {
     "data": {
      "text/plain": [
       "[0.8, 0.962, 0.874]"
      ]
     },
     "execution_count": 15,
     "metadata": {},
     "output_type": "execute_result"
    }
   ],
   "source": [
    "executor = Executor(data, theilSenregressor)\n",
    "result = executor.evaluate_validator()\n",
    "[result['precision'],result['recall'], result['f1']]\n"
   ]
  },
  {
   "cell_type": "code",
   "execution_count": 106,
   "metadata": {},
   "outputs": [
    {
     "data": {
      "text/plain": [
       "[0.677, 0.991, 0.804]"
      ]
     },
     "execution_count": 106,
     "metadata": {},
     "output_type": "execute_result"
    }
   ],
   "source": [
    "executor = Executor(data, ransacregressor)\n",
    "result = executor.evaluate_validator()\n",
    "[result['precision'],result['recall'], result['f1']]\n"
   ]
  },
  {
   "cell_type": "code",
   "execution_count": 18,
   "metadata": {},
   "outputs": [
    {
     "data": {
      "text/plain": [
       "[0.855, 0.732, 0.789]"
      ]
     },
     "execution_count": 18,
     "metadata": {},
     "output_type": "execute_result"
    }
   ],
   "source": [
    "executor = Executor(data, spatialcomparision)\n",
    "result = executor.evaluate_validator()\n",
    "[result['precision'],result['recall'], result['f1']]\n"
   ]
  },
  {
   "cell_type": "code",
   "execution_count": 17,
   "metadata": {},
   "outputs": [
    {
     "data": {
      "text/plain": [
       "[0.995, 0.973, 0.984]"
      ]
     },
     "execution_count": 17,
     "metadata": {},
     "output_type": "execute_result"
    }
   ],
   "source": [
    "executor = Executor(data, smoothpredictor)\n",
    "result = executor.evaluate_validator()\n",
    "[result['precision'],result['recall'], result['f1']]\n"
   ]
  },
  {
   "cell_type": "code",
   "execution_count": 25,
   "metadata": {},
   "outputs": [
    {
     "data": {
      "text/plain": [
       "[<matplotlib.lines.Line2D at 0x7f3617ccb6d0>]"
      ]
     },
     "execution_count": 25,
     "metadata": {},
     "output_type": "execute_result"
    },
    {
     "data": {
      "image/png": "[encoded data removed]",
      "text/plain": [
       "<Figure size 432x288 with 1 Axes>"
      ]
     },
     "metadata": {
      "needs_background": "light"
     },
     "output_type": "display_data"
    }
   ],
   "source": [
    "plt.plot(RESULT[:,0])\n",
    "plt.plot(RESULT2[:,0])"
   ]
  },
  {
   "cell_type": "code",
   "execution_count": null,
   "metadata": {},
   "outputs": [],
   "source": [
    "executor = Executor(data, smoothpredictor)\n",
    "result = executor.evaluate_validator()\n",
    "[result['precision'],result['recall'], result['f1']]"
   ]
  },
  {
   "cell_type": "code",
   "execution_count": 26,
   "metadata": {
    "scrolled": true
   },
   "outputs": [
    {
     "name": "stdout",
     "output_type": "stream",
     "text": [
      "[1.0, 1.0, 1.0]\n",
      "[1.0, 0.977, 0.988]\n",
      "[1.0, 0.932, 0.965]\n",
      "[0.957, 1.0, 0.978]\n",
      "[0.877, 0.97, 0.921]\n",
      "[0.837, 0.989, 0.907]\n",
      "[0.843, 0.977, 0.905]\n",
      "[0.777, 0.989, 0.87]\n",
      "[0.843, 0.973, 0.903]\n",
      "[0.796, 0.977, 0.877]\n",
      "[0.795, 1.0, 0.886]\n",
      "[0.74, 0.992, 0.848]\n",
      "[0.722, 0.994, 0.836]\n",
      "[0.646, 0.983, 0.78]\n",
      "[0.597, 0.994, 0.746]\n",
      "[0.558, 0.977, 0.71]\n",
      "[0.541, 0.99, 0.7]\n",
      "[0.506, 0.982, 0.668]\n",
      "[1.0, 1.0, 1.0]\n",
      "[1.0, 1.0, 1.0]\n",
      "[1.0, 1.0, 1.0]\n",
      "[0.957, 1.0, 0.978]\n",
      "[0.925, 0.939, 0.932]\n",
      "[0.906, 0.989, 0.946]\n",
      "[0.825, 0.966, 0.89]\n",
      "[0.773, 0.966, 0.859]\n",
      "[0.887, 1.0, 0.94]\n",
      "[0.8, 1.0, 0.889]\n",
      "[0.765, 0.962, 0.852]\n",
      "[0.703, 0.985, 0.82]\n",
      "[0.702, 0.981, 0.818]\n",
      "[0.611, 0.989, 0.755]\n",
      "[0.592, 0.983, 0.739]\n",
      "[0.564, 1.0, 0.721]\n",
      "[0.55, 1.0, 0.71]\n",
      "[0.495, 0.991, 0.66]\n",
      "[1.0, 0.909, 0.952]\n",
      "[0.913, 0.955, 0.934]\n",
      "[0.977, 0.977, 0.977]\n",
      "[0.978, 1.0, 0.989]\n",
      "[0.887, 0.955, 0.92]\n",
      "[0.87, 0.989, 0.926]\n",
      "[0.838, 1.0, 0.912]\n",
      "[0.81, 0.966, 0.881]\n",
      "[0.887, 1.0, 0.94]\n",
      "[0.788, 0.985, 0.876]\n",
      "[0.802, 0.985, 0.884]\n",
      "[0.701, 0.992, 0.821]\n",
      "[0.668, 0.994, 0.799]\n",
      "[0.668, 0.994, 0.799]\n",
      "[0.602, 0.989, 0.748]\n",
      "[0.56, 0.983, 0.714]\n",
      "[0.56, 0.985, 0.714]\n",
      "[0.481, 0.973, 0.644]\n",
      "[1.0, 0.955, 0.977]\n",
      "[1.0, 1.0, 1.0]\n",
      "[0.977, 0.977, 0.977]\n",
      "[0.978, 1.0, 0.989]\n",
      "[0.943, 1.0, 0.971]\n",
      "[0.86, 0.977, 0.915]\n",
      "[0.804, 0.977, 0.882]\n",
      "[0.8, 1.0, 0.889]\n",
      "[0.873, 1.0, 0.932]\n",
      "[0.804, 0.992, 0.888]\n",
      "[0.804, 0.992, 0.888]\n",
      "[0.695, 0.985, 0.815]\n",
      "[0.647, 0.987, 0.782]\n",
      "[0.667, 0.977, 0.793]\n",
      "[0.617, 0.989, 0.76]\n",
      "[0.576, 0.989, 0.728]\n",
      "[0.526, 0.98, 0.685]\n",
      "[0.505, 0.991, 0.669]\n",
      "[1.0, 0.909, 0.952]\n",
      "[1.0, 1.0, 1.0]\n",
      "[1.0, 1.0, 1.0]\n",
      "[0.953, 0.932, 0.942]\n",
      "[0.889, 0.97, 0.928]\n",
      "[0.86, 0.977, 0.915]\n",
      "[0.837, 0.989, 0.907]\n",
      "[0.819, 0.977, 0.891]\n",
      "[0.884, 0.973, 0.926]\n",
      "[0.798, 0.985, 0.882]\n",
      "[0.806, 0.977, 0.883]\n",
      "[0.739, 0.985, 0.844]\n",
      "[0.688, 0.974, 0.806]\n",
      "[0.643, 0.994, 0.781]\n",
      "[0.595, 1.0, 0.746]\n",
      "[0.571, 1.0, 0.727]\n",
      "[0.532, 0.98, 0.69]\n",
      "[0.492, 0.982, 0.656]\n",
      "[1.0, 1.0, 1.0]\n",
      "[0.977, 0.977, 0.977]\n",
      "[1.0, 0.977, 0.988]\n",
      "[0.955, 0.955, 0.955]\n",
      "[0.914, 0.97, 0.941]\n",
      "[0.905, 0.977, 0.94]\n",
      "[0.863, 1.0, 0.926]\n",
      "[0.802, 0.966, 0.876]\n",
      "[0.873, 1.0, 0.932]\n",
      "[0.805, 1.0, 0.892]\n",
      "[0.807, 0.985, 0.887]\n",
      "[1.0, 0.909, 0.952]\n",
      "[1.0, 1.0, 1.0]\n",
      "[0.978, 1.0, 0.989]\n",
      "[0.957, 1.0, 0.978]\n",
      "[0.903, 0.985, 0.942]\n",
      "[0.926, 0.989, 0.956]\n",
      "[0.869, 0.977, 0.92]\n",
      "[0.8, 1.0, 0.889]\n",
      "[0.857, 0.982, 0.915]\n",
      "[0.839, 0.985, 0.906]\n",
      "[0.753, 0.992, 0.856]\n",
      "[0.689, 0.992, 0.813]\n",
      "[0.698, 0.961, 0.809]\n",
      "[0.654, 0.966, 0.78]\n",
      "[0.587, 0.977, 0.733]\n",
      "[0.569, 0.989, 0.722]\n",
      "[0.54, 0.99, 0.699]\n",
      "[0.513, 0.995, 0.677]\n",
      "[1.0, 0.909, 0.952]\n",
      "[1.0, 0.909, 0.952]\n",
      "[1.0, 1.0, 1.0]\n",
      "[0.978, 1.0, 0.989]\n",
      "[0.868, 1.0, 0.929]\n",
      "[0.853, 0.989, 0.916]\n",
      "[0.806, 0.989, 0.888]\n",
      "[0.825, 0.966, 0.89]\n",
      "[0.794, 0.982, 0.878]\n",
      "[0.798, 0.985, 0.882]\n",
      "[0.795, 1.0, 0.886]\n",
      "[0.728, 0.992, 0.84]\n",
      "[0.695, 0.994, 0.818]\n",
      "[0.659, 0.989, 0.791]\n",
      "[0.588, 0.983, 0.736]\n",
      "[0.563, 0.994, 0.719]\n",
      "[0.552, 0.985, 0.708]\n",
      "[0.52, 0.991, 0.682]\n",
      "26.6 s ± 2.14 s per loop (mean ± std. dev. of 7 runs, 1 loop each)\n"
     ]
    }
   ],
   "source": [
    "%%timeit\n",
    "RESULT = evaluator(huberregressor)"
   ]
  },
  {
   "cell_type": "code",
   "execution_count": 27,
   "metadata": {},
   "outputs": [
    {
     "name": "stdout",
     "output_type": "stream",
     "text": [
      "[0.773, 0.773, 0.773]\n",
      "[0.867, 0.886, 0.876]\n",
      "[0.955, 0.955, 0.955]\n",
      "[0.977, 0.977, 0.977]\n",
      "[0.985, 0.97, 0.977]\n",
      "[0.967, 0.989, 0.978]\n",
      "[0.955, 0.966, 0.96]\n",
      "[0.954, 0.943, 0.948]\n",
      "[1.0, 0.973, 0.986]\n",
      "[0.962, 0.97, 0.966]\n",
      "[0.977, 0.985, 0.981]\n",
      "[0.922, 0.985, 0.952]\n",
      "[0.879, 0.987, 0.93]\n",
      "[0.831, 0.977, 0.898]\n",
      "[0.763, 0.989, 0.861]\n",
      "[0.729, 0.977, 0.835]\n",
      "[0.693, 0.99, 0.815]\n",
      "[0.648, 0.973, 0.778]\n",
      "[0.722, 0.591, 0.65]\n",
      "[0.857, 0.955, 0.903]\n",
      "[0.955, 0.955, 0.955]\n",
      "[0.911, 0.932, 0.921]\n",
      "[0.953, 0.924, 0.938]\n",
      "[0.977, 0.977, 0.977]\n",
      "[0.989, 0.989, 0.989]\n",
      "[0.977, 0.977, 0.977]\n",
      "[1.0, 0.982, 0.991]\n",
      "[0.97, 0.977, 0.973]\n",
      "[0.969, 0.962, 0.965]\n",
      "[0.91, 0.992, 0.949]\n",
      "[0.843, 0.974, 0.904]\n",
      "[0.832, 0.983, 0.901]\n",
      "[0.794, 0.983, 0.878]\n",
      "[0.746, 0.983, 0.848]\n",
      "[0.701, 0.995, 0.823]\n",
      "[0.654, 0.995, 0.789]\n",
      "[0.818, 0.818, 0.818]\n",
      "[0.804, 0.841, 0.822]\n",
      "[0.927, 0.864, 0.894]\n",
      "[0.953, 0.932, 0.942]\n",
      "[1.0, 0.955, 0.977]\n",
      "[0.945, 0.977, 0.961]\n",
      "[0.989, 0.989, 0.989]\n",
      "[0.956, 0.989, 0.972]\n",
      "[0.991, 0.982, 0.986]\n",
      "[1.0, 0.962, 0.981]\n",
      "[0.963, 0.977, 0.97]\n",
      "[0.914, 0.962, 0.937]\n",
      "[0.875, 1.0, 0.933]\n",
      "[0.835, 0.977, 0.9]\n",
      "[0.775, 0.977, 0.864]\n",
      "[0.746, 0.966, 0.842]\n",
      "[0.705, 0.99, 0.824]\n",
      "[0.641, 0.982, 0.776]\n",
      "[0.833, 0.682, 0.75]\n",
      "[0.955, 0.955, 0.955]\n",
      "[0.894, 0.955, 0.923]\n",
      "[0.977, 0.977, 0.977]\n",
      "[0.97, 0.985, 0.977]\n",
      "[1.0, 0.966, 0.983]\n",
      "[0.915, 0.977, 0.945]\n",
      "[0.956, 0.989, 0.972]\n",
      "[0.964, 0.973, 0.968]\n",
      "[1.0, 0.97, 0.985]\n",
      "[0.963, 0.985, 0.974]\n",
      "[0.89, 0.985, 0.935]\n",
      "[0.87, 1.0, 0.93]\n",
      "[0.829, 0.989, 0.902]\n",
      "[0.794, 0.983, 0.878]\n",
      "[0.715, 0.972, 0.824]\n",
      "[0.689, 0.985, 0.811]\n",
      "[0.647, 0.991, 0.783]\n",
      "[0.833, 0.682, 0.75]\n",
      "[0.889, 0.909, 0.899]\n",
      "[0.913, 0.955, 0.934]\n",
      "[1.0, 1.0, 1.0]\n",
      "[0.956, 0.985, 0.97]\n",
      "[0.989, 1.0, 0.994]\n",
      "[0.945, 0.977, 0.961]\n",
      "[1.0, 0.966, 0.983]\n",
      "[1.0, 0.955, 0.977]\n",
      "[0.992, 0.985, 0.988]\n",
      "[0.978, 0.992, 0.985]\n",
      "[0.929, 0.985, 0.956]\n",
      "[0.863, 0.981, 0.918]\n",
      "[0.816, 0.983, 0.892]\n",
      "[0.789, 0.977, 0.873]\n",
      "[0.74, 0.972, 0.84]\n",
      "[0.692, 0.965, 0.806]\n",
      "[0.665, 0.991, 0.796]\n",
      "[0.875, 0.955, 0.913]\n",
      "[0.902, 0.841, 0.87]\n",
      "[0.977, 0.955, 0.966]\n",
      "[0.977, 0.977, 0.977]\n",
      "[0.97, 0.985, 0.977]\n",
      "[0.988, 0.966, 0.977]\n",
      "[0.916, 0.989, 0.951]\n",
      "[0.989, 0.977, 0.983]\n",
      "[1.0, 0.973, 0.986]\n",
      "[0.956, 0.977, 0.966]\n",
      "[0.942, 0.977, 0.959]\n",
      "[0.902, 0.977, 0.938]\n",
      "[0.857, 0.974, 0.912]\n",
      "[0.826, 1.0, 0.905]\n",
      "[0.788, 0.994, 0.879]\n",
      "[0.741, 0.96, 0.836]\n",
      "[0.702, 0.975, 0.816]\n",
      "[0.65, 0.986, 0.783]\n",
      "[0.737, 0.636, 0.683]\n",
      "[0.875, 0.955, 0.913]\n",
      "[0.976, 0.909, 0.941]\n",
      "[0.894, 0.955, 0.923]\n",
      "[0.914, 0.97, 0.941]\n",
      "[0.989, 0.989, 0.989]\n",
      "[0.955, 0.955, 0.955]\n",
      "[1.0, 0.977, 0.988]\n",
      "[0.991, 0.982, 0.986]\n",
      "[0.963, 0.977, 0.97]\n",
      "[0.97, 0.977, 0.973]\n",
      "[0.92, 0.962, 0.941]\n",
      "[0.869, 0.987, 0.924]\n",
      "[0.824, 0.983, 0.897]\n",
      "[0.795, 0.972, 0.875]\n",
      "[0.722, 0.972, 0.829]\n",
      "[0.708, 0.97, 0.819]\n",
      "[0.626, 0.959, 0.758]\n",
      "[0.864, 0.864, 0.864]\n",
      "[0.929, 0.886, 0.907]\n",
      "[0.93, 0.909, 0.919]\n",
      "[1.0, 0.977, 0.988]\n",
      "[1.0, 0.97, 0.985]\n",
      "[0.988, 0.966, 0.977]\n",
      "[0.956, 0.977, 0.966]\n",
      "[0.989, 1.0, 0.994]\n",
      "[1.0, 1.0, 1.0]\n",
      "[0.962, 0.962, 0.962]\n",
      "[0.978, 0.992, 0.985]\n",
      "[0.902, 0.977, 0.938]\n",
      "[0.869, 0.987, 0.924]\n",
      "[0.83, 0.972, 0.895]\n",
      "[0.774, 0.972, 0.862]\n",
      "[0.748, 0.994, 0.854]\n",
      "[0.704, 0.975, 0.818]\n",
      "[0.652, 0.995, 0.788]\n",
      "8.03 s ± 565 ms per loop (mean ± std. dev. of 7 runs, 1 loop each)\n"
     ]
    }
   ],
   "source": [
    "%%timeit\n",
    "RESULT2 = evaluator(smoothpredictor)"
   ]
  },
  {
   "cell_type": "code",
   "execution_count": null,
   "metadata": {},
   "outputs": [],
   "source": [
    "\n",
    "regressor = SmoothingAndPredict()\n",
    "executor = Executor(data, regressor)\n",
    "executor.evaluate_validator()"
   ]
  },
  {
   "cell_type": "code",
   "execution_count": null,
   "metadata": {},
   "outputs": [],
   "source": [
    "data.dic_timesteps"
   ]
  },
  {
   "cell_type": "code",
   "execution_count": null,
   "metadata": {},
   "outputs": [],
   "source": [
    "executor.validate(3)"
   ]
  },
  {
   "cell_type": "code",
   "execution_count": null,
   "metadata": {},
   "outputs": [],
   "source": [
    "smoothRESULT = evaluator(smoothpredictor)"
   ]
  },
  {
   "cell_type": "code",
   "execution_count": null,
   "metadata": {
    "scrolled": true
   },
   "outputs": [],
   "source": [
    "ransacRESULT = evaluator(ransacregressor)"
   ]
  },
  {
   "cell_type": "code",
   "execution_count": null,
   "metadata": {},
   "outputs": [],
   "source": [
    "plt.figure(figsize=(20,3))\n",
    "plt.plot(smoothRESULT[:,0])\n",
    "plt.plot(ransacRESULT[:,0])"
   ]
  },
  {
   "cell_type": "code",
   "execution_count": null,
   "metadata": {},
   "outputs": [],
   "source": [
    "noises = data.matrix_noises.flatten()\n",
    "plt.figure(figsize=(10,3))\n",
    "plt.hist(noises[(noises >0) | (noises<0)], bins=100)"
   ]
  },
  {
   "cell_type": "code",
   "execution_count": null,
   "metadata": {},
   "outputs": [],
   "source": [
    "plt.figure(figsize=(10,10))\n",
    "plt.imshow(data.matrix_noises)\n",
    "plt.colorbar()"
   ]
  },
  {
   "cell_type": "code",
   "execution_count": null,
   "metadata": {},
   "outputs": [],
   "source": [
    "plt.figure(figsize=(20,7))\n",
    "plt.bar(np.array(lst_n_timesteps),  RESULT_2[:,1], width=3)\n",
    "plt.bar(np.array(lst_n_timesteps) + 1, RESULT[:,1], width=3)\n",
    "# plt.bar(np.array(lst_n_timesteps) + 2, RESULT_1[:,0], width=1)\n",
    "# plt.bar(np.array(lst_n_timesteps) + 3, RESULT_OLD[:,0], width=1)\n",
    "plt.legend(['ransac', 'smoothing','random','original'])"
   ]
  },
  {
   "cell_type": "code",
   "execution_count": null,
   "metadata": {},
   "outputs": [],
   "source": [
    "validatorNew2 = Executor(data, smoothpredictor)\n"
   ]
  },
  {
   "cell_type": "code",
   "execution_count": null,
   "metadata": {},
   "outputs": [],
   "source": [
    "resultNew = validatorNew.evaluate_validator()  \n",
    "resultNew['precision'],resultNew['recall'], resultNew['f1']"
   ]
  },
  {
   "cell_type": "code",
   "execution_count": null,
   "metadata": {},
   "outputs": [],
   "source": [
    "resultNew2 = validatorNew2.evaluate_validator()  \n",
    "resultNew2['precision'],resultNew2['recall'], resultNew2['f1']"
   ]
  },
  {
   "cell_type": "code",
   "execution_count": null,
   "metadata": {},
   "outputs": [],
   "source": [
    "RESULT_1 = []\n",
    "lst_n_timesteps = range(10,400,10)\n",
    "\n",
    "for n_timesteps in lst_n_timesteps : \n",
    "    if n_timesteps % 100 == 0 : print(n_timesteps)\n",
    "    n_stations = 450\n",
    "#     n_timesteps= 50 #maybe 144 is the maximum to propoerly manage them     \n",
    "    k = 10\n",
    "    p_noise_stations = 0.10\n",
    "    p_noise_timesteps= 0.10    \n",
    "    \n",
    "    data = Tempearture_DWD(n_stations, n_timesteps, k, p_noise_stations=p_noise_stations, p_noise_timesteps= p_noise_timesteps)    \n",
    "    validatorNew= Executor(data, ensembleregression)\n",
    "    try : \n",
    "        resultNew = validatorNew.evaluate_validator()  \n",
    "        result = resultNew['precision'],resultNew['recall'], resultNew['f1']\n",
    "    except Exception as e : \n",
    "        print(e)\n",
    "        result = [-1,-1,-1]\n",
    "        \n",
    "    \n",
    "    RESULT_1.append(result)\n",
    "RESULT_1 = np.array(RESULT_1)"
   ]
  },
  {
   "cell_type": "code",
   "execution_count": null,
   "metadata": {},
   "outputs": [],
   "source": [
    "RESULT_OLD"
   ]
  },
  {
   "cell_type": "code",
   "execution_count": null,
   "metadata": {},
   "outputs": [],
   "source": [
    "RESULT_OLD = []\n",
    "lst_n_timesteps = range(10,400,10)\n",
    "\n",
    "for n_timesteps in lst_n_timesteps : \n",
    "    if n_timesteps % 100 == 0 : print(n_timesteps)\n",
    "    n_stations = 450\n",
    "#     n_timesteps= 50 #maybe 144 is the maximum to propoerly manage them     \n",
    "    k = 10\n",
    "    p_noise_stations = 0.10\n",
    "    p_noise_timesteps= 0.10    \n",
    "    \n",
    "    data = Tempearture_DWD(n_stations, n_timesteps, k, p_noise_stations=p_noise_stations, p_noise_timesteps= p_noise_timesteps)    \n",
    "    validatorOld = Executor(data, spatialcomparision)\n",
    "    try : \n",
    "        resultOld = validatorOld.evaluate_validator()  \n",
    "        result = [resultOld['precision'],resultOld['recall'], resultOld['f1']]\n",
    "    except Exception as e : \n",
    "        print(e)\n",
    "        result = [-1,-1,-1]\n",
    "        \n",
    "    \n",
    "    RESULT_OLD.append(result)\n",
    "RESULT_OLD = np.array(RESULT_OLD)"
   ]
  },
  {
   "cell_type": "code",
   "execution_count": null,
   "metadata": {},
   "outputs": [],
   "source": [
    "plt.figure(figsize=(20,7))\n",
    "plt.bar(np.array(lst_n_timesteps)[:12],  RESULT[:12,1], width=2)\n",
    "plt.bar(np.array(lst_n_timesteps)[:12] + 2, RESULT_1[:12,1], width=2)\n",
    "plt.bar(np.array(lst_n_timesteps)[:12] + 4, RESULT_OLD[:12,1], width=2)\n",
    "plt.legend(['smoothing','random','original'])"
   ]
  },
  {
   "cell_type": "code",
   "execution_count": null,
   "metadata": {},
   "outputs": [],
   "source": [
    "plt.figure(figsize=(20,7))\n",
    "plt.bar(np.array(lst_n_timesteps)[:12],  RESULT[:12,0], width=2)\n",
    "plt.bar(np.array(lst_n_timesteps)[:12] + 2, RESULT_1[:12,0], width=2)\n",
    "plt.bar(np.array(lst_n_timesteps)[:12] + 4, RESULT_OLD[:12,0], width=2)\n",
    "plt.legend(['smoothing','random','original'])"
   ]
  },
  {
   "cell_type": "code",
   "execution_count": null,
   "metadata": {},
   "outputs": [],
   "source": [
    "plt.figure(figsize=(20,7))\n",
    "plt.bar(np.array(lst_n_timesteps),  RESULT[:,1], width=2)\n",
    "plt.bar(np.array(lst_n_timesteps) + 2, RESULT_1[:,1], width=2)\n",
    "plt.bar(np.array(lst_n_timesteps) + 4, RESULT_OLD[:,1], width=2)\n",
    "plt.legend(['smoothing','random','original'])"
   ]
  },
  {
   "cell_type": "code",
   "execution_count": null,
   "metadata": {},
   "outputs": [],
   "source": []
  },
  {
   "cell_type": "code",
   "execution_count": null,
   "metadata": {},
   "outputs": [],
   "source": []
  },
  {
   "cell_type": "code",
   "execution_count": null,
   "metadata": {},
   "outputs": [],
   "source": [
    "resultOld = validatorOld.evaluate_validator()  \n",
    "resultOld['precision'],resultOld['recall'], resultOld['f1']"
   ]
  },
  {
   "cell_type": "code",
   "execution_count": 68,
   "metadata": {},
   "outputs": [],
   "source": [
    "executorSmooth = Executor(data, smoothpredictor)\n",
    "executorOld = Executor(data, spatialcomparision)\n"
   ]
  },
  {
   "cell_type": "code",
   "execution_count": 63,
   "metadata": {},
   "outputs": [
    {
     "name": "stdout",
     "output_type": "stream",
     "text": [
      "selected station 35\n",
      "neighbor stations with noise:  [364]\n",
      "answer:          []\n",
      "predicted by new [] 0\n",
      "predicted by old [86] 1\n"
     ]
    },
    {
     "data": {
      "image/png": "[encoded data removed]",
      "text/plain": [
       "<Figure size 432x288 with 1 Axes>"
      ]
     },
     "metadata": {
      "needs_background": "light"
     },
     "output_type": "display_data"
    }
   ],
   "source": [
    "#Test for False Positive\n",
    "ts_data = data.ts_data\n",
    "neighbor = data._neighbor\n",
    "\n",
    "while True : \n",
    "    station = np.random.choice(range(len(ts_data)))\n",
    "\n",
    "    try : \n",
    "        answer = sorted(data.dic_timesteps[station])\n",
    "    except :\n",
    "        answer = []\n",
    "\n",
    "    pred_by_new = [int(s.split('_')[1]) for s in executorSmooth.validate(station)]    \n",
    "    pred_by_old = [int(s.split('_')[1]) for s in executorOld.validate(station)]\n",
    "    \n",
    "    if (len(pred_by_old) >0) and (len(answer) == 0 ) : \n",
    "\n",
    "        print(\"selected station\", station)\n",
    "        print(\"neighbor stations with noise: \", [s for s in data._neighbor[station] if s in data._picked_stations])\n",
    "        print(\"answer:         \",answer)\n",
    "        print(\"predicted by new\",pred_by_new, levenshteinDistance(answer, pred_by_new ))\n",
    "        print(\"predicted by old\",pred_by_old, levenshteinDistance(answer, pred_by_old ))\n",
    "        plt.hist(data.matrix_noises[station][abs(data.matrix_noises[station]) >0] )\n",
    "        break\n"
   ]
  },
  {
   "cell_type": "code",
   "execution_count": 165,
   "metadata": {},
   "outputs": [
    {
     "name": "stdout",
     "output_type": "stream",
     "text": [
      "selected station 417\n",
      "neighbor stations with noise:  [228]\n",
      "answer:          [4, 18, 25, 28, 35, 38, 46, 47, 56, 57, 71, 73, 81, 94, 104, 113, 116, 118]\n",
      "predicted by new [4, 18, 25, 28, 35, 38, 46, 47, 56, 57, 71, 73, 81, 94, 104, 113, 116, 118] 0\n",
      "predicted by old [4, 18, 25, 28, 35, 38, 46, 47, 56, 57, 71, 73, 81, 94, 104, 113, 116, 118] 0\n"
     ]
    },
    {
     "data": {
      "text/plain": [
       "(array([2., 0., 0., 0., 3., 0., 1., 1., 0., 2., 0., 0., 0., 0., 1., 1., 1.,\n",
       "        3., 1., 2.]),\n",
       " array([-28.02976262, -25.52183906, -23.01391549, -20.50599193,\n",
       "        -17.99806836, -15.4901448 , -12.98222123, -10.47429767,\n",
       "         -7.9663741 ,  -5.45845054,  -2.95052697,  -0.44260341,\n",
       "          2.06532016,   4.57324372,   7.08116729,   9.58909085,\n",
       "         12.09701442,  14.60493798,  17.11286154,  19.62078511,\n",
       "         22.12870867]),\n",
       " <BarContainer object of 20 artists>)"
      ]
     },
     "execution_count": 165,
     "metadata": {},
     "output_type": "execute_result"
    },
    {
     "data": {
      "image/png": "[encoded data removed]",
      "text/plain": [
       "<Figure size 432x288 with 1 Axes>"
      ]
     },
     "metadata": {
      "needs_background": "light"
     },
     "output_type": "display_data"
    }
   ],
   "source": [
    "#Test for Positive\n",
    "ts_data = data.ts_data\n",
    "neighbor = data._neighbor\n",
    "\n",
    "# station = np.random.choice(range(len(ts_data)))\n",
    "station = np.random.choice(data._picked_stations)\n",
    "try : \n",
    "    answer = sorted(data.dic_timesteps[station])\n",
    "except :\n",
    "    answer = []\n",
    "\n",
    "pred_by_new = [int(s.split('_')[1]) for s in executorSmooth.validate(station)]\n",
    "pred_by_old = [int(s.split('_')[1]) for s in executorOld.validate(station)]\n",
    "\n",
    "print(\"selected station\", station)\n",
    "print(\"neighbor stations with noise: \", [s for s in data._neighbor[station] if s in data._picked_stations])\n",
    "print(\"answer:         \",answer)\n",
    "print(\"predicted by new\",pred_by_new, levenshteinDistance(answer, pred_by_new ))\n",
    "print(\"predicted by old\",pred_by_old, levenshteinDistance(answer, pred_by_old ))\n",
    "plt.hist(data.matrix_noises[station][abs(data.matrix_noises[station]) >0], bins=20 )"
   ]
  },
  {
   "cell_type": "code",
   "execution_count": 167,
   "metadata": {
    "scrolled": false
   },
   "outputs": [
    {
     "name": "stdout",
     "output_type": "stream",
     "text": [
      "4.0\n"
     ]
    },
    {
     "data": {
      "text/plain": [
       "<BarContainer object of 120 artists>"
      ]
     },
     "execution_count": 167,
     "metadata": {},
     "output_type": "execute_result"
    },
    {
     "data": {
      "image/png": "[encoded data removed]",
      "text/plain": [
       "<Figure size 1440x360 with 1 Axes>"
      ]
     },
     "metadata": {
      "needs_background": "light"
     },
     "output_type": "display_data"
    },
    {
     "data": {
      "image/png": "[encoded data removed]",
      "text/plain": [
       "<Figure size 1440x360 with 1 Axes>"
      ]
     },
     "metadata": {
      "needs_background": "light"
     },
     "output_type": "display_data"
    }
   ],
   "source": [
    "value_plot = max(abs(ts_data[station]))\n",
    "plt.figure(figsize=(20,5))\n",
    "plt.plot(ts_data[neighbor[station]].T, color='grey')\n",
    "plt.plot(ts_data[station], color='blue', linewidth=2)\n",
    "# plt.plot(data._ts_rawdata[station], color='orange')\n",
    "plt.title(station)\n",
    "\n",
    "plt.figure(figsize=(20,5))\n",
    "plt.plot(data._ts_rawdata[station] + 0.5, color='grey')\n",
    "plt.plot(ts_data[station], color='blue')\n",
    "plt.plot(smoothpredictor.correct(ts_data[neighbor[station]], ts_data[station]) -0.5, color='red')\n",
    "\n",
    "\n",
    "\n",
    "print(value_plot)\n",
    "bar1 = np.zeros(len(ts_data[station]))\n",
    "bar2 = np.zeros(len(ts_data[station]))\n",
    "bar1[answer] = value_plot\n",
    "bar2[pred_by_new] = value_plot\n",
    "plt.bar(np.arange(len(bar1)), bar1, color='red', alpha=0.4)\n",
    "plt.bar(np.arange(len(bar1)), -bar2, color='green', alpha=0.4)\n",
    "# plt.legend(['data_w_noise','original','predict'])"
   ]
  },
  {
   "cell_type": "code",
   "execution_count": null,
   "metadata": {},
   "outputs": [],
   "source": []
  }
 ],
 "metadata": {
  "kernelspec": {
   "display_name": "Python 3",
   "language": "python",
   "name": "python3"
  },
  "language_info": {
   "codemirror_mode": {
    "name": "ipython",
    "version": 3
   },
   "file_extension": ".py",
   "mimetype": "text/x-python",
   "name": "python",
   "nbconvert_exporter": "python",
   "pygments_lexer": "ipython3",
   "version": "3.8.8"
  }
 },
 "nbformat": 4,
 "nbformat_minor": 4
}
