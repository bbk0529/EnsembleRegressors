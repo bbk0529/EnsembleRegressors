{
 "cells": [
  {
   "cell_type": "code",
   "execution_count": null,
   "metadata": {},
   "outputs": [],
   "source": [
    "import numpy as np\n",
    "import pandas as pd\n",
    "from scipy.spatial import distance_matrix\n"
   ]
  },
  {
   "cell_type": "code",
   "execution_count": null,
   "metadata": {},
   "outputs": [],
   "source": [
    "import matplotlib.pyplot as plt\n",
    "import random\n",
    "import time\n",
    "import cProfile, pstats, io\n",
    "from pstats import SortKey"
   ]
  },
  {
   "cell_type": "code",
   "execution_count": null,
   "metadata": {},
   "outputs": [],
   "source": [
    "def dist_matrix_creator(data: np.ndarray, n: int, pad: float = 0.5) : \n",
    "    x_min = np.min(data[:,0])\n",
    "    x_max = np.max(data[:,0])\n",
    "    y_min = np.min(data[:,1])\n",
    "    y_max = np.max(data[:,1])\n",
    "    \n",
    "    x_interval = (x_max - x_min) / n \n",
    "    y_interval = (y_max - y_min) / n\n",
    "    \n",
    "    x_pad = x_interval * pad\n",
    "    y_pad = y_interval * pad\n",
    "    \n",
    "    lst_x = np.arange(x_min, x_max + x_interval, x_interval)\n",
    "    lst_y = np.arange(y_min, y_max + y_interval, y_interval)    \n",
    "    \n",
    "    idx = np.arange(0,len(data),1)\n",
    "\n",
    "    DIST = {}\n",
    "    IDX_padding={}\n",
    "    IDX_wo_padding={}\n",
    "    \n",
    "    \n",
    "\n",
    "    for i in range(len(lst_x)-1) : \n",
    "        x_idx_padding = (lst_x[i] - x_pad <= data[:,0]) & (data[:,0]<= lst_x[i+1] + x_pad)\n",
    "        x_idx_wo_padding = (lst_x[i] <= data[:,0]) & (data[:,0]<= lst_x[i+1])                \n",
    "        \n",
    "        for j in range(len(lst_y)-1) : \n",
    "            \n",
    "            y_idx_padding = (lst_y[j] - y_pad <= data[:,1]) & (data[:,1]<= lst_y[j+1] + y_pad)\n",
    "            y_idx_wo_padding = (lst_y[j] <= data[:,1]) & (data[:,1]<= lst_y[j+1])\n",
    "\n",
    "\n",
    "\n",
    "            idx_clip_padding = idx[x_idx_padding & y_idx_padding]\n",
    "            idx_clip_wo_padding = idx[x_idx_wo_padding & y_idx_wo_padding]\n",
    "\n",
    "\n",
    "            data_clip = data[x_idx_padding & y_idx_padding]\n",
    "            dist_matrix_clip = distance_matrix(data_clip, data_clip)    \n",
    "\n",
    "            DIST[i,j] = dist_matrix_clip        \n",
    "            IDX_padding[i,j] = idx_clip_padding\n",
    "            IDX_wo_padding[i,j] = idx_clip_wo_padding\n",
    "            \n",
    "            \n",
    "\n",
    "    \n",
    "    \n",
    "    return DIST, IDX_padding, IDX_wo_padding"
   ]
  },
  {
   "cell_type": "code",
   "execution_count": null,
   "metadata": {},
   "outputs": [],
   "source": [
    "def evaluation_dist_matrix_creator(data, N, pad:float = 1) : \n",
    "    start = time.time()    \n",
    "    RESULT, IDX_padding, IDX_wo_padding = dist_matrix_creator(data, N, pad = pad)\n",
    "    print(\"elapsted time :\", time.time() - start)\n",
    "    s = 0\n",
    "    for k in RESULT.keys() : \n",
    "        s += RESULT[k].shape[0] * RESULT[k].shape[1]\n",
    "\n",
    "    i = random.choice(range(N))\n",
    "    j = random.choice(range(N))\n",
    "\n",
    "\n",
    "    d_for_scatter = data[IDX_wo_padding[i,j]]\n",
    "    d_for_scatter_padding = data[IDX_padding[i,j]]\n",
    "    \n",
    "    plt.figure(figsize=(10,10))\n",
    "    plt.scatter(data[:,0], data[:,1], color='grey', s=1)\n",
    "    plt.scatter(d_for_scatter_padding[:,0], d_for_scatter_padding[:,1],color='black', s=3)\n",
    "    plt.scatter(d_for_scatter[:,0], d_for_scatter[:,1],color='red', s=10)\n",
    "        \n",
    "    print(\"size of dist_matrix with the original\", len(data)**2)\n",
    "    print(\"size of dist_matrix with the reduced\", s)\n",
    "    print(\"improved by the factor of\", round(len(data)**2 / s,2))\n"
   ]
  },
  {
   "cell_type": "code",
   "execution_count": null,
   "metadata": {},
   "outputs": [],
   "source": []
  },
  {
   "cell_type": "markdown",
   "metadata": {},
   "source": [
    "# TEST WITH RANDOM DATA"
   ]
  },
  {
   "cell_type": "code",
   "execution_count": null,
   "metadata": {},
   "outputs": [],
   "source": [
    "#Data Preparation\n",
    "\n",
    "data = np.random.rand(20000,2)\n",
    "\n",
    "data[:,0] = data[:,0] * 2\n",
    "data[:,1] = data[:,1] * 2"
   ]
  },
  {
   "cell_type": "code",
   "execution_count": null,
   "metadata": {},
   "outputs": [],
   "source": [
    "s=10\n",
    "pad = 1 \n",
    "x_min = np.min(data[:,0])\n",
    "x_max = np.max(data[:,0])\n",
    "y_min = np.min(data[:,1])\n",
    "y_max = np.max(data[:,1])\n",
    "\n",
    "x_interval = (x_max - x_min) / s\n",
    "y_interval = (y_max - y_min) / s\n",
    "\n",
    "x_pad = x_interval * pad\n",
    "y_pad = y_interval * pad\n",
    "\n",
    "lst_x = np.arange(x_min, x_max + x_interval, x_interval)\n",
    "lst_y = np.arange(y_min, y_max + y_interval, y_interval)    \n",
    "\n",
    "idx = np.arange(0,len(data),1)\n"
   ]
  },
  {
   "cell_type": "code",
   "execution_count": null,
   "metadata": {},
   "outputs": [],
   "source": [
    "i=1;j=1"
   ]
  },
  {
   "cell_type": "code",
   "execution_count": null,
   "metadata": {},
   "outputs": [],
   "source": [
    "x_idx_w_padding = (lst_x[i] - x_pad <= data[:,0]) & (data[:,0]<= lst_x[i+1] + x_pad)\n",
    "y_idx_w_padding = (lst_y[j] - y_pad <= data[:,1]) & (data[:,1]<= lst_y[j+1] + y_pad)\n",
    "            "
   ]
  },
  {
   "cell_type": "code",
   "execution_count": null,
   "metadata": {},
   "outputs": [],
   "source": []
  },
  {
   "cell_type": "code",
   "execution_count": null,
   "metadata": {
    "scrolled": true
   },
   "outputs": [],
   "source": [
    "x_idx_w_padding"
   ]
  },
  {
   "cell_type": "code",
   "execution_count": null,
   "metadata": {},
   "outputs": [],
   "source": [
    "%%timeit\n",
    "idx_clip_padding = idx[x_idx_w_padding & y_idx_w_padding]"
   ]
  },
  {
   "cell_type": "code",
   "execution_count": null,
   "metadata": {},
   "outputs": [],
   "source": [
    "%%timeit\n",
    "data_clip = data[idx_clip_padding]"
   ]
  },
  {
   "cell_type": "code",
   "execution_count": null,
   "metadata": {},
   "outputs": [],
   "source": [
    "%%timeit\n",
    "data_clip = data[x_idx_w_padding & y_idx_w_padding]\n"
   ]
  },
  {
   "cell_type": "code",
   "execution_count": null,
   "metadata": {},
   "outputs": [],
   "source": []
  },
  {
   "cell_type": "code",
   "execution_count": null,
   "metadata": {},
   "outputs": [],
   "source": [
    "x_idx_wo_padding = (lst_x[i] <= data[:,0]) & (data[:,0]<= lst_x[i+1])                "
   ]
  },
  {
   "cell_type": "code",
   "execution_count": null,
   "metadata": {},
   "outputs": [],
   "source": []
  },
  {
   "cell_type": "code",
   "execution_count": null,
   "metadata": {},
   "outputs": [],
   "source": []
  },
  {
   "cell_type": "code",
   "execution_count": null,
   "metadata": {
    "scrolled": true
   },
   "outputs": [],
   "source": [
    "%%timeit\n",
    "x_idx_wo_padding = (lst_x[i] <= data[:,0]) & (data[:,0]<= lst_x[i+1])                \n",
    "y_idx_wo_padding = (lst_y[j] <= data[:,1]) & (data[:,1]<= lst_y[j+1])\n",
    "idx_clip_wo_padding = idx[x_idx_wo_padding & y_idx_wo_padding]"
   ]
  },
  {
   "cell_type": "code",
   "execution_count": null,
   "metadata": {},
   "outputs": [],
   "source": [
    "%%timeit\n",
    "idx_clip_boolean_x = (lst_x[i] <= data_clip[:,0]) & (data_clip[:,0] <=lst_x[i+1])\n",
    "idx_clip_boolean_y = (lst_y[i] <= data_clip[:,1]) & (data_clip[:,1] <=lst_y[i+1])\n",
    "idx_clip_boolean = idx_clip_boolean_x & idx_clip_boolean_y\n"
   ]
  },
  {
   "cell_type": "code",
   "execution_count": null,
   "metadata": {},
   "outputs": [],
   "source": [
    "%%timeit\n",
    "data_clip = data[x_idx_w_padding & y_idx_w_padding]        "
   ]
  },
  {
   "cell_type": "code",
   "execution_count": null,
   "metadata": {},
   "outputs": [],
   "source": [
    "%%timeit\n",
    "data_clip = data[idx_clip_padding]"
   ]
  },
  {
   "cell_type": "code",
   "execution_count": null,
   "metadata": {},
   "outputs": [],
   "source": [
    "DIST={}\n",
    "DIST[0,0] = distance_matrix(data_clip, data_clip)"
   ]
  },
  {
   "cell_type": "code",
   "execution_count": null,
   "metadata": {},
   "outputs": [],
   "source": [
    "key=(0,0)\n",
    "IDX_argsort = idx_clip_padding[DIST[key].argsort()]"
   ]
  },
  {
   "cell_type": "code",
   "execution_count": null,
   "metadata": {},
   "outputs": [],
   "source": []
  },
  {
   "cell_type": "code",
   "execution_count": null,
   "metadata": {},
   "outputs": [],
   "source": [
    "%%timeit\n",
    "boolean_idx = np.isin(IDX_argsort[:,0], idx_clip_wo_padding) #filter out to get only values within the box (excluding padding)\n",
    "ix_ = IDX_argsort[boolean_idx]"
   ]
  },
  {
   "cell_type": "code",
   "execution_count": null,
   "metadata": {},
   "outputs": [],
   "source": [
    "%%timeit\n",
    "boolean_idx = IDX_argsort[idx_clip_boolean]"
   ]
  },
  {
   "cell_type": "code",
   "execution_count": null,
   "metadata": {},
   "outputs": [],
   "source": [
    "%%timeit\n",
    "block_dist_mat = DIST[key]\n",
    "block_idx = idx_clip_padding\n",
    "block_dist_mat_argsort = block_dist_mat.argsort()\n",
    "block_idx[block_dist_mat_argsort]"
   ]
  },
  {
   "cell_type": "code",
   "execution_count": null,
   "metadata": {},
   "outputs": [],
   "source": [
    "%%timeit\n",
    "idx_clip_padding[DIST[key].argsort()]"
   ]
  },
  {
   "cell_type": "code",
   "execution_count": null,
   "metadata": {},
   "outputs": [],
   "source": [
    "block_idx"
   ]
  },
  {
   "cell_type": "code",
   "execution_count": null,
   "metadata": {},
   "outputs": [],
   "source": [
    "len(block_idx)"
   ]
  },
  {
   "cell_type": "code",
   "execution_count": null,
   "metadata": {},
   "outputs": [],
   "source": [
    "block_dist_mat_argsort.shape"
   ]
  },
  {
   "cell_type": "code",
   "execution_count": null,
   "metadata": {},
   "outputs": [],
   "source": [
    "boolean_idx = IDX_argsort[idx_clip_boolean]"
   ]
  },
  {
   "cell_type": "code",
   "execution_count": null,
   "metadata": {},
   "outputs": [],
   "source": [
    "boolean_idx"
   ]
  },
  {
   "cell_type": "code",
   "execution_count": null,
   "metadata": {},
   "outputs": [],
   "source": [
    "len(idx_clip_wo_padding)"
   ]
  },
  {
   "cell_type": "code",
   "execution_count": null,
   "metadata": {},
   "outputs": [],
   "source": []
  },
  {
   "cell_type": "code",
   "execution_count": null,
   "metadata": {},
   "outputs": [],
   "source": [
    "len(idx_clip_boolean)"
   ]
  },
  {
   "cell_type": "code",
   "execution_count": null,
   "metadata": {},
   "outputs": [],
   "source": [
    "len(IDX_argsort)"
   ]
  },
  {
   "cell_type": "code",
   "execution_count": null,
   "metadata": {},
   "outputs": [],
   "source": [
    "print(data.shape)\n",
    "data"
   ]
  },
  {
   "cell_type": "code",
   "execution_count": null,
   "metadata": {},
   "outputs": [],
   "source": [
    "%%timeit\n",
    "dist_matrix_creator(data, 10)"
   ]
  },
  {
   "cell_type": "code",
   "execution_count": null,
   "metadata": {},
   "outputs": [],
   "source": [
    "%%timeit\n",
    "dist_matrix_creator(data, 25)"
   ]
  },
  {
   "cell_type": "code",
   "execution_count": null,
   "metadata": {},
   "outputs": [],
   "source": [
    "%%timeit\n",
    "dist_matrix_creator(data, 50, pad=0.5)"
   ]
  },
  {
   "cell_type": "code",
   "execution_count": null,
   "metadata": {},
   "outputs": [],
   "source": [
    "%%timeit\n",
    "dist_matrix_creator(data, 50)"
   ]
  },
  {
   "cell_type": "code",
   "execution_count": null,
   "metadata": {},
   "outputs": [],
   "source": [
    "%%timeit\n",
    "dist_matrix_creator(data, 75)"
   ]
  },
  {
   "cell_type": "code",
   "execution_count": null,
   "metadata": {},
   "outputs": [],
   "source": [
    "DIST, IDX_w_padding, IDX_wo_padding = dist_matrix_creator(data, 100)"
   ]
  },
  {
   "cell_type": "code",
   "execution_count": null,
   "metadata": {},
   "outputs": [],
   "source": [
    "NEIGHBOR = {}\n",
    "for key in DIST.key() : \n",
    "    "
   ]
  },
  {
   "cell_type": "code",
   "execution_count": null,
   "metadata": {},
   "outputs": [],
   "source": [
    "%%timeit\n",
    "dist_matrix_creator(data, 100)"
   ]
  },
  {
   "cell_type": "code",
   "execution_count": null,
   "metadata": {},
   "outputs": [],
   "source": [
    "%%timeit\n",
    "dist_matrix_creator(data, 150)"
   ]
  },
  {
   "cell_type": "code",
   "execution_count": null,
   "metadata": {},
   "outputs": [],
   "source": [
    "%%timeit\n",
    "dist_matrix_creator(data, 200)"
   ]
  },
  {
   "cell_type": "code",
   "execution_count": null,
   "metadata": {
    "scrolled": false
   },
   "outputs": [],
   "source": [
    "%%timeit\n",
    "dist_matrix_creator(data, 300)"
   ]
  },
  {
   "cell_type": "code",
   "execution_count": null,
   "metadata": {},
   "outputs": [],
   "source": [
    "%%timeit\n",
    "dist_matrix_creator(data, 500)"
   ]
  },
  {
   "cell_type": "code",
   "execution_count": null,
   "metadata": {},
   "outputs": [],
   "source": [
    "%%timeit\n",
    "distance_matrix(data, data)"
   ]
  },
  {
   "cell_type": "code",
   "execution_count": null,
   "metadata": {},
   "outputs": [],
   "source": [
    "evaluation_dist_matrix_creator(data, 50, pad=0.5)"
   ]
  },
  {
   "cell_type": "code",
   "execution_count": null,
   "metadata": {
    "scrolled": true
   },
   "outputs": [],
   "source": [
    "evaluation_dist_matrix_creator(data, 50, pad=1)"
   ]
  },
  {
   "cell_type": "code",
   "execution_count": null,
   "metadata": {
    "scrolled": true
   },
   "outputs": [],
   "source": [
    "evaluation_dist_matrix_creator(data, 25, pad=1)"
   ]
  },
  {
   "cell_type": "code",
   "execution_count": null,
   "metadata": {},
   "outputs": [],
   "source": [
    "evaluation_dist_matrix_creator(data, 50, pad=1)"
   ]
  },
  {
   "cell_type": "code",
   "execution_count": null,
   "metadata": {},
   "outputs": [],
   "source": [
    "evaluation_dist_matrix_creator(data, 50, pad=1.5)"
   ]
  },
  {
   "cell_type": "code",
   "execution_count": null,
   "metadata": {},
   "outputs": [],
   "source": [
    "evaluation_dist_matrix_creator(data, 50, pad=3)"
   ]
  },
  {
   "cell_type": "code",
   "execution_count": null,
   "metadata": {},
   "outputs": [],
   "source": [
    "evaluation_dist_matrix_creator(data, 50, pad=2)"
   ]
  },
  {
   "cell_type": "code",
   "execution_count": null,
   "metadata": {},
   "outputs": [],
   "source": [
    "evaluation_dist_matrix_creator(data, 30, pad=2)"
   ]
  },
  {
   "cell_type": "markdown",
   "metadata": {},
   "source": [
    "# TEST WITH RANDOM DATA"
   ]
  },
  {
   "cell_type": "code",
   "execution_count": null,
   "metadata": {},
   "outputs": [],
   "source": [
    "#Data Preparation\n",
    "\n",
    "data = np.random.rand(40000,2)\n",
    "idx = np.arange(0,len(data),1)\n",
    "data[:,0] = data[:,0] * 2\n",
    "data[:,1] = data[:,1] * 2"
   ]
  },
  {
   "cell_type": "code",
   "execution_count": null,
   "metadata": {},
   "outputs": [],
   "source": []
  },
  {
   "cell_type": "code",
   "execution_count": null,
   "metadata": {},
   "outputs": [],
   "source": [
    "print(data.shape)\n",
    "data"
   ]
  },
  {
   "cell_type": "code",
   "execution_count": null,
   "metadata": {},
   "outputs": [],
   "source": [
    "%%timeit\n",
    "distance_matrix(data,data)"
   ]
  },
  {
   "cell_type": "code",
   "execution_count": null,
   "metadata": {},
   "outputs": [],
   "source": [
    "%%timeit\n",
    "dist_matrix_creator(data, 10)"
   ]
  },
  {
   "cell_type": "code",
   "execution_count": null,
   "metadata": {},
   "outputs": [],
   "source": [
    "%%timeit\n",
    "dist_matrix_creator(data, 25)"
   ]
  },
  {
   "cell_type": "code",
   "execution_count": null,
   "metadata": {},
   "outputs": [],
   "source": [
    "%%timeit\n",
    "dist_matrix_creator(data, 50)"
   ]
  },
  {
   "cell_type": "code",
   "execution_count": null,
   "metadata": {},
   "outputs": [],
   "source": [
    "%%timeit\n",
    "dist_matrix_creator(data, 100)"
   ]
  },
  {
   "cell_type": "code",
   "execution_count": null,
   "metadata": {},
   "outputs": [],
   "source": [
    "%%timeit\n",
    "dist_matrix_creator(data, 200)"
   ]
  },
  {
   "cell_type": "code",
   "execution_count": null,
   "metadata": {},
   "outputs": [],
   "source": [
    "%%timeit\n",
    "distance_matrix(data, data)"
   ]
  },
  {
   "cell_type": "code",
   "execution_count": null,
   "metadata": {},
   "outputs": [],
   "source": []
  },
  {
   "cell_type": "code",
   "execution_count": null,
   "metadata": {},
   "outputs": [],
   "source": [
    "%%timeit\n",
    "N=50\n",
    "RESULT, IDX_padding, IDX_wo_padding = dist_matrix_creator(data, N, pad = 1)# TEST WITH RANDOM DATA\n",
    "\n",
    "#Data Preparation\n",
    "\n",
    "data = np.random.rand(20000,2)\n",
    "idx = np.arange(0,len(data),1)\n",
    "data[:,0] = data[:,0] * 2\n",
    "data[:,1] = data[:,1] * 2\n",
    "\n",
    "print(data.shape)\n",
    "data\n",
    "\n",
    "%%timeit\n",
    "dist_matrix_creator(data, 10)\n",
    "\n",
    "%%timeit\n",
    "dist_matrix_creator(data, 25)"
   ]
  },
  {
   "cell_type": "code",
   "execution_count": null,
   "metadata": {},
   "outputs": [],
   "source": [
    "%%timeit\n",
    "distance_matrix(data,data)"
   ]
  },
  {
   "cell_type": "code",
   "execution_count": null,
   "metadata": {},
   "outputs": [],
   "source": [
    "\n",
    "pr = cProfile.Profile()\n",
    "pr.enable()\n",
    "\n",
    "N=300\n",
    "#cProfiling from here\n",
    "RESULT, IDX_padding, IDX_wo_padding = dist_matrix_creator(data, 50, pad = 1)\n",
    "#cProfiling till here\n",
    "pr.disable()\n",
    "s = io.StringIO()\n",
    "sortby = SortKey.CUMULATIVE\n",
    "ps = pstats.Stats(pr, stream=s).sort_stats(sortby)\n",
    "ps.print_stats()\n",
    "print(s.getvalue())\n",
    "\n"
   ]
  },
  {
   "cell_type": "code",
   "execution_count": null,
   "metadata": {},
   "outputs": [],
   "source": []
  },
  {
   "cell_type": "code",
   "execution_count": null,
   "metadata": {
    "scrolled": true
   },
   "outputs": [],
   "source": [
    "N=10\n",
    "evaluation_dist_matrix_creator(data, N, pad=1)"
   ]
  },
  {
   "cell_type": "code",
   "execution_count": null,
   "metadata": {},
   "outputs": [],
   "source": [
    "\n",
    "pr = cProfile.Profile()\n",
    "pr.enable()\n",
    "\n",
    "N=300\n",
    "#cProfiling from here\n",
    "\n",
    "evaluation_dist_matrix_creator(data, N, pad=1)\n",
    "#cProfiling till here\n",
    "\n",
    "pr.disable()\n",
    "s = io.StringIO()\n",
    "sortby = SortKey.CUMULATIVE\n",
    "ps = pstats.Stats(pr, stream=s).sort_stats(sortby)\n",
    "ps.print_stats()\n",
    "print(s.getvalue())\n",
    "\n",
    "\n"
   ]
  },
  {
   "cell_type": "code",
   "execution_count": null,
   "metadata": {},
   "outputs": [],
   "source": [
    "N=100\n",
    "command = 'RESULT, IDX_padding, IDX_wo_padding = dist_matrix_creator(data, N, pad = 0.5)'\n",
    "cProfile.run(command)\n",
    "    "
   ]
  },
  {
   "cell_type": "code",
   "execution_count": null,
   "metadata": {
    "scrolled": true
   },
   "outputs": [],
   "source": [
    "evaluation_dist_matrix_creator(data,50,1)"
   ]
  },
  {
   "cell_type": "code",
   "execution_count": null,
   "metadata": {},
   "outputs": [],
   "source": [
    "%%timeit\n",
    "N=10\n",
    "RESULT, IDX_padding, IDX_wo_padding = dist_matrix_creator(data, N, pad = 1)\n"
   ]
  },
  {
   "cell_type": "code",
   "execution_count": null,
   "metadata": {},
   "outputs": [],
   "source": []
  },
  {
   "cell_type": "code",
   "execution_count": null,
   "metadata": {},
   "outputs": [],
   "source": [
    "%%timeit\n",
    "N=200\n",
    "RESULT, IDX_padding, IDX_wo_padding = dist_matrix_creator(data, N, pad = 1)\n"
   ]
  },
  {
   "cell_type": "code",
   "execution_count": null,
   "metadata": {},
   "outputs": [],
   "source": [
    "\n",
    "N=50\n",
    "RESULT, IDX_padding, IDX_wo_padding = dist_matrix_creator(data, N, pad = 1)\n"
   ]
  },
  {
   "cell_type": "code",
   "execution_count": null,
   "metadata": {},
   "outputs": [],
   "source": [
    "\n",
    "IDX_argsort = IDX_padding[0,0][RESULT[0,0].argsort()]\n",
    "idx_ = np.isin(IDX_argsort[:,0],IDX_wo_padding[0,0])\n",
    "IDX_argsort[idx_]"
   ]
  },
  {
   "cell_type": "code",
   "execution_count": null,
   "metadata": {},
   "outputs": [],
   "source": [
    "for key in IDX_padding.keys() : \n",
    "    IDX_argsort = IDX_padding[key][RESULT[key].argsort()]\n",
    "    idx_ = np.isin(IDX_argsort[:,0],IDX_wo_padding[key]) #filter out to get only values within the box (excluding padding)\n",
    "    IDX_argsort[idx_]\n",
    "\n"
   ]
  },
  {
   "cell_type": "code",
   "execution_count": null,
   "metadata": {},
   "outputs": [],
   "source": [
    "IDX_wo_padding[5,5]"
   ]
  },
  {
   "cell_type": "code",
   "execution_count": null,
   "metadata": {},
   "outputs": [],
   "source": []
  },
  {
   "cell_type": "code",
   "execution_count": null,
   "metadata": {},
   "outputs": [],
   "source": [
    "str(key)"
   ]
  },
  {
   "cell_type": "code",
   "execution_count": null,
   "metadata": {},
   "outputs": [],
   "source": [
    "def test() : \n",
    "    key=(random.choice(range(N)),random.choice(range(N)))\n",
    "    print(key)\n",
    "    print(IDX_wo_padding[key])\n",
    "    \n",
    "    \n",
    "#     i = random.choice(range(len(IDX_wo_padding[key])))\n",
    "    for i in range(len(IDX_wo_padding[key])) : \n",
    "    \n",
    "        \n",
    "        \n",
    "        print(i, IDX_wo_padding[key][i])\n",
    "\n",
    "\n",
    "        IDX_argsort = IDX_padding[key][RESULT[key].argsort()]\n",
    "        idx_ = np.isin(IDX_argsort[:,0],IDX_wo_padding[key]) #filter out to get only values within the box (excluding padding)\n",
    "        ix_ = IDX_argsort[idx_]\n",
    "\n",
    "\n",
    "\n",
    "        plt.figure(figsize=(15,15))\n",
    "        plt.scatter(data[:,0], data[:,1], color='grey', s=0.1)\n",
    "        plt.scatter(data[IDX_padding[key]][:,0], data[IDX_padding[key]][:,1], color='darkgrey', s=5)\n",
    "        plt.scatter(data[ix_[i]][:10,0], data[ix_[i]][:10,1], color='blue', s=10)\n",
    "        plt.scatter(data[ix_[i]][0,0], data[ix_[i]][0,1], color='red', s=20)\n",
    "        \n",
    "        plt.savefig(\n",
    "            str(key) + str(IDX_wo_padding[key][i]) + '.png'\n",
    "        )\n",
    "\n",
    "\n"
   ]
  },
  {
   "cell_type": "code",
   "execution_count": null,
   "metadata": {},
   "outputs": [],
   "source": [
    "x=np.linspace(0,5,100)\n",
    "y=np.sin(x)\n",
    "plt.figure()\n",
    "plt.ion()\n",
    "plt.plot(x,y)\n",
    "plt.title(\"Plot generated using Matplotlib\")\n",
    "plt.xlabel(\"x\")\n",
    "plt.ylabel(\"sinx\")\n",
    "plt.close()\n",
    "plt.savefig(\"Plot generated using Matplotlib.png\")"
   ]
  },
  {
   "cell_type": "code",
   "execution_count": null,
   "metadata": {},
   "outputs": [],
   "source": [
    "from pylab import figure, title, show, scatter\n",
    "\n",
    "figure(figsize=(15,15))\n",
    "scatter(data[:,0], data[:,1], color='grey', s=0.1)\n",
    "scatter(data[IDX_padding[key]][:,0], data[IDX_padding[key]][:,1], color='darkgrey', s=5)\n",
    "scatter(data[ix_[i]][:10,0], data[ix_[i]][:10,1], color='blue', s=10)\n",
    "scatter(data[ix_[i]][0,0], data[ix_[i]][0,1], color='red', s=20)\n",
    "title(str(key) + str(IDX_wo_padding[key][i]))\n",
    "plt.savefig(\"Plot generated using Matplotlib.png\")\n",
    "plt.close()\n"
   ]
  },
  {
   "cell_type": "code",
   "execution_count": null,
   "metadata": {},
   "outputs": [],
   "source": []
  },
  {
   "cell_type": "code",
   "execution_count": null,
   "metadata": {},
   "outputs": [],
   "source": [
    "plt.figure(figsize=(15,15))\n",
    "plt.scatter(data[:,0], data[:,1], color='grey', s=0.1)\n",
    "plt.scatter(data[IDX_padding[key]][:,0], data[IDX_padding[key]][:,1], color='darkgrey', s=5)\n",
    "plt.scatter(data[ix_[i]][:10,0], data[ix_[i]][:10,1], color='blue', s=10)\n",
    "plt.scatter(data[ix_[i]][0,0], data[ix_[i]][0,1], color='red', s=20)"
   ]
  },
  {
   "cell_type": "code",
   "execution_count": null,
   "metadata": {
    "scrolled": false
   },
   "outputs": [],
   "source": [
    "def test() : \n",
    "    for key in IDX_wo_padding.keys() : \n",
    "        print(key)\n",
    "        print(IDX_wo_padding[key])\n",
    "\n",
    "\n",
    "    #     i = random.choice(range(len(IDX_wo_padding[key])))\n",
    "        for i in range(len(IDX_wo_padding[key])) : \n",
    "\n",
    "\n",
    "\n",
    "            print(i, IDX_wo_padding[key][i])\n",
    "\n",
    "\n",
    "            IDX_argsort = IDX_padding[key][RESULT[key].argsort()]\n",
    "            idx_ = np.isin(IDX_argsort[:,0],IDX_wo_padding[key]) #filter out to get only values within the box (excluding padding)\n",
    "            ix_ = IDX_argsort[idx_]\n",
    "\n",
    "\n",
    "\n",
    "            plt.figure(figsize=(15,15))\n",
    "            plt.scatter(data[:,0], data[:,1], color='grey', s=0.1)\n",
    "            plt.scatter(data[IDX_padding[key]][:,0], data[IDX_padding[key]][:,1], color='darkgrey', s=5)\n",
    "            plt.scatter(data[ix_[i]][:10,0], data[ix_[i]][:10,1], color='blue', s=10)\n",
    "            plt.scatter(data[ix_[i]][0,0], data[ix_[i]][0,1], color='red', s=20)\n",
    "\n",
    "            plt.savefig(\n",
    "                str(key) + str(IDX_wo_padding[key][i]) + '.png'\n",
    "            )            \n",
    "            plt.close()\n",
    "\n",
    "\n",
    "\n"
   ]
  },
  {
   "cell_type": "code",
   "execution_count": null,
   "metadata": {},
   "outputs": [],
   "source": [
    "test()"
   ]
  },
  {
   "cell_type": "code",
   "execution_count": null,
   "metadata": {},
   "outputs": [],
   "source": [
    "%%timeit\n",
    "RESULT, IDX_padding, IDX_wo_padding = dist_matrix_creator(data, 100, pad = 1)# TEST WITH RANDOM DATA"
   ]
  },
  {
   "cell_type": "code",
   "execution_count": null,
   "metadata": {},
   "outputs": [],
   "source": [
    "%%timeit\n",
    "def neighbor() : \n",
    "NEIGHBOR={}\n",
    "for key in IDX_wo_padding.keys() : \n",
    "    IDX_argsort = IDX_padding[key][RESULT[key].argsort()]\n",
    "    boolean_idx = np.isin(IDX_argsort[:,0], IDX_wo_padding[key]) #filter out to get only values within the box (excluding padding)\n",
    "    ix_ = IDX_argsort[boolean_idx]\n",
    "    for i in ix_ : \n",
    "        NEIGHBOR[i[0]] = i[1:]"
   ]
  },
  {
   "cell_type": "code",
   "execution_count": null,
   "metadata": {},
   "outputs": [],
   "source": []
  },
  {
   "cell_type": "code",
   "execution_count": 1,
   "metadata": {},
   "outputs": [],
   "source": [
    "from distance_matrix.scalable_dist_matrix_ import DistanceMatrix"
   ]
  },
  {
   "cell_type": "code",
   "execution_count": 2,
   "metadata": {},
   "outputs": [
    {
     "data": {
      "image/png": "[encoded data removed]",
      "text/plain": [
       "<Figure size 1440x720 with 2 Axes>"
      ]
     },
     "metadata": {
      "needs_background": "light"
     },
     "output_type": "display_data"
    }
   ],
   "source": [
    "N=10000\n",
    "s=20\n",
    "p=1\n",
    "k=10\n",
    "distmat1 = DistanceMatrix(N,s,p) \n",
    "distmat1.create_dist_matrix()\n",
    "distmat1.find_neighbor(k=k)\n",
    "distmat1.pick_and_draw_random_block()\n"
   ]
  },
  {
   "cell_type": "code",
   "execution_count": null,
   "metadata": {},
   "outputs": [],
   "source": [
    "N=10000\n",
    "s=20\n",
    "p=2\n",
    "k=10\n",
    "distmat2 = DistanceMatrix(N,s,p) \n",
    "distmat2.create_dist_matrix()\n",
    "distmat2.find_neighbor(k=k)\n",
    "distmat2.pick_and_draw_random_block()\n"
   ]
  },
  {
   "cell_type": "code",
   "execution_count": null,
   "metadata": {},
   "outputs": [],
   "source": []
  },
  {
   "cell_type": "code",
   "execution_count": null,
   "metadata": {},
   "outputs": [],
   "source": [
    "N=4000\n",
    "s=10\n",
    "p=1\n",
    "k=3\n",
    "distmat3 = DistanceMatrix(N,s,p) \n",
    "distmat3.create_dist_matrix()\n",
    "distmat3.find_neighbor(k=k)\n",
    "distmat3.pick_and_draw_random_block()\n"
   ]
  },
  {
   "cell_type": "code",
   "execution_count": null,
   "metadata": {},
   "outputs": [],
   "source": [
    "\n",
    "if __name__ == '__main__' : \n",
    "    \n",
    "    \n",
    "    # lst = [100, 200, 400, 800, 1600, 3200, 6400, 12800, 25600, 27000, 28000, 29000, 30000, 40000, 50000]\n",
    "    # lst = [29000]\n",
    "    # result = []\n",
    "    \n",
    "    \n",
    "    \n",
    "    # N = int(sys.argv[1])  \n",
    "    # s = int(sys.argv[2])  \n",
    "    # p = float(sys.argv[3])\n",
    "    # draw = sys.argv[4]\n",
    "\n",
    "    N = 10000\n",
    "    s = 20\n",
    "    p = 1\n",
    "    draw = False    \n",
    "    # N = 10000\n",
    "    # s = 100\n",
    "    # p = 1\n",
    "    distmat = DistanceMatrix(N,s,p) \n",
    "    print(\"{} stations \\n slicing by {}\\n with padding {}\".format(N, s, p))\n",
    "    start = time.time()\n",
    "    distmat.create_dist_matrix()\n",
    "    distmat.find_neighbor(k=10)    \n",
    "    end = time.time() - start    \n",
    "    \n",
    "    \n",
    "    \n",
    "\n",
    "    matrix_size = 0\n",
    "    for k in distmat._DIST.keys() : \n",
    "        matrix_size += distmat._DIST[k].shape[0] * distmat._DIST[k].shape[1]\n",
    "    \n",
    "    print(\"=\"*100)    \n",
    "    print(\"\\t elapsted time {}\".format(round(end,3)))\n",
    "    print(\"\\t size of NEIGHBOR:\", len(distmat.NEIGHBOR))\n",
    "    print(\"\\t size of dist_matrix with the original: {:,}\".format(len(distmat._data)**2))\n",
    "    print(\"\\t size of dist_matrix with the reduced: {:,}\".format(matrix_size))\n",
    "    print(\"\\t improved by the factor of\", round(len(distmat._data)**2 / matrix_size,2))\n",
    "    print(\"=\"*100)    \n",
    "    # print(DIST)\n",
    "    \n",
    "    distmat.pick_and_draw_random_block()\n",
    "    \n",
    "\n",
    "\n",
    "    \n",
    "    #     print(metadata._data.shape)\n",
    "    #     DIST = distance_matrix(metadata._data, metadata._data)\n",
    "    #     print(DIST.shape)\n",
    "    #     end = time.time() - start\n",
    "    #     print(\"\\n\", i, end)\n",
    "    #     result.append((i, end))\n",
    "    \n",
    "    # dist_matrix_creator\n",
    "\n"
   ]
  },
  {
   "cell_type": "code",
   "execution_count": null,
   "metadata": {},
   "outputs": [],
   "source": []
  }
 ],
 "metadata": {
  "kernelspec": {
   "display_name": "Python 3",
   "language": "python",
   "name": "python3"
  },
  "language_info": {
   "codemirror_mode": {
    "name": "ipython",
    "version": 3
   },
   "file_extension": ".py",
   "mimetype": "text/x-python",
   "name": "python",
   "nbconvert_exporter": "python",
   "pygments_lexer": "ipython3",
   "version": "3.8.8"
  }
 },
 "nbformat": 4,
 "nbformat_minor": 4
}
