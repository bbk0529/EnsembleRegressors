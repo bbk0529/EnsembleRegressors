{
 "cells": [
  {
   "cell_type": "code",
   "execution_count": 1,
   "metadata": {},
   "outputs": [],
   "source": [
    "from scalable_dist_matrix import DistanceMatrix\n",
    "import numpy as np\n",
    "import math\n",
    "import time"
   ]
  },
  {
   "cell_type": "code",
   "execution_count": null,
   "metadata": {},
   "outputs": [],
   "source": []
  },
  {
   "cell_type": "code",
   "execution_count": null,
   "metadata": {},
   "outputs": [],
   "source": [
    "#2M with k=30\n",
    "s = math.floor(math.sqrt(N / 40))\n",
    "dm = DistanceMatrix(data, s=s, k=30)\n",
    "start = time.time()\n",
    "dm.create_dist_matrix()\n",
    "dm.find_neighbor()\n",
    "print (\"elapsed time:\", time.time() - start)"
   ]
  },
  {
   "cell_type": "code",
   "execution_count": null,
   "metadata": {},
   "outputs": [],
   "source": []
  },
  {
   "cell_type": "code",
   "execution_count": null,
   "metadata": {},
   "outputs": [],
   "source": [
    "#2M with k=20\n",
    "\n",
    "s = math.floor(math.sqrt(N / 40))\n",
    "dm = DistanceMatrix(data, s=s, k=20)\n",
    "start = time.time()\n",
    "dm.create_dist_matrix()\n",
    "dm.find_neighbor()\n",
    "print (\"elapsed time:\", time.time() - start)"
   ]
  },
  {
   "cell_type": "code",
   "execution_count": null,
   "metadata": {},
   "outputs": [],
   "source": [
    "#2M with k=15\n",
    "\n",
    "s = math.floor(math.sqrt(N / 40))\n",
    "dm = DistanceMatrix(data, s=s, k=15)\n",
    "start = time.time()\n",
    "dm.create_dist_matrix()\n",
    "dm.find_neighbor()\n",
    "print (\"elapsed time:\", time.time() - start)"
   ]
  },
  {
   "cell_type": "code",
   "execution_count": null,
   "metadata": {},
   "outputs": [],
   "source": [
    "N = 1 * 10**6\n",
    "data = np.random.rand(N,2)\n",
    "\n"
   ]
  },
  {
   "cell_type": "code",
   "execution_count": null,
   "metadata": {},
   "outputs": [],
   "source": [
    "N = 1 * 10**6\n",
    "data = np.random.rand(N,2)\n",
    "\n"
   ]
  },
  {
   "cell_type": "code",
   "execution_count": null,
   "metadata": {},
   "outputs": [],
   "source": [
    "s = math.floor(math.sqrt(N / 40))\n",
    "dm = DistanceMatrix(data, s=s, k=20)\n",
    "start = time.time()\n",
    "dm.create_dist_matrix()\n",
    "dm.find_neighbor()\n",
    "print (\"elapsed time:\", time.time() - start)"
   ]
  },
  {
   "cell_type": "code",
   "execution_count": null,
   "metadata": {},
   "outputs": [],
   "source": [
    "s = math.floor(math.sqrt(N / 40))\n",
    "dm = DistanceMatrix(data, s=s, k=15)\n",
    "start = time.time()\n",
    "dm.create_dist_matrix()\n",
    "dm.find_neighbor()\n",
    "print (\"elapsed time:\", time.time() - start)"
   ]
  },
  {
   "cell_type": "code",
   "execution_count": null,
   "metadata": {},
   "outputs": [],
   "source": [
    "4.5 + 1.6"
   ]
  },
  {
   "cell_type": "code",
   "execution_count": null,
   "metadata": {},
   "outputs": [],
   "source": [
    "dm.stat()"
   ]
  },
  {
   "cell_type": "code",
   "execution_count": null,
   "metadata": {},
   "outputs": [],
   "source": [
    "len(dm.NEIGHBOR[2])"
   ]
  },
  {
   "cell_type": "code",
   "execution_count": null,
   "metadata": {},
   "outputs": [],
   "source": [
    "result =[]\n",
    "# k=30\n",
    "for N in [100000, 200000, 300000, 400000, 500000, 600000, 700000, 800000, 900000, 1000000] : \n",
    "    data = np.random.rand(N,2)\n",
    "    s = math.floor(math.sqrt(N / 40))\n",
    "    dm = DistanceMatrix(data, s=s, k=k)\n",
    "    start = time.time()\n",
    "    dm.create_dist_matrix()\n",
    "    dm.find_neighbor()\n",
    "    end = time.time() - start    \n",
    "    print (N, s, p, \"elapsed time:\", end)\n",
    "    result.append([N,s, p, end])"
   ]
  },
  {
   "cell_type": "code",
   "execution_count": null,
   "metadata": {},
   "outputs": [],
   "source": [
    "max(11, math.ceil(9.2))"
   ]
  },
  {
   "cell_type": "code",
   "execution_count": null,
   "metadata": {},
   "outputs": [],
   "source": [
    "a={1:[123,4,2,12], 2:[1,2,3,4]}"
   ]
  },
  {
   "cell_type": "code",
   "execution_count": null,
   "metadata": {},
   "outputs": [],
   "source": [
    "for i in a.values() : print(i)"
   ]
  },
  {
   "cell_type": "code",
   "execution_count": null,
   "metadata": {},
   "outputs": [],
   "source": [
    "a = [1,2,3,5,1,2,3,1]"
   ]
  },
  {
   "cell_type": "code",
   "execution_count": null,
   "metadata": {},
   "outputs": [],
   "source": [
    "import statistics\n",
    "statistics.stdev(a)\n",
    "np.mean(a)"
   ]
  },
  {
   "cell_type": "code",
   "execution_count": null,
   "metadata": {},
   "outputs": [],
   "source": [
    "result =[]\n",
    "\n",
    "for N in [100000, 200000, 300000, 400000, 500000, 600000, 700000, 800000, 900000, 1000000] : \n",
    "    data = np.random.rand(N,2)\n",
    "    s = math.floor(math.sqrt(N / 40))\n",
    "    k= max(10, math.ceil(30 * 100000 / N))    \n",
    "    dm = DistanceMatrix(data, s=s, k=k)\n",
    "    start = time.time()\n",
    "    dm.create_dist_matrix()\n",
    "    dm.find_neighbor()\n",
    "    end = time.time() - start    \n",
    "    print (N, s, k, \"elapsed time:\", end)\n",
    "    result.append([N,s, k, end])\n",
    "    dm.stat()\n",
    "    print(\"\\n\")"
   ]
  },
  {
   "cell_type": "code",
   "execution_count": null,
   "metadata": {},
   "outputs": [],
   "source": [
    "result =[]\n",
    "k = 20\n",
    "\n",
    "for N in [100000, 200000, 300000, 400000, 500000, 600000, 700000, 800000, 900000, 1000000] : \n",
    "    data = np.random.rand(N,2)\n",
    "    s = math.floor(math.sqrt(N / 40))\n",
    "    \n",
    "    dm = DistanceMatrix(data, s=s, k=k)\n",
    "    start = time.time()\n",
    "    dm.create_dist_matrix()\n",
    "    dm.find_neighbor()\n",
    "    end = time.time() - start    \n",
    "    print (N, s, k, \"elapsed time:\", end)\n",
    "    result.append([N,s, k, end])\n",
    "    dm.stat()\n",
    "    print(\"\\n\")"
   ]
  },
  {
   "cell_type": "code",
   "execution_count": 12,
   "metadata": {},
   "outputs": [
    {
     "name": "stdout",
     "output_type": "stream",
     "text": [
      "set padding width by k 0.0274\n",
      "10000 15 30 elapsed time: 0.2590315341949463\n",
      "10000 0.0 10.0\n",
      "\n",
      "\n",
      "set padding width by k 0.0194\n",
      "20000 22 30 elapsed time: 0.5426743030548096\n",
      "20000 0.0 10.0\n",
      "\n",
      "\n",
      "set padding width by k 0.0158\n",
      "30000 27 30 elapsed time: 0.8289813995361328\n",
      "30000 0.0 10.0\n",
      "\n",
      "\n",
      "set padding width by k 0.0137\n",
      "40000 31 30 elapsed time: 1.1248385906219482\n",
      "40000 0.0 10.0\n",
      "\n",
      "\n",
      "set padding width by k 0.0122\n",
      "50000 35 30 elapsed time: 1.4342436790466309\n",
      "50000 0.0 10.0\n",
      "\n",
      "\n",
      "set padding width by k 0.0112\n",
      "60000 38 30 elapsed time: 1.8919610977172852\n",
      "60000 0.0 10.0\n",
      "\n",
      "\n",
      "set padding width by k 0.0104\n",
      "70000 41 30 elapsed time: 2.3517565727233887\n",
      "70000 0.0 10.0\n",
      "\n",
      "\n",
      "set padding width by k 0.0097\n",
      "80000 44 30 elapsed time: 2.5019471645355225\n",
      "80000 0.0 10.0\n",
      "\n",
      "\n",
      "set padding width by k 0.0091\n",
      "90000 47 30 elapsed time: 2.8670995235443115\n",
      "90000 0.0 10.0\n",
      "\n",
      "\n",
      "set padding width by k 0.0087\n",
      "100000 50 30 elapsed time: 3.3854358196258545\n",
      "100000 0.0 10.0\n",
      "\n",
      "\n"
     ]
    }
   ],
   "source": [
    "result =[]\n",
    "k=30\n",
    "for N in [10000, 20000, 30000, 40000, 50000, 60000, 70000, 80000, 90000, 100000] : \n",
    "    data = np.random.rand(N,2)\n",
    "    s = math.floor(math.sqrt(N / 40))\n",
    "    \n",
    "    dm = DistanceMatrix(data, s=s, k=k)\n",
    "    start = time.time()\n",
    "    dm.create_dist_matrix()\n",
    "    dm.find_neighbor()\n",
    "    end = time.time() - start    \n",
    "    print (N, s, k, \"elapsed time:\", end)\n",
    "    result.append([N,s, k, end])\n",
    "    dm.stat()\n",
    "    print(\"\\n\")"
   ]
  },
  {
   "cell_type": "code",
   "execution_count": null,
   "metadata": {},
   "outputs": [],
   "source": []
  },
  {
   "cell_type": "code",
   "execution_count": null,
   "metadata": {},
   "outputs": [],
   "source": []
  },
  {
   "cell_type": "code",
   "execution_count": null,
   "metadata": {},
   "outputs": [],
   "source": []
  },
  {
   "cell_type": "code",
   "execution_count": 7,
   "metadata": {},
   "outputs": [
    {
     "name": "stdout",
     "output_type": "stream",
     "text": [
      "set padding width by k 0.0087\n",
      "100000 50 30 elapsed time: 3.1468794345855713\n",
      "100000 0.0 10.0\n",
      "\n",
      "\n",
      "set padding width by k 0.0043\n",
      "200000 70 15 elapsed time: 5.466580629348755\n",
      "200000 0.0 10.0\n",
      "\n",
      "\n",
      "set padding width by k 0.003\n",
      "300000 86 11 elapsed time: 9.631901741027832\n",
      "300000 0.0 10.0\n",
      "\n",
      "\n",
      "set padding width by k 0.0026\n",
      "400000 100 11 elapsed time: 16.1042263507843\n",
      "400000 0.0 10.0\n",
      "\n",
      "\n",
      "set padding width by k 0.0023\n",
      "500000 111 11 elapsed time: 23.790492057800293\n",
      "500000 0.0 10.0\n",
      "\n",
      "\n",
      "set padding width by k 0.0021\n",
      "600000 122 11 elapsed time: 34.799259185791016\n",
      "599999 0.0 10.0\n",
      "\n",
      "\n",
      "set padding width by k 0.002\n",
      "700000 132 11 elapsed time: 45.38226294517517\n",
      "700000 0.0 10.0\n",
      "\n",
      "\n",
      "set padding width by k 0.0019\n",
      "800000 141 11 elapsed time: 60.346232652664185\n",
      "800000 0.00447213595499958 9.999995\n",
      "\n",
      "\n",
      "set padding width by k 0.0017\n",
      "900000 150 11 elapsed time: 72.23357963562012\n",
      "900000 0.0 10.0\n",
      "\n",
      "\n",
      "set padding width by k 0.0017\n",
      "1000000 158 11 elapsed time: 87.24179911613464\n",
      "1000000 0.0 10.0\n",
      "\n",
      "\n"
     ]
    }
   ],
   "source": [
    "result =[]\n",
    "\n",
    "for N in [100000, 200000, 300000, 400000, 500000, 600000, 700000, 800000, 900000, 1000000] : \n",
    "    data = np.random.rand(N,2)\n",
    "    s = math.floor(math.sqrt(N / 40))\n",
    "    k= max(11, math.ceil(30 * 100000 / N))    \n",
    "    dm = DistanceMatrix(data, s=s, k=k)\n",
    "    start = time.time()\n",
    "    dm.create_dist_matrix()\n",
    "    dm.find_neighbor()\n",
    "    end = time.time() - start    \n",
    "    print (N, s, k, \"elapsed time:\", end)\n",
    "    result.append([N,s, k, end])\n",
    "    dm.stat()\n",
    "    print(\"\\n\")"
   ]
  },
  {
   "cell_type": "code",
   "execution_count": null,
   "metadata": {},
   "outputs": [
    {
     "name": "stdout",
     "output_type": "stream",
     "text": [
      "set padding width by k 0.0087\n",
      "100000 50 30 elapsed time: 3.141402244567871\n",
      "100000 0.0 10.0\n",
      "\n",
      "\n",
      "set padding width by k 0.0043\n",
      "200000 70 15 elapsed time: 5.393516302108765\n",
      "200000 0.0 10.0\n",
      "\n",
      "\n",
      "set padding width by k 0.0029\n",
      "300000 86 10 elapsed time: 9.420756101608276\n",
      "300000 0.0 10.0\n",
      "\n",
      "\n",
      "set padding width by k 0.0022\n",
      "400000 100 8 elapsed time: 15.413673639297485\n",
      "400000 0.0 10.0\n",
      "\n",
      "\n",
      "set padding width by k 0.0017\n",
      "500000 111 6 elapsed time: 21.850695848464966\n",
      "500000 0.0 10.0\n",
      "\n",
      "\n",
      "set padding width by k 0.0014\n",
      "600000 122 5 elapsed time: 30.669371604919434\n",
      "600000 0.0025819888974716113 9.999996666666666\n",
      "\n",
      "\n",
      "set padding width by k 0.0013\n",
      "700000 132 5 elapsed time: 42.05215406417847\n",
      "700000 0.0 10.0\n",
      "\n",
      "\n",
      "set padding width by k 0.0011\n",
      "800000 141 4 elapsed time: 52.07954454421997\n",
      "800000 0.0 10.0\n",
      "\n",
      "\n",
      "set padding width by k 0.0011\n",
      "900000 150 4 elapsed time: 65.47909164428711\n",
      "899999 0.00527046569498461 9.999994444438272\n",
      "\n",
      "\n",
      "set padding width by k 0.0009\n",
      "1000000 158 3 elapsed time: 79.46324062347412\n",
      "1000000 0.0 10.0\n",
      "\n",
      "\n",
      "set padding width by k 0.0007\n",
      "1500000 193 3 elapsed time: 175.09224796295166\n",
      "1500000 0.0025819883810734357 9.999997333333333\n",
      "\n",
      "\n",
      "set padding width by k 0.0006\n",
      "2000000 223 3 elapsed time: 296.5405728816986\n",
      "2000000 0.0 10.0\n",
      "\n",
      "\n",
      "set padding width by k 0.0005\n",
      "3000000 273 3 elapsed time: 675.2911155223846\n",
      "3000000 0.0 10.0\n",
      "\n",
      "\n",
      "set padding width by k 0.0004\n",
      "5000000 353 3 elapsed time: 1927.2320637702942\n",
      "5000000 0.002683281572999748 9.9999988\n",
      "\n",
      "\n",
      "set padding width by k 0.0003\n"
     ]
    }
   ],
   "source": [
    "result =[]\n",
    "\n",
    "for N in [100000, 200000, 300000, 400000, 500000, 600000, 700000, 800000, 900000, 1000000, 1500000, 2000000, 3000000, 5000000, 10000000] : \n",
    "    data = np.random.rand(N,2)\n",
    "    s = math.floor(math.sqrt(N / 40))\n",
    "    k= max(6, math.ceil(30 * 100000 / N))\n",
    "    dm = DistanceMatrix(data, s=s, k=k)\n",
    "    start = time.time()\n",
    "    dm.create_dist_matrix()\n",
    "    dm.find_neighbor()\n",
    "    end = time.time() - start    \n",
    "    print (N, s, k, \"elapsed time:\", end)\n",
    "    result.append([N,s, k, end])\n",
    "    dm.stat()\n",
    "    print(\"\\n\")"
   ]
  },
  {
   "cell_type": "code",
   "execution_count": 10,
   "metadata": {
    "scrolled": true
   },
   "outputs": [
    {
     "data": {
      "text/html": [
       "<div>\n",
       "<style scoped>\n",
       "    .dataframe tbody tr th:only-of-type {\n",
       "        vertical-align: middle;\n",
       "    }\n",
       "\n",
       "    .dataframe tbody tr th {\n",
       "        vertical-align: top;\n",
       "    }\n",
       "\n",
       "    .dataframe thead th {\n",
       "        text-align: right;\n",
       "    }\n",
       "</style>\n",
       "<table border=\"1\" class=\"dataframe\">\n",
       "  <thead>\n",
       "    <tr style=\"text-align: right;\">\n",
       "      <th></th>\n",
       "      <th>0</th>\n",
       "      <th>1</th>\n",
       "      <th>2</th>\n",
       "      <th>3</th>\n",
       "    </tr>\n",
       "  </thead>\n",
       "  <tbody>\n",
       "    <tr>\n",
       "      <th>0</th>\n",
       "      <td>100000</td>\n",
       "      <td>50</td>\n",
       "      <td>30</td>\n",
       "      <td>3.146879</td>\n",
       "    </tr>\n",
       "    <tr>\n",
       "      <th>1</th>\n",
       "      <td>200000</td>\n",
       "      <td>70</td>\n",
       "      <td>15</td>\n",
       "      <td>5.466581</td>\n",
       "    </tr>\n",
       "    <tr>\n",
       "      <th>2</th>\n",
       "      <td>300000</td>\n",
       "      <td>86</td>\n",
       "      <td>11</td>\n",
       "      <td>9.631902</td>\n",
       "    </tr>\n",
       "    <tr>\n",
       "      <th>3</th>\n",
       "      <td>400000</td>\n",
       "      <td>100</td>\n",
       "      <td>11</td>\n",
       "      <td>16.104226</td>\n",
       "    </tr>\n",
       "    <tr>\n",
       "      <th>4</th>\n",
       "      <td>500000</td>\n",
       "      <td>111</td>\n",
       "      <td>11</td>\n",
       "      <td>23.790492</td>\n",
       "    </tr>\n",
       "    <tr>\n",
       "      <th>5</th>\n",
       "      <td>600000</td>\n",
       "      <td>122</td>\n",
       "      <td>11</td>\n",
       "      <td>34.799259</td>\n",
       "    </tr>\n",
       "    <tr>\n",
       "      <th>6</th>\n",
       "      <td>700000</td>\n",
       "      <td>132</td>\n",
       "      <td>11</td>\n",
       "      <td>45.382263</td>\n",
       "    </tr>\n",
       "    <tr>\n",
       "      <th>7</th>\n",
       "      <td>800000</td>\n",
       "      <td>141</td>\n",
       "      <td>11</td>\n",
       "      <td>60.346233</td>\n",
       "    </tr>\n",
       "    <tr>\n",
       "      <th>8</th>\n",
       "      <td>900000</td>\n",
       "      <td>150</td>\n",
       "      <td>11</td>\n",
       "      <td>72.233580</td>\n",
       "    </tr>\n",
       "    <tr>\n",
       "      <th>9</th>\n",
       "      <td>1000000</td>\n",
       "      <td>158</td>\n",
       "      <td>11</td>\n",
       "      <td>87.241799</td>\n",
       "    </tr>\n",
       "  </tbody>\n",
       "</table>\n",
       "</div>"
      ],
      "text/plain": [
       "         0    1   2          3\n",
       "0   100000   50  30   3.146879\n",
       "1   200000   70  15   5.466581\n",
       "2   300000   86  11   9.631902\n",
       "3   400000  100  11  16.104226\n",
       "4   500000  111  11  23.790492\n",
       "5   600000  122  11  34.799259\n",
       "6   700000  132  11  45.382263\n",
       "7   800000  141  11  60.346233\n",
       "8   900000  150  11  72.233580\n",
       "9  1000000  158  11  87.241799"
      ]
     },
     "execution_count": 10,
     "metadata": {},
     "output_type": "execute_result"
    }
   ],
   "source": [
    "result"
   ]
  },
  {
   "cell_type": "code",
   "execution_count": null,
   "metadata": {},
   "outputs": [],
   "source": []
  },
  {
   "cell_type": "code",
   "execution_count": 11,
   "metadata": {},
   "outputs": [
    {
     "data": {
      "text/plain": [
       "<matplotlib.collections.PathCollection at 0x7fa3ddcba6a0>"
      ]
     },
     "execution_count": 11,
     "metadata": {},
     "output_type": "execute_result"
    },
    {
     "data": {
      "image/png": "[encoded data removed]",
      "text/plain": [
       "<Figure size 432x288 with 1 Axes>"
      ]
     },
     "metadata": {
      "needs_background": "light"
     },
     "output_type": "display_data"
    }
   ],
   "source": [
    "import pandas as pd\n",
    "import matplotlib.pyplot as plt\n",
    "result = pd.DataFrame(result)\n",
    "plt.scatter(result.loc[:,0], result.loc[:,3])"
   ]
  },
  {
   "cell_type": "code",
   "execution_count": null,
   "metadata": {},
   "outputs": [],
   "source": [
    "result.loc[:0]"
   ]
  },
  {
   "cell_type": "code",
   "execution_count": null,
   "metadata": {},
   "outputs": [],
   "source": [
    "result = pd.DataFrame(result)\n",
    "plt.scatter(result.loc[:,0], result.loc[:,1])"
   ]
  },
  {
   "cell_type": "code",
   "execution_count": null,
   "metadata": {},
   "outputs": [],
   "source": [
    "import pandas as pd\n",
    "df = pd.DataFrame(\n",
    "[\n",
    "    ['12.5k', 0.329],\n",
    "    ['25k', 0.6848],\n",
    "    ['50k', 1.442],\n",
    "    ['100k', 3.165],\n",
    "    ['200k', 7.412],\n",
    "    ['400k', 22.11],\n",
    "    ['800k', 69.1316],\n",
    "    ['1M', 93.301],\n",
    "    ['2M', 339.7932 ]\n",
    "])\n",
    "import matplotlib.pyplot as plt\n",
    "plt.bar(df.iloc[:,0], df.iloc[:,1])"
   ]
  },
  {
   "cell_type": "code",
   "execution_count": null,
   "metadata": {},
   "outputs": [],
   "source": [
    "dm = DistanceMatrix(data, s=s+100,k=10)\n",
    "start = time.time()\n",
    "dm.create_dist_matrix()\n",
    "dm.find_neighbor()\n",
    "print (\"elapsed time:\", time.time() - start)"
   ]
  },
  {
   "cell_type": "code",
   "execution_count": null,
   "metadata": {},
   "outputs": [],
   "source": [
    "dm = DistanceMatrix(data, s=s-10, k=40)\n",
    "start = time.time()\n",
    "dm.create_dist_matrix()\n",
    "dm.find_neighbor()\n",
    "print (\"elapsed time:\", time.time() - start)"
   ]
  },
  {
   "cell_type": "code",
   "execution_count": null,
   "metadata": {},
   "outputs": [],
   "source": [
    "dm = DistanceMatrix(data, s=s, k=30)\n",
    "start = time.time()\n",
    "dm.create_dist_matrix()\n",
    "dm.find_neighbor()\n",
    "print (\"elapsed time:\", time.time() - start)"
   ]
  },
  {
   "cell_type": "code",
   "execution_count": null,
   "metadata": {},
   "outputs": [],
   "source": [
    "dm = DistanceMatrix(data, s=40, k=30)\n",
    "start = time.time()\n",
    "dm.create_dist_matrix()\n",
    "dm.find_neighbor()\n",
    "print (\"elapsed time:\", time.time() - start)"
   ]
  },
  {
   "cell_type": "code",
   "execution_count": null,
   "metadata": {},
   "outputs": [],
   "source": [
    "dm = DistanceMatrix(data, s=20, k=30)\n",
    "start = time.time()\n",
    "dm.create_dist_matrix()\n",
    "dm.find_neighbor()\n",
    "print (\"elapsed time:\", time.time() - start)"
   ]
  },
  {
   "cell_type": "code",
   "execution_count": null,
   "metadata": {},
   "outputs": [],
   "source": [
    "\n",
    "len(dm.NEIGHBOR)"
   ]
  },
  {
   "cell_type": "code",
   "execution_count": null,
   "metadata": {},
   "outputs": [],
   "source": []
  },
  {
   "cell_type": "code",
   "execution_count": null,
   "metadata": {},
   "outputs": [],
   "source": []
  },
  {
   "cell_type": "code",
   "execution_count": null,
   "metadata": {},
   "outputs": [],
   "source": []
  },
  {
   "cell_type": "code",
   "execution_count": null,
   "metadata": {},
   "outputs": [],
   "source": []
  },
  {
   "cell_type": "code",
   "execution_count": null,
   "metadata": {},
   "outputs": [],
   "source": []
  }
 ],
 "metadata": {
  "kernelspec": {
   "display_name": "Python 3",
   "language": "python",
   "name": "python3"
  },
  "language_info": {
   "codemirror_mode": {
    "name": "ipython",
    "version": 3
   },
   "file_extension": ".py",
   "mimetype": "text/x-python",
   "name": "python",
   "nbconvert_exporter": "python",
   "pygments_lexer": "ipython3",
   "version": "3.8.8"
  }
 },
 "nbformat": 4,
 "nbformat_minor": 4
}
