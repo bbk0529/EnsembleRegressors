{
 "cells": [
  {
   "cell_type": "code",
   "execution_count": 34,
   "metadata": {},
   "outputs": [],
   "source": [
    "from regressors import *\n",
    "import pickle\n",
    "import pandas as pd"
   ]
  },
  {
   "cell_type": "code",
   "execution_count": 35,
   "metadata": {},
   "outputs": [],
   "source": [
    "ensembleregression = EnsembleRegression(n_regressors=5,n_variables=3, eps=3, decision_boundary=0.6, global_search=False)\n",
    "spatialcomparision = SpatialComparision()"
   ]
  },
  {
   "cell_type": "code",
   "execution_count": 36,
   "metadata": {},
   "outputs": [],
   "source": [
    "n_stations = 400\n",
    "n_timesteps= 100\n",
    "k = 5\n",
    "p_noise_stations = 0.01\n",
    "p_noise_timesteps= 0.01\n",
    "\n",
    "\n",
    "data = Tempearture_DWD(n_stations, n_timesteps, k, p_noise_stations=p_noise_stations, p_noise_timesteps= p_noise_timesteps)\n",
    "validatorNew= Executor(data, ensembleregression)\n",
    "validatorOld = Executor(data, spatialcomparision)\n",
    "resultNew = validatorNew.evaluate_validator()  \n",
    "resultOld = validatorOld.evaluate_validator()  \n",
    "\n",
    "\n"
   ]
  },
  {
   "cell_type": "code",
   "execution_count": 37,
   "metadata": {
    "scrolled": true
   },
   "outputs": [
    {
     "data": {
      "text/plain": [
       "<matplotlib.colorbar.Colorbar at 0x7fc148258a00>"
      ]
     },
     "execution_count": 37,
     "metadata": {},
     "output_type": "execute_result"
    },
    {
     "data": {
      "image/png": "[encoded data removed]",
      "text/plain": [
       "<Figure size 432x288 with 2 Axes>"
      ]
     },
     "metadata": {
      "needs_background": "light"
     },
     "output_type": "display_data"
    }
   ],
   "source": [
    "plt.imshow(data.matrix_noises)\n",
    "plt.colorbar()"
   ]
  },
  {
   "cell_type": "code",
   "execution_count": 38,
   "metadata": {},
   "outputs": [],
   "source": [
    "ts_data = data.ts_data\n",
    "neighbor = data._neighbor"
   ]
  },
  {
   "cell_type": "code",
   "execution_count": 39,
   "metadata": {},
   "outputs": [],
   "source": [
    "def regression_predict_w_randomness(ts_data, i, global_search=False, display=False) :     \n",
    "    max_score = -np.inf\n",
    "    max_iteration = 500\n",
    "    n_iter = 0 \n",
    "    thr = 0.9\n",
    "    while True :\n",
    "        if global_search : \n",
    "            candidate = np.arange(ts_data.shape[0])\n",
    "            candidate = np.delete(candidate, i)                      \n",
    "        else : \n",
    "            candidate = data._neighbor[i]      \n",
    "        idx_stations = np.random.choice(candidate, size=3, replace=False)\n",
    "        idx_timesteps = np.random.choice(np.arange(ts_data.shape[1]), size= round(ts_data.shape[1]/2), replace=True)\n",
    "        idx_timesteps.sort()\n",
    "\n",
    "        y = ts_data[i]\n",
    "        X = ts_data[idx_stations]\n",
    "        reg = LinearRegression().fit(X.T[idx_timesteps],y[idx_timesteps])\n",
    "        score = reg.score(X.T[idx_timesteps],y[idx_timesteps])\n",
    "\n",
    "\n",
    "        if score > max_score :\n",
    "            max_score = score\n",
    "            max_idx_stations = idx_stations\n",
    "            max_idx_timesteps = idx_timesteps\n",
    "\n",
    "        if n_iter >= max_iteration :                 \n",
    "            X = ts_data[max_idx_stations]\n",
    "            reg = LinearRegression().fit(X.T[max_idx_timesteps],y[max_idx_timesteps])\n",
    "            pred = reg.predict(X.T)\n",
    "            gap = abs(pred - y)\n",
    "            if display : \n",
    "                print(\"for {} iteration, cannot find more than {}. the best upto now is {}\".format(max_iteration, thr, max_score))\n",
    "            break\n",
    "        if (score > thr) : \n",
    "            pred = reg.predict(X.T)\n",
    "            gap = pred - y\n",
    "            if display : \n",
    "                print(score)\n",
    "            break\n",
    "        n_iter += 1\n",
    "    if display : \n",
    "        plt.figure(figsize=(20,5))\n",
    "        plt.plot(X.T, color='grey')\n",
    "        plt.plot(y)\n",
    "        plt.plot(pred, color='black')\n",
    "        # plt.plot(gap, color='blue')\n",
    "    return pred"
   ]
  },
  {
   "cell_type": "code",
   "execution_count": 40,
   "metadata": {},
   "outputs": [],
   "source": [
    "def regression_predict_w_neighbor(ts_data, i) :     \n",
    "    y = ts_data[i]\n",
    "    X = ts_data[neighbor[i]]\n",
    "    reg = LinearRegression().fit(X.T,y)\n",
    "    score = reg.score(X.T,y)\n",
    "    print(score)\n",
    "    pred = reg.predict(X.T)\n",
    "    gap2 = abs(pred - y)\n",
    "    plt.figure(figsize=(20,5))\n",
    "    plt.plot(X.T, color='grey')\n",
    "    plt.plot(y)\n",
    "    plt.plot(pred, color='black')\n",
    "    # plt.plot(gap, color='blue')\n",
    "    return pred"
   ]
  },
  {
   "cell_type": "code",
   "execution_count": 41,
   "metadata": {},
   "outputs": [],
   "source": [
    "def levenshteinDistance(s1, s2):\n",
    "    if len(s1) > len(s2):\n",
    "        s1, s2 = s2, s1\n",
    "\n",
    "    distances = range(len(s1) + 1)\n",
    "    for i2, c2 in enumerate(s2):\n",
    "        distances_ = [i2+1]\n",
    "        for i1, c1 in enumerate(s1):\n",
    "            if c1 == c2:\n",
    "                distances_.append(distances[i1])\n",
    "            else:\n",
    "                distances_.append(1 + min((distances[i1], distances[i1 + 1], distances_[-1])))\n",
    "        distances = distances_\n",
    "    return distances[-1]"
   ]
  },
  {
   "cell_type": "code",
   "execution_count": 42,
   "metadata": {},
   "outputs": [],
   "source": [
    "def evaluate_predictor(function, ts_data, i, global_search=False, display = False) : \n",
    "    pred = function(ts_data, i, global_search=global_search, display=display)\n",
    "\n",
    "    gap = pred - ts_data[i]\n",
    "    gap_between_rawdata = pred - data._ts_rawdata[i]\n",
    "    \n",
    "    gap_mean = np.mean(gap)\n",
    "    gap_std = max(np.std(gap),2)\n",
    "\n",
    "    idx = (gap >= gap_mean +  2 * gap_std) | (gap <= gap_mean -  2 * gap_std)\n",
    "    pred_by_neighbor_randomness = np.where(idx == True )[0]\n",
    "    \n",
    "    if display  : \n",
    "        print(\"SSE between rawdata\", math.sqrt(sum(gap_between_rawdata**2)))\n",
    "        print(pred_by_neighbor_randomness)\n",
    "        print(\"LevenshteinDistance\", levenshteinDistance(answer, pred_by_neighbor_randomness))\n",
    "        plt.plot(idx, color='red')\n",
    "    return idx"
   ]
  },
  {
   "cell_type": "markdown",
   "metadata": {},
   "source": [
    "# Random Selection"
   ]
  },
  {
   "cell_type": "code",
   "execution_count": 43,
   "metadata": {},
   "outputs": [
    {
     "data": {
      "text/plain": [
       "array([ 85, 256, 307, 342])"
      ]
     },
     "execution_count": 43,
     "metadata": {},
     "output_type": "execute_result"
    }
   ],
   "source": [
    "data._picked_stations"
   ]
  },
  {
   "cell_type": "code",
   "execution_count": 61,
   "metadata": {},
   "outputs": [
    {
     "name": "stdout",
     "output_type": "stream",
     "text": [
      "selected station 342\n",
      "neighbor stations with noise:  []\n",
      "answer:          [78]\n",
      "predicted by new [78] 0\n",
      "predicted by old [78, 91] 1\n"
     ]
    }
   ],
   "source": [
    "i = np.random.choice(data._picked_stations)\n",
    "# i = np.random.choice(range(len(ts_data)))\n",
    "try : \n",
    "    answer = sorted(data.dic_timesteps[i])\n",
    "except :\n",
    "    answer = []\n",
    "    \n",
    "pred_by_new = [int(s.split('_')[1]) for s in validatorNew.validate(i)]\n",
    "pred_by_old = [int(s.split('_')[1]) for s in validatorOld.validate(i)]\n",
    "print(\"selected station\", i)\n",
    "print(\"neighbor stations with noise: \", [s for s in neighbor[i] if s in data._picked_stations])\n",
    "print(\"answer:         \",answer)\n",
    "print(\"predicted by new\",pred_by_new, levenshteinDistance(answer, pred_by_new ))\n",
    "print(\"predicted by old\",pred_by_old, levenshteinDistance(answer, pred_by_old ))"
   ]
  },
  {
   "cell_type": "code",
   "execution_count": 62,
   "metadata": {},
   "outputs": [
    {
     "name": "stdout",
     "output_type": "stream",
     "text": [
      "0.9511847820474656\n",
      "SSE between rawdata 6.949651549542017\n",
      "[78]\n",
      "LevenshteinDistance 0\n"
     ]
    },
    {
     "data": {
      "image/png": "[encoded data removed]",
      "text/plain": [
       "<Figure size 1440x360 with 1 Axes>"
      ]
     },
     "metadata": {
      "needs_background": "light"
     },
     "output_type": "display_data"
    }
   ],
   "source": [
    "_ = evaluate_predictor(regression_predict_w_randomness, ts_data, i, global_search = True, display=True)"
   ]
  },
  {
   "cell_type": "code",
   "execution_count": null,
   "metadata": {
    "scrolled": false
   },
   "outputs": [],
   "source": [
    "score_idx = np.zeros(ts_data.shape[1])\n",
    "for j in range(10) : \n",
    "    score_idx += evaluate_predictor(regression_predict_w_randomness, ts_data, i, global_search = False, display=False)"
   ]
  },
  {
   "cell_type": "code",
   "execution_count": null,
   "metadata": {},
   "outputs": [],
   "source": [
    "np.where(score_idx > 6)[0]"
   ]
  },
  {
   "cell_type": "code",
   "execution_count": null,
   "metadata": {},
   "outputs": [],
   "source": [
    "(-score_idx).argsort()[:3]"
   ]
  },
  {
   "cell_type": "code",
   "execution_count": null,
   "metadata": {},
   "outputs": [],
   "source": [
    "np.where(gap>1)[0]"
   ]
  },
  {
   "cell_type": "code",
   "execution_count": null,
   "metadata": {},
   "outputs": [],
   "source": [
    "import copy"
   ]
  },
  {
   "cell_type": "code",
   "execution_count": null,
   "metadata": {},
   "outputs": [],
   "source": [
    "\n",
    "def regression(X,y) : \n",
    "    reg = LinearRegression().fit(X.T,y)\n",
    "    score = reg.score(X.T,y)\n",
    "    pred = reg.predict(X.T)\n",
    "    print(score)\n",
    "    plt.plot(pred,color=\"red\")\n",
    "    plt.plot(y)\n",
    "    plt.figure()\n",
    "    gap = abs(pred-y)\n",
    "    plt.plot(gap)\n",
    "    return pred\n",
    "\n",
    "\n"
   ]
  },
  {
   "cell_type": "code",
   "execution_count": null,
   "metadata": {},
   "outputs": [],
   "source": [
    "def correct_values(pred, y): \n",
    "    gap = abs(pred - y)\n",
    "    idx_for_correction = np.where(gap > np.mean(gap) + 2 * np.std(gap))[0]\n",
    "    corrected_y = copy.deepcopy(y)\n",
    "    if len(idx_for_correction) < 1 : \n",
    "        print(\"no more correction possible\")\n",
    "        return y\n",
    "    else : \n",
    "        print(\"idx for correction\", idx_for_correction)\n",
    "    for i in idx_for_correction : \n",
    "        corrected_y[i] = pred[i]\n",
    "    return corrected_y"
   ]
  },
  {
   "cell_type": "code",
   "execution_count": null,
   "metadata": {},
   "outputs": [],
   "source": []
  },
  {
   "cell_type": "code",
   "execution_count": null,
   "metadata": {},
   "outputs": [],
   "source": [
    "validatorNew.result\n"
   ]
  },
  {
   "cell_type": "code",
   "execution_count": null,
   "metadata": {},
   "outputs": [],
   "source": [
    "i=78\n",
    "print(i, neighbor[i])\n",
    "for j in neighbor[i] : \n",
    "    if j in data._picked_stations : \n",
    "        print(j, \"is in the noise stations\")\n"
   ]
  },
  {
   "cell_type": "code",
   "execution_count": null,
   "metadata": {},
   "outputs": [],
   "source": [
    "\n",
    "X = ts_data[neighbor[i]]\n",
    "y = ts_data[i]\n",
    "pred = regression(X,y)\n",
    "corrected_y = correct_values(pred, y)\n",
    "ts_data[i] = corrected_y"
   ]
  },
  {
   "cell_type": "code",
   "execution_count": null,
   "metadata": {},
   "outputs": [],
   "source": [
    "data.ts_data = ts_data"
   ]
  },
  {
   "cell_type": "code",
   "execution_count": null,
   "metadata": {
    "scrolled": true
   },
   "outputs": [],
   "source": [
    "pre"
   ]
  },
  {
   "cell_type": "code",
   "execution_count": null,
   "metadata": {},
   "outputs": [],
   "source": [
    "data.lst_station_timestep"
   ]
  },
  {
   "cell_type": "code",
   "execution_count": null,
   "metadata": {},
   "outputs": [],
   "source": [
    "validatorNew.evaluate_validator()"
   ]
  },
  {
   "cell_type": "code",
   "execution_count": null,
   "metadata": {},
   "outputs": [],
   "source": []
  },
  {
   "cell_type": "code",
   "execution_count": null,
   "metadata": {},
   "outputs": [],
   "source": [
    "corrected_ts_data = copy.deepcopy(ts_data)"
   ]
  },
  {
   "cell_type": "code",
   "execution_count": null,
   "metadata": {},
   "outputs": [],
   "source": [
    "corrected_ts_data[i] = corrected_y"
   ]
  },
  {
   "cell_type": "code",
   "execution_count": null,
   "metadata": {},
   "outputs": [],
   "source": [
    "data.ts_data = corrected_ts_data"
   ]
  },
  {
   "cell_type": "code",
   "execution_count": null,
   "metadata": {},
   "outputs": [],
   "source": [
    "validatorNew= Validator(data, ensembleregression)\n"
   ]
  },
  {
   "cell_type": "code",
   "execution_count": null,
   "metadata": {},
   "outputs": [],
   "source": [
    "i"
   ]
  },
  {
   "cell_type": "code",
   "execution_count": null,
   "metadata": {},
   "outputs": [],
   "source": [
    "validatorNew.evaluate_validator()"
   ]
  },
  {
   "cell_type": "code",
   "execution_count": null,
   "metadata": {
    "scrolled": true
   },
   "outputs": [],
   "source": [
    "pred = regression(X,y)\n",
    "corrected_y = correct_values(pred, y)"
   ]
  },
  {
   "cell_type": "code",
   "execution_count": null,
   "metadata": {},
   "outputs": [],
   "source": []
  },
  {
   "cell_type": "code",
   "execution_count": null,
   "metadata": {},
   "outputs": [],
   "source": []
  },
  {
   "cell_type": "code",
   "execution_count": null,
   "metadata": {},
   "outputs": [],
   "source": []
  },
  {
   "cell_type": "code",
   "execution_count": null,
   "metadata": {},
   "outputs": [],
   "source": [
    "y[3] = pred[3]\n",
    "y[9] = pred[9]"
   ]
  },
  {
   "cell_type": "code",
   "execution_count": null,
   "metadata": {},
   "outputs": [],
   "source": [
    "reg = LinearRegression().fit(X.T,y)\n",
    "score = reg.score(X.T,y)\n",
    "pred = reg.predict(X.T)\n",
    "gap = pred - y "
   ]
  },
  {
   "cell_type": "code",
   "execution_count": null,
   "metadata": {},
   "outputs": [],
   "source": [
    "plt.plot(pred)\n",
    "plt.plot(y, color='red')\n",
    "# plt.plot(X.T, color='grey')"
   ]
  },
  {
   "cell_type": "code",
   "execution_count": null,
   "metadata": {},
   "outputs": [],
   "source": [
    "y[3] = pred[3]\n",
    "y[9] = pred[9]"
   ]
  },
  {
   "cell_type": "code",
   "execution_count": null,
   "metadata": {},
   "outputs": [],
   "source": [
    "reg = LinearRegression().fit(X.T,y)\n",
    "score = reg.score(X.T,y)\n",
    "pred = reg.predict(X.T)\n",
    "gap = pred - y "
   ]
  },
  {
   "cell_type": "code",
   "execution_count": null,
   "metadata": {},
   "outputs": [],
   "source": [
    "score"
   ]
  },
  {
   "cell_type": "code",
   "execution_count": null,
   "metadata": {},
   "outputs": [],
   "source": [
    "plt.plot(pred)\n",
    "plt.plot(y, color='red')\n",
    "# plt.plot(X.T, color='grey')"
   ]
  },
  {
   "cell_type": "code",
   "execution_count": null,
   "metadata": {},
   "outputs": [],
   "source": [
    "plt.plot(gap)"
   ]
  },
  {
   "cell_type": "code",
   "execution_count": null,
   "metadata": {},
   "outputs": [],
   "source": [
    "plt.plot(ts_data[i])\n",
    "plt.plot(ts_data[neighbor[i]].T, color='grey')\n"
   ]
  },
  {
   "cell_type": "code",
   "execution_count": null,
   "metadata": {},
   "outputs": [],
   "source": [
    "reg"
   ]
  },
  {
   "cell_type": "code",
   "execution_count": null,
   "metadata": {},
   "outputs": [],
   "source": [
    "ts_data = data.ts_data"
   ]
  },
  {
   "cell_type": "code",
   "execution_count": null,
   "metadata": {},
   "outputs": [],
   "source": [
    "print(resultNew['precision'], resultOld['precision'])\n",
    "print(resultNew['recall'], resultOld['recall'])\n",
    "print(resultNew['f1'], resultOld['f1'])\n"
   ]
  },
  {
   "cell_type": "code",
   "execution_count": null,
   "metadata": {},
   "outputs": [],
   "source": []
  },
  {
   "cell_type": "code",
   "execution_count": null,
   "metadata": {},
   "outputs": [],
   "source": [
    "lst_p_noise_stations = np.arange(0.01, 0.5, 0.02)\n",
    "lst_p_timesteps = np.arange(0.01, 0.5, 0.02)\n",
    "\n",
    "n_stations = 400\n",
    "n_timesteps = 100\n",
    "k = 5\n",
    "p_noise_stations = 0.40\n",
    "p_noise_timesteps = 0.1\n",
    "\n",
    "RESULT = []\n",
    "for p_noise_stations in lst_p_noise_stations : \n",
    "    for p_noise_timesteps in lst_p_timesteps : \n",
    "        data = Tempearture_DWD(n_stations, n_timesteps, k, p_noise_stations=p_noise_stations, p_noise_timesteps= p_noise_timesteps)\n",
    "        validatorNew= Validator(data, ensembleregression)\n",
    "#         validatorOld = Validator(data, spatialcomparision)\n",
    "        resultNew = validatorNew.evaluate_validator()        \n",
    "        result = [n_stations, n_timesteps, k, p_noise_stations, p_noise_timesteps, resultNew['precision'], resultNew['recall'], resultNew['f1']]\n",
    "        print(result)\n",
    "        RESULT.append(result)\n"
   ]
  },
  {
   "cell_type": "code",
   "execution_count": null,
   "metadata": {},
   "outputs": [],
   "source": [
    "\n",
    "resultOld = validatorOld.evaluate_validator()\n",
    "print(\"New\", resultNew['precision'], resultNew['recall'], resultNew['f1'])\n",
    "print(\"Old\", resultOld['precision'], resultOld['recall'], resultOld['f1'])"
   ]
  },
  {
   "cell_type": "code",
   "execution_count": null,
   "metadata": {},
   "outputs": [],
   "source": [
    "import matplotlib.pyplot as plt\n",
    "import numpy as np\n",
    "\n",
    "\n",
    "labels = ['Precision', 'Recall', 'F1']\n",
    "New_validator = [resultNew['precision'], resultNew['recall'], resultNew['f1']]\n",
    "Old_validator = [resultOld['precision'], resultOld['recall'], resultOld['f1']]\n",
    "\n",
    "x = np.arange(len(labels))  # the label locations\n",
    "width = 0.35  # the width of the bars\n",
    "\n",
    "fig, ax = plt.subplots()\n",
    "\n",
    "rects1 = ax.bar(x - width/2, New_validator, width, label='New')\n",
    "rects2 = ax.bar(x + width/2, Old_validator, width, label='Old')\n",
    "\n",
    "# Add some text for labels, title and custom x-axis tick labels, etc.\n",
    "ax.set_ylabel('Scores')\n",
    "ax.set_title('Scores comparision between new and old')\n",
    "ax.set_xticks(x)\n",
    "ax.set_xticklabels(labels)\n",
    "ax.legend()\n",
    "\n",
    "\n",
    "fig.tight_layout()\n",
    "\n",
    "plt.show()"
   ]
  },
  {
   "cell_type": "code",
   "execution_count": null,
   "metadata": {},
   "outputs": [],
   "source": [
    "noise = data.ts_data - data._ts_rawdata\n",
    "plt.figure(figsize=(10,10))\n",
    "plt.imshow(noise)\n",
    "plt.colorbar()\n"
   ]
  },
  {
   "cell_type": "code",
   "execution_count": null,
   "metadata": {},
   "outputs": [],
   "source": [
    "ts_data = data.ts_data "
   ]
  },
  {
   "cell_type": "code",
   "execution_count": null,
   "metadata": {},
   "outputs": [],
   "source": [
    "stations_w_noises = set([int(x.split('_')[0]) for x in data.lst_station_timestep])"
   ]
  },
  {
   "cell_type": "code",
   "execution_count": null,
   "metadata": {},
   "outputs": [],
   "source": [
    "validator1.evaluate_validator()"
   ]
  },
  {
   "cell_type": "code",
   "execution_count": null,
   "metadata": {},
   "outputs": [],
   "source": [
    "validator3.evaluate_validator()"
   ]
  },
  {
   "cell_type": "markdown",
   "metadata": {},
   "source": [
    "# stations with no problems "
   ]
  },
  {
   "cell_type": "code",
   "execution_count": null,
   "metadata": {},
   "outputs": [],
   "source": [
    "\n",
    "# def find_nearest_stations(i, ts_data, neighbor, max_iteration) : \n",
    "def find_nearest_stations(i, ts_data,  max_iteration) : \n",
    "    iteration = 0\n",
    "    max_score = -np.inf\n",
    "    while True  :\n",
    "        candidate = list(range(len(ts_data)))\n",
    "        candidate.remove(i)\n",
    "#         candidate = neighbor[i]\n",
    "        idx = np.random.choice(candidate, size=3)\n",
    "    #     print(idx)\n",
    "        X = ts_data[idx]\n",
    "        y = ts_data[i]\n",
    "        reg = LinearRegression().fit(X.T, y)\n",
    "        score = reg.score(X.T,y)\n",
    "        if score >= max_score :\n",
    "            max_score = score \n",
    "            max_idx = idx\n",
    "        if score >= 0.9 : \n",
    "#             print(i, score, idx,iteration )\n",
    "            return max_score, max_idx\n",
    "\n",
    "        iteration += 1\n",
    "    #     print(idx, score, iteration)\n",
    "        if iteration >= max_iteration : \n",
    "#             print(\"cannot find more than .9, the best so far\")\n",
    "#             plt.plot(y)\n",
    "#             plt.plot(X.T, color='grey')\n",
    "            return max_score, max_idx\n",
    "    "
   ]
  },
  {
   "cell_type": "code",
   "execution_count": null,
   "metadata": {},
   "outputs": [],
   "source": [
    "result = np.zeros(len(data.ts_data))\n",
    "max_iteration = 100\n",
    "for i in range(len(data.ts_data)) : \n",
    "    max_score, _ = find_nearest_stations(i, data.ts_data, max_iteration)\n",
    "    result[i] = max_score"
   ]
  },
  {
   "cell_type": "code",
   "execution_count": null,
   "metadata": {},
   "outputs": [],
   "source": [
    "lst_noise_stations = list(set([int(x.split('_')[0]) for x in data.lst_station_timestep]))"
   ]
  },
  {
   "cell_type": "code",
   "execution_count": null,
   "metadata": {},
   "outputs": [],
   "source": [
    "lst_noise_stations.sort()"
   ]
  },
  {
   "cell_type": "code",
   "execution_count": null,
   "metadata": {},
   "outputs": [],
   "source": [
    "lst_noise_stations"
   ]
  },
  {
   "cell_type": "code",
   "execution_count": null,
   "metadata": {},
   "outputs": [],
   "source": [
    "result[12]"
   ]
  },
  {
   "cell_type": "code",
   "execution_count": null,
   "metadata": {},
   "outputs": [],
   "source": [
    "lst_noise_stations"
   ]
  },
  {
   "cell_type": "code",
   "execution_count": null,
   "metadata": {},
   "outputs": [],
   "source": [
    "lst_suspected_stations"
   ]
  },
  {
   "cell_type": "code",
   "execution_count": null,
   "metadata": {},
   "outputs": [],
   "source": [
    "lst_suspected_stations = np.where(result<0.3)[0].tolist()"
   ]
  },
  {
   "cell_type": "code",
   "execution_count": null,
   "metadata": {},
   "outputs": [],
   "source": [
    "s_stations =0 \n",
    "for s in lst_suspected_stations : \n",
    "    if s in lst_noise_stations : \n",
    "        s_stations += 1\n"
   ]
  },
  {
   "cell_type": "code",
   "execution_count": null,
   "metadata": {},
   "outputs": [],
   "source": [
    "len(lst_suspected_stations)"
   ]
  },
  {
   "cell_type": "code",
   "execution_count": null,
   "metadata": {},
   "outputs": [],
   "source": [
    "s_stations =0 \n",
    "for s in lst_noise_stations : \n",
    "    if s in lst_suspected_stations : \n",
    "        s_stations += 1\n"
   ]
  },
  {
   "cell_type": "code",
   "execution_count": null,
   "metadata": {},
   "outputs": [],
   "source": [
    "len(lst_noise_stations)"
   ]
  },
  {
   "cell_type": "code",
   "execution_count": null,
   "metadata": {},
   "outputs": [],
   "source": [
    "s_stations"
   ]
  },
  {
   "cell_type": "code",
   "execution_count": null,
   "metadata": {},
   "outputs": [],
   "source": []
  },
  {
   "cell_type": "code",
   "execution_count": null,
   "metadata": {},
   "outputs": [],
   "source": [
    "max_iteration = 100\n"
   ]
  },
  {
   "cell_type": "code",
   "execution_count": null,
   "metadata": {},
   "outputs": [],
   "source": [
    "while True : \n",
    "    i = random.choice(range(len(ts_data)))\n",
    "    if i not in stations_w_noises : \n",
    "        break\n",
    "print(i)\n"
   ]
  },
  {
   "cell_type": "code",
   "execution_count": null,
   "metadata": {},
   "outputs": [],
   "source": [
    "data.lst_station_timestep"
   ]
  },
  {
   "cell_type": "code",
   "execution_count": null,
   "metadata": {},
   "outputs": [],
   "source": [
    "s = 0\n",
    "for i in range(len(ts_data)) : \n",
    "    max_score, max_idx = find_nearest_stations(i, ts_data, neighbor, max_iteration)\n",
    "    if max_score <0.5 : \n",
    "        s += 1\n",
    "        print(i)\n",
    "print(s, len(ts_data), s/len(ts_data)*100)\n",
    "    "
   ]
  },
  {
   "cell_type": "code",
   "execution_count": null,
   "metadata": {},
   "outputs": [],
   "source": [
    "s = 0\n",
    "for i in range(len(ts_data)) : \n",
    "    max_score, max_idx = find_nearest_stations(i, data._ts_rawdata, neighbor, max_iteration)\n",
    "    if max_score <=0.5 : \n",
    "        s += 1\n",
    "        print(i)\n",
    "print(s, len(ts_data), s/len(ts_data)*100)\n",
    "    "
   ]
  },
  {
   "cell_type": "code",
   "execution_count": null,
   "metadata": {},
   "outputs": [],
   "source": []
  },
  {
   "cell_type": "code",
   "execution_count": null,
   "metadata": {},
   "outputs": [],
   "source": []
  },
  {
   "cell_type": "code",
   "execution_count": null,
   "metadata": {},
   "outputs": [],
   "source": []
  },
  {
   "cell_type": "code",
   "execution_count": null,
   "metadata": {},
   "outputs": [],
   "source": [
    "plt.plot(y)\n",
    "plt.plot(X.T, color='grey')\n",
    "plt.plot(reg.predict(X.T), color='red')\n",
    "plt.legend(['actual','neighbor','predict'])"
   ]
  },
  {
   "cell_type": "code",
   "execution_count": null,
   "metadata": {},
   "outputs": [],
   "source": [
    "gap = reg.predict(X.T) - y"
   ]
  },
  {
   "cell_type": "code",
   "execution_count": null,
   "metadata": {},
   "outputs": [],
   "source": [
    "np.mean(gap), np.std(gap)"
   ]
  },
  {
   "cell_type": "code",
   "execution_count": null,
   "metadata": {},
   "outputs": [],
   "source": [
    "\n",
    "plt.plot(gap)"
   ]
  },
  {
   "cell_type": "code",
   "execution_count": null,
   "metadata": {},
   "outputs": [],
   "source": [
    "neighbor = data._neighbor"
   ]
  },
  {
   "cell_type": "code",
   "execution_count": null,
   "metadata": {},
   "outputs": [],
   "source": []
  },
  {
   "cell_type": "code",
   "execution_count": null,
   "metadata": {},
   "outputs": [],
   "source": [
    "\n",
    "validator1.validate(i)"
   ]
  },
  {
   "cell_type": "code",
   "execution_count": null,
   "metadata": {},
   "outputs": [],
   "source": [
    "plt.plot(ts_data[i])\n",
    "plt.plot(ts_data[neighbor[i]].T, color='grey')"
   ]
  },
  {
   "cell_type": "code",
   "execution_count": null,
   "metadata": {},
   "outputs": [],
   "source": [
    "data = data._ts_rawdata\n"
   ]
  },
  {
   "cell_type": "code",
   "execution_count": null,
   "metadata": {},
   "outputs": [],
   "source": []
  },
  {
   "cell_type": "code",
   "execution_count": null,
   "metadata": {},
   "outputs": [],
   "source": [
    "plt.plot(ts_data[i])\n",
    "plt.plot(ts_data[idx].T, color='grey')"
   ]
  },
  {
   "cell_type": "code",
   "execution_count": null,
   "metadata": {},
   "outputs": [],
   "source": [
    "\n",
    "gap = reg.predict(X.T) - y \n",
    "mean = np.mean(gap)\n",
    "sd = np.std(gap)\n",
    "print(mean, sd)\n",
    "# plt.plot(gap)\n",
    "\n",
    "plt.plot(mean + 2* sd <= gap, color='red')\n",
    "plt.plot(gap<= mean - 2* sd, color='red')\n"
   ]
  },
  {
   "cell_type": "code",
   "execution_count": null,
   "metadata": {},
   "outputs": [],
   "source": [
    "max_score = -np.inf\n",
    "width = 50\n",
    "target_data = ts_data[i]\n",
    "\n",
    "for j in range(10000) : \n",
    "    idx_samples = np.random.choice(range(50), size = 5)\n",
    "    idx_stations = np.random.choice(range(n_stations), size=3)\n",
    "    y = target_data[idx_samples]\n",
    "    X = ts_data[idx_stations][:,idx_samples]\n",
    "\n",
    "    reg =  LinearRegression().fit(X.T, y)\n",
    "    score = reg.score(X.T,y)\n",
    "    if score >= max_score : \n",
    "        max_idx = [idx_stations, idx_samples]    \n",
    "\n",
    "print(i, score, max_idx)"
   ]
  },
  {
   "cell_type": "code",
   "execution_count": null,
   "metadata": {},
   "outputs": [],
   "source": [
    "max_score = -np.inf\n",
    "width = 50\n",
    "target_data = ts_data[i]\n",
    "N = 1000\n",
    "\n",
    "result = np.zeros((N, ts_data.shape[1])) \n",
    "\n",
    "for j in range(N) : \n",
    "    idx_samples = np.random.choice(range(50), size = 10)\n",
    "    idx_stations = np.random.choice(range(n_stations), size=3)\n",
    "    y = target_data\n",
    "    X = ts_data[idx_stations]\n",
    "\n",
    "    reg =  LinearRegression().fit(X[:,idx_samples].T, y[idx_samples])\n",
    "    result[j] = reg.predict(X.T) \n"
   ]
  },
  {
   "cell_type": "code",
   "execution_count": null,
   "metadata": {},
   "outputs": [],
   "source": [
    "# plt.plot(np.mean(result, axis=0), color='grey')\n",
    "# plt.plot(y, color='red')\n",
    "gap = abs(np.mean(result, axis=0) - y)\n",
    "plt.plot(gap)"
   ]
  },
  {
   "cell_type": "code",
   "execution_count": null,
   "metadata": {},
   "outputs": [],
   "source": []
  },
  {
   "cell_type": "code",
   "execution_count": null,
   "metadata": {},
   "outputs": [],
   "source": [
    "[int(x.split('_')[1]) for x in data.lst_station_timestep if x.startswith(str(i))]"
   ]
  },
  {
   "cell_type": "code",
   "execution_count": null,
   "metadata": {},
   "outputs": [],
   "source": [
    "gap_matrix = ts_data - data._ts_rawdata"
   ]
  },
  {
   "cell_type": "code",
   "execution_count": null,
   "metadata": {},
   "outputs": [],
   "source": [
    "validator2.evaluate_validator()"
   ]
  },
  {
   "cell_type": "code",
   "execution_count": null,
   "metadata": {},
   "outputs": [],
   "source": [
    "[x for x in data.lst_station_timestep if x.startswith(str(i) + '_')]"
   ]
  },
  {
   "cell_type": "code",
   "execution_count": null,
   "metadata": {},
   "outputs": [],
   "source": [
    "plt.plot(y)\n",
    "plt.plot(X.T, color='grey')\n",
    "plt.plot(reg.predict(X.T), color='red')\n",
    "# plt.plot(reg.predict(ts_data[idx_stations].T), color='red')"
   ]
  },
  {
   "cell_type": "code",
   "execution_count": null,
   "metadata": {},
   "outputs": [],
   "source": [
    "gap_matrix[i,36]"
   ]
  },
  {
   "cell_type": "code",
   "execution_count": null,
   "metadata": {},
   "outputs": [],
   "source": []
  },
  {
   "cell_type": "code",
   "execution_count": null,
   "metadata": {},
   "outputs": [],
   "source": [
    "validator1.validate(i)\n"
   ]
  },
  {
   "cell_type": "code",
   "execution_count": null,
   "metadata": {},
   "outputs": [],
   "source": [
    "gap = reg.predict(ts_data[idx_stations].T) - target_data\n",
    "gap_mean = np.mean(gap)\n",
    "gap_std = np.std(gap)\n",
    "plt.plot(reg.predict(ts_data[idx_stations].T) - target_data)\n",
    "plt.figure()\n",
    "lst_candidate_noises = np.append((np.where(gap_mean + gap_std <= gap)[0]), np.where(gap_mean - gap_std >= gap)[0])\n",
    "lst_candidate_noises.sort()\n",
    "print(lst_candidate_noises)"
   ]
  },
  {
   "cell_type": "code",
   "execution_count": null,
   "metadata": {},
   "outputs": [],
   "source": []
  },
  {
   "cell_type": "code",
   "execution_count": null,
   "metadata": {},
   "outputs": [],
   "source": [
    "len(ts_data[281])"
   ]
  },
  {
   "cell_type": "code",
   "execution_count": null,
   "metadata": {},
   "outputs": [],
   "source": [
    "plt.plot(ts_data[i])\n",
    "plt.plot(ts_data[idx].T, color='grey')"
   ]
  },
  {
   "cell_type": "code",
   "execution_count": null,
   "metadata": {},
   "outputs": [],
   "source": [
    "data.lst_station_timestep"
   ]
  },
  {
   "cell_type": "code",
   "execution_count": null,
   "metadata": {},
   "outputs": [],
   "source": [
    "validator1.evaluate_validator()"
   ]
  },
  {
   "cell_type": "code",
   "execution_count": null,
   "metadata": {},
   "outputs": [],
   "source": [
    "validator2.evaluate_validator()"
   ]
  },
  {
   "cell_type": "code",
   "execution_count": null,
   "metadata": {},
   "outputs": [],
   "source": [
    "validator3.evaluate_validator()"
   ]
  },
  {
   "cell_type": "code",
   "execution_count": null,
   "metadata": {},
   "outputs": [],
   "source": [
    "i = np.random.choice(list(set([int(i.split('_')[0]) for i in data.lst_station_timestep])))\n",
    "plt.figure(figsize=(20,5))\n",
    "plt.plot(data.ts_data[data._neighbor[i]].T, color='grey')\n",
    "plt.plot(data.ts_data[i], color='red')\n",
    "plt.title(i)\n",
    "print([x for x in data.lst_station_timestep if x.startswith(str(i) + '_')])\n",
    "print(validator1.validate(i))\n",
    "print(validator2.validate(i))\n",
    "print(validator3.validate(i))"
   ]
  },
  {
   "cell_type": "code",
   "execution_count": null,
   "metadata": {},
   "outputs": [],
   "source": [
    "df_corr = pd.DataFrame(data.ts_data.T).corr()"
   ]
  },
  {
   "cell_type": "code",
   "execution_count": null,
   "metadata": {},
   "outputs": [],
   "source": [
    "idx_df_corr = df_corr.values.argsort()"
   ]
  },
  {
   "cell_type": "code",
   "execution_count": null,
   "metadata": {},
   "outputs": [],
   "source": [
    "data.lst_station_timestep"
   ]
  },
  {
   "cell_type": "code",
   "execution_count": null,
   "metadata": {},
   "outputs": [],
   "source": [
    "i=297\n",
    "df_corr.loc[i,idx_df_corr[i]]"
   ]
  },
  {
   "cell_type": "code",
   "execution_count": null,
   "metadata": {},
   "outputs": [],
   "source": [
    "plt.plot(data.ts_data[297], color='red')\n",
    "plt.plot(data.ts_data[[322,259,309, 181, 8, 220]].T, color='grey')"
   ]
  },
  {
   "cell_type": "code",
   "execution_count": null,
   "metadata": {},
   "outputs": [],
   "source": [
    "gap = data.ts_data - data._ts_rawdata"
   ]
  },
  {
   "cell_type": "code",
   "execution_count": null,
   "metadata": {},
   "outputs": [],
   "source": [
    "plt.plot(gap[297])"
   ]
  },
  {
   "cell_type": "code",
   "execution_count": null,
   "metadata": {},
   "outputs": [],
   "source": [
    "# X = data.ts_data[[322,259,309]]\n",
    "X = data.ts_data[[322,259,309, 181, 181, 8, 220]] \n",
    "y = data.ts_data[297]\n",
    "reg = LinearRegression().fit(X.T, y)\n",
    "print(reg.score(X.T,y))\n",
    "predict = reg.predict(X.T)\n",
    "plt.plot(predict , color='grey')\n",
    "plt.plot(y, color='red')\n",
    "plt.figure()\n",
    "plt.plot((predict - y)>2 )"
   ]
  },
  {
   "cell_type": "code",
   "execution_count": null,
   "metadata": {},
   "outputs": [],
   "source": [
    "plt.plot(data.ts_data[297])\n",
    "plt.plot(data.ts_data[[8,220]].T, color='grey')"
   ]
  },
  {
   "cell_type": "code",
   "execution_count": null,
   "metadata": {},
   "outputs": [],
   "source": [
    "X = data.ts_data[[293,23]]\n",
    "y = data.ts_data[0]\n",
    "reg = LinearRegression().fit(X.T, y)\n",
    "print(\"R^2:\", reg.score(X.T, y))\n",
    "print(\"SquaredSum:\", sum((reg.predict(X.T) - y)**2))"
   ]
  },
  {
   "cell_type": "code",
   "execution_count": null,
   "metadata": {},
   "outputs": [],
   "source": [
    "X = data.ts_data[[313,147]]\n",
    "y = data.ts_data[0]\n",
    "reg = LinearRegression().fit(X.T, y)\n",
    "print(\"R^2:\", reg.score(X.T, y))\n",
    "print(\"SquaredSum:\", sum((reg.predict(X.T) - y)**2))"
   ]
  },
  {
   "cell_type": "code",
   "execution_count": null,
   "metadata": {},
   "outputs": [],
   "source": [
    "IDX.shape"
   ]
  },
  {
   "cell_type": "code",
   "execution_count": null,
   "metadata": {},
   "outputs": [],
   "source": [
    "df_corr.loc[74, IDX[]]"
   ]
  },
  {
   "cell_type": "code",
   "execution_count": null,
   "metadata": {},
   "outputs": [],
   "source": [
    "data.lst_station_timestep"
   ]
  },
  {
   "cell_type": "code",
   "execution_count": null,
   "metadata": {},
   "outputs": [],
   "source": []
  },
  {
   "cell_type": "code",
   "execution_count": null,
   "metadata": {},
   "outputs": [],
   "source": [
    "validator1.spatial_reference(data._metadata[0], data._metadata[313])['distance']/1000"
   ]
  },
  {
   "cell_type": "code",
   "execution_count": null,
   "metadata": {},
   "outputs": [],
   "source": [
    "reg.score(X.T, y)\n",
    "sum((reg.predict(X.T) - y)**2)"
   ]
  },
  {
   "cell_type": "code",
   "execution_count": null,
   "metadata": {},
   "outputs": [],
   "source": [
    "plt.plot(data.ts_data[0])\n",
    "plt.plot(data.ts_data[[293,23]].T)"
   ]
  },
  {
   "cell_type": "code",
   "execution_count": null,
   "metadata": {},
   "outputs": [],
   "source": [
    "IDX = abs(pd.DataFrame(data.ts_data.T).corr().values).argsort()[-10:]"
   ]
  },
  {
   "cell_type": "code",
   "execution_count": null,
   "metadata": {},
   "outputs": [],
   "source": [
    "data.ts_data[IDX[0]]"
   ]
  },
  {
   "cell_type": "code",
   "execution_count": null,
   "metadata": {},
   "outputs": [],
   "source": []
  },
  {
   "cell_type": "code",
   "execution_count": null,
   "metadata": {},
   "outputs": [],
   "source": []
  },
  {
   "cell_type": "code",
   "execution_count": null,
   "metadata": {
    "scrolled": true
   },
   "outputs": [],
   "source": [
    "plt.plot(np.dot(PRED.T, SCORE) - ts_data[i])"
   ]
  },
  {
   "cell_type": "code",
   "execution_count": null,
   "metadata": {},
   "outputs": [],
   "source": [
    "SCORE[7]"
   ]
  },
  {
   "cell_type": "code",
   "execution_count": null,
   "metadata": {},
   "outputs": [],
   "source": [
    "idx_variables"
   ]
  },
  {
   "cell_type": "code",
   "execution_count": null,
   "metadata": {},
   "outputs": [],
   "source": [
    "ts_data[neighbor[i]][idx_variables]"
   ]
  },
  {
   "cell_type": "code",
   "execution_count": null,
   "metadata": {},
   "outputs": [],
   "source": [
    "plt.plot(ts_data[0])\n",
    "plt.plot(ts_data[neighbor[0]].T, color='grey')"
   ]
  },
  {
   "cell_type": "code",
   "execution_count": null,
   "metadata": {},
   "outputs": [],
   "source": [
    "data = data.ts_data\n",
    "neighbor = data._neighbor"
   ]
  },
  {
   "cell_type": "code",
   "execution_count": null,
   "metadata": {},
   "outputs": [],
   "source": [
    "plt.figure(figsize=(20,5))\n",
    "plt.plot(data[0], color='red')\n",
    "plt.plot(data[neighbor[0]].T, color='grey')"
   ]
  },
  {
   "cell_type": "code",
   "execution_count": null,
   "metadata": {},
   "outputs": [],
   "source": [
    "data[0]"
   ]
  },
  {
   "cell_type": "code",
   "execution_count": null,
   "metadata": {},
   "outputs": [],
   "source": []
  },
  {
   "cell_type": "code",
   "execution_count": null,
   "metadata": {},
   "outputs": [],
   "source": []
  },
  {
   "cell_type": "code",
   "execution_count": null,
   "metadata": {},
   "outputs": [],
   "source": []
  },
  {
   "cell_type": "code",
   "execution_count": null,
   "metadata": {},
   "outputs": [],
   "source": []
  },
  {
   "cell_type": "code",
   "execution_count": null,
   "metadata": {},
   "outputs": [],
   "source": []
  },
  {
   "cell_type": "code",
   "execution_count": null,
   "metadata": {},
   "outputs": [],
   "source": [
    "pd.concat([pd.DataFrame(data[0]), pd.DataFrame(data[neighbor[0]]).T], axis=1).corr()"
   ]
  },
  {
   "cell_type": "code",
   "execution_count": null,
   "metadata": {},
   "outputs": [],
   "source": [
    "data._lst"
   ]
  },
  {
   "cell_type": "code",
   "execution_count": null,
   "metadata": {},
   "outputs": [],
   "source": [
    "import random\n",
    "idx = random.choices(neighbor[0], k=3)\n",
    "X = data[idx]\n",
    "y = data[0]"
   ]
  },
  {
   "cell_type": "code",
   "execution_count": null,
   "metadata": {},
   "outputs": [],
   "source": [
    "\n",
    "reg = LinearRegression().fit(X.T, y)"
   ]
  },
  {
   "cell_type": "code",
   "execution_count": null,
   "metadata": {},
   "outputs": [],
   "source": [
    "reg.score(X.T, y)"
   ]
  },
  {
   "cell_type": "code",
   "execution_count": null,
   "metadata": {},
   "outputs": [],
   "source": [
    "plt.plot(reg.predict(X.T))\n",
    "plt.plot(y)\n",
    "# plt.plot(reg.predict(X.T) - y)"
   ]
  },
  {
   "cell_type": "code",
   "execution_count": null,
   "metadata": {},
   "outputs": [],
   "source": [
    "pd.DataFrame(data[neighbor[0]]).corr()"
   ]
  },
  {
   "cell_type": "code",
   "execution_count": null,
   "metadata": {},
   "outputs": [],
   "source": [
    "data.tsneighbor[0]"
   ]
  },
  {
   "cell_type": "code",
   "execution_count": null,
   "metadata": {},
   "outputs": [],
   "source": [
    "import time\n",
    "RESULT = [] \n",
    "for n_timesteps in range(1000, 10000, 1000) : \n",
    "    print(n_stations, n_timesteps)\n",
    "    ensembleregression = EnsembleRegression(n_regressors=5,n_variables=3,eps=4, decision_boundary=0.7)    \n",
    "    data = Tempearture_DWD(n_stations, n_timesteps, k, p_noise=0.01)\n",
    "    # data = RandomData(20,20,5, p_noise = 0.01)\n",
    "    validator1 = Validator(data,ensembleregression)\n",
    "    validator2 = Validator(data,spatialcomparision)\n",
    "    start = time.time()\n",
    "    validator1.evaluate_validator()\n",
    "    end = time.time() - start\n",
    "    \n",
    "    print(end)\n",
    "    RESULT.append(end)"
   ]
  },
  {
   "cell_type": "code",
   "execution_count": null,
   "metadata": {},
   "outputs": [],
   "source": [
    "import time\n",
    "RESULT2 = [] \n",
    "for n_timesteps in range(1000, 10000, 1000) : \n",
    "    ensembleregression = EnsembleRegression(n_regressors=5,n_variables=3,eps=4, decision_boundary=0.7)\n",
    "    spatialcomparision = SpatialComparision()\n",
    "    data = Tempearture_DWD(n_stations, n_timesteps, k, p_noise=0.1)\n",
    "    # data = RandomData(20,20,5, p_noise = 0.01)\n",
    "    validator1 = Validator(data,ensembleregression)\n",
    "    validator2 = Validator(data,spatialcomparision)\n",
    "    start = time.time()\n",
    "    validator1.evaluate_validator()\n",
    "    RESULT2.append(time.time() - start)"
   ]
  },
  {
   "cell_type": "code",
   "execution_count": null,
   "metadata": {},
   "outputs": [],
   "source": [
    "plt.figure(figsize=(20,10))\n",
    "plt.plot(RESULT)\n",
    "plt.plot(RESULT2)\n",
    "plt.legend(['new','old'])"
   ]
  },
  {
   "cell_type": "code",
   "execution_count": null,
   "metadata": {},
   "outputs": [],
   "source": [
    "plt.figure(figsize=(5,5))\n",
    "plt.imshow(data.ts_data)"
   ]
  },
  {
   "cell_type": "code",
   "execution_count": null,
   "metadata": {},
   "outputs": [],
   "source": []
  },
  {
   "cell_type": "code",
   "execution_count": null,
   "metadata": {},
   "outputs": [],
   "source": [
    "validator1.evaluate_validator()"
   ]
  },
  {
   "cell_type": "code",
   "execution_count": null,
   "metadata": {},
   "outputs": [],
   "source": [
    "validator2.evaluate_validator()"
   ]
  },
  {
   "cell_type": "code",
   "execution_count": null,
   "metadata": {},
   "outputs": [],
   "source": [
    "%%timeit\n",
    "validator1.evaluate_validator()"
   ]
  },
  {
   "cell_type": "code",
   "execution_count": null,
   "metadata": {},
   "outputs": [],
   "source": [
    "%%timeit\n",
    "validator1.evaluate_validator()"
   ]
  },
  {
   "cell_type": "code",
   "execution_count": null,
   "metadata": {},
   "outputs": [],
   "source": [
    "%%timeit\n",
    "validator1.evaluate_validator()"
   ]
  },
  {
   "cell_type": "code",
   "execution_count": null,
   "metadata": {},
   "outputs": [],
   "source": [
    "%%timeit\n",
    "validator2.evaluate_validator()"
   ]
  },
  {
   "cell_type": "code",
   "execution_count": null,
   "metadata": {},
   "outputs": [],
   "source": [
    "%%timeit\n",
    "validator2.evaluate_validator()"
   ]
  },
  {
   "cell_type": "code",
   "execution_count": null,
   "metadata": {},
   "outputs": [],
   "source": [
    "%%timeit\n",
    "validator2.evaluate_validator()"
   ]
  },
  {
   "cell_type": "code",
   "execution_count": null,
   "metadata": {
    "scrolled": false
   },
   "outputs": [],
   "source": [
    "s = int(random.choice(data.lst_station_timestep).split('_')[0])\n",
    "\n",
    "plt.figure(figsize=(20,5))\n",
    "plt.plot(data.ts_data[s], color='red')\n",
    "plt.plot(data.ts_data[data._neighbor[s]].T, color='grey')\n",
    "plt.title(s)\n",
    "print(\"answer\", [x for x in data.lst_station_timestep if x.startswith(str(s) + '_')])\n",
    "print(\"new_idea\", validator1.validate(s))\n",
    "print(\"exsiting_idea\", validator2.validate(s))"
   ]
  },
  {
   "cell_type": "code",
   "execution_count": null,
   "metadata": {},
   "outputs": [],
   "source": [
    "\n",
    "plt.scatter(data._metadata[:,1], data._metadata[:,2], color='grey')\n",
    "plt.scatter(data._metadata[s,1], data._metadata[s,2], color='red')\n",
    "plt.scatter(data._metadata[data._neighbor[s]][:,1], data._metadata[data._neighbor[s]][:,2], color='blue')"
   ]
  },
  {
   "cell_type": "code",
   "execution_count": null,
   "metadata": {},
   "outputs": [],
   "source": [
    "for d in data._metadata[data._neighbor[s]] : \n",
    "    \n",
    "    print(validator1.spatial_reference(data._metadata[s], d)['distance'])"
   ]
  },
  {
   "cell_type": "code",
   "execution_count": null,
   "metadata": {},
   "outputs": [],
   "source": [
    "d = data._metadata[:,1:]"
   ]
  },
  {
   "cell_type": "code",
   "execution_count": null,
   "metadata": {},
   "outputs": [],
   "source": [
    "distance_matrix(d,d)[0]"
   ]
  },
  {
   "cell_type": "code",
   "execution_count": null,
   "metadata": {},
   "outputs": [],
   "source": [
    "distance_matrix(d,d)[0][distance_matrix(d,d)[0].argsort()]"
   ]
  },
  {
   "cell_type": "code",
   "execution_count": null,
   "metadata": {},
   "outputs": [],
   "source": [
    "data._metadata[data._neighbor[s]]"
   ]
  },
  {
   "cell_type": "code",
   "execution_count": null,
   "metadata": {},
   "outputs": [],
   "source": []
  },
  {
   "cell_type": "code",
   "execution_count": null,
   "metadata": {},
   "outputs": [],
   "source": [
    "df = pickle.load(open('data_dvd_reduced.p','rb'))\n",
    "df_metadata = pickle.load(open('metadata.p', 'rb'))\n",
    "metadata = df_metadata.values[:400]\n",
    "neighbor = create_neighor_list(metadata[:,1:], k=5)\n",
    "ts_rawdata = df.values[:400]\n",
    "ts_preprocessed_data = preprocess_data(ts_rawdata)[:,5000:7000]"
   ]
  },
  {
   "cell_type": "code",
   "execution_count": null,
   "metadata": {},
   "outputs": [],
   "source": [
    "ts_data, ANSWER, lst_noises = add_noise(ts_preprocessed_data, 0.10, 3, 10)\n"
   ]
  },
  {
   "cell_type": "code",
   "execution_count": null,
   "metadata": {},
   "outputs": [],
   "source": [
    "plt.figure(figsize=(10,10))\n",
    "plt.imshow(ts_data)"
   ]
  },
  {
   "cell_type": "code",
   "execution_count": null,
   "metadata": {},
   "outputs": [],
   "source": [
    "eps=4\n",
    "n_regressors = 5\n",
    "n_variables = 3\n"
   ]
  },
  {
   "cell_type": "code",
   "execution_count": null,
   "metadata": {},
   "outputs": [],
   "source": [
    "RESULT = []\n",
    "for i in range(100) : \n",
    "    result = evaluator(ts_data, ANSWER, neighbor, classifier = regression_based_outlier_detection, n_regressors=n_regressors, n_variables=n_variables, eps=eps)['f1']\n",
    "    RESULT.append(result)\n",
    "print(np.mean(RESULT))\n"
   ]
  },
  {
   "cell_type": "code",
   "execution_count": null,
   "metadata": {},
   "outputs": [],
   "source": [
    "RESULT = []\n",
    "for i in range(100) : \n",
    "    result = evaluator(ts_data, ANSWER, neighbor, classifier = regression_based_outlier_detection2, n_regressors=n_regressors, n_variables=n_variables, eps=eps)['f1']\n",
    "    RESULT.append(result)\n",
    "print(np.mean(RESULT))\n"
   ]
  },
  {
   "cell_type": "code",
   "execution_count": null,
   "metadata": {},
   "outputs": [],
   "source": [
    "RESULT = []\n",
    "for i in range(100) : \n",
    "    result = evaluator(ts_data, ANSWER, neighbor, classifier = regression_based_outlier_detection3, n_regressors=n_regressors, n_variables=n_variables, eps=eps)['f1']\n",
    "    RESULT.append(result)\n",
    "print(np.mean(RESULT))\n"
   ]
  },
  {
   "cell_type": "code",
   "execution_count": null,
   "metadata": {},
   "outputs": [],
   "source": [
    "%%timeit\n",
    "evaluator(ts_data, ANSWER, neighbor, classifier = spatialcomparision, n_regressors=n_regressors, n_variables=n_variables, eps=eps)['f1']"
   ]
  },
  {
   "cell_type": "code",
   "execution_count": null,
   "metadata": {},
   "outputs": [],
   "source": [
    "%%timeit\n",
    "evaluator(ts_data, ANSWER, neighbor, classifier = regression_based_outlier_detection, n_regressors=n_regressors, n_variables=n_variables, eps=eps)['f1']"
   ]
  },
  {
   "cell_type": "code",
   "execution_count": null,
   "metadata": {},
   "outputs": [],
   "source": [
    "%%timeit\n",
    "evaluator(ts_data, ANSWER, neighbor, classifier = regression_based_outlier_detection2, n_regressors=n_regressors, n_variables=n_variables, eps=eps)['f1']"
   ]
  },
  {
   "cell_type": "code",
   "execution_count": null,
   "metadata": {},
   "outputs": [],
   "source": [
    "%%timeit\n",
    "evaluator(ts_data, ANSWER, neighbor, classifier = regression_based_outlier_detection3, n_regressors=n_regressors, n_variables=n_variables, eps=eps)['f1']"
   ]
  },
  {
   "cell_type": "code",
   "execution_count": null,
   "metadata": {},
   "outputs": [],
   "source": [
    "STAT = evaluator(ts_data, ANSWER, neighbor, classifier = spatialcomparision)\n",
    "STAT"
   ]
  },
  {
   "cell_type": "code",
   "execution_count": null,
   "metadata": {},
   "outputs": [],
   "source": [
    "s = random.choice(list(set([k[0] for k,v in lst_noises.items()])))\n",
    "\n",
    "plt.figure(figsize=(20,5))\n",
    "plt.plot(ts_data[s], color='red')\n",
    "plt.plot(ts_data[neighbor[s]].T , color='grey')\n",
    "plt.title(s)\n",
    "\n",
    "d = [(k,v) for k,v in sorted(lst_noises.items(), reverse=False, key=lambda x : x[0][0]) if k[0] == s]\n",
    "print([(k,v) for k,v in sorted(d, reverse=False, key=lambda x : x[0][1])])\n",
    "result1 = regression_based_outlier_detection(ts_data, neighbor, s, n_regressors, n_variables, eps=eps)\n",
    "result2 = regression_based_outlier_detection2(ts_data, neighbor, s, n_regressors, n_variables, eps=eps)\n",
    "result3 = regression_based_outlier_detection2(ts_data, neighbor, s, n_regressors, n_variables, eps=eps)\n",
    "result4 = spatialcomparision(ts_data, neighbor, s)\n",
    "\n",
    "print(\"classified by new idea\", result1)\n",
    "# print(\"classified by new idea2\", result2)\n",
    "# print(\"classified by new idea3\", result3)\n",
    "print(\"classified by old idea\", result4)"
   ]
  },
  {
   "cell_type": "code",
   "execution_count": null,
   "metadata": {
    "scrolled": true
   },
   "outputs": [],
   "source": [
    "%%timeit\n",
    "spatialcomparision(ts_data, neighbor, station=s)"
   ]
  },
  {
   "cell_type": "code",
   "execution_count": null,
   "metadata": {},
   "outputs": [],
   "source": [
    "%%timeit\n",
    "regression_based_outlier_detection(ts_data, neighbor, s, n_regressors=n_regressors, n_variables=n_variables, eps=3)\n"
   ]
  },
  {
   "cell_type": "code",
   "execution_count": null,
   "metadata": {},
   "outputs": [],
   "source": [
    "\n",
    "n_regressors = 7\n",
    "result = np.empty(len(ts_data[s]))\n",
    "for i in range(n_regressors) : \n",
    "    idx = random.choices(neighbor[s],k=2)\n",
    "    X = ts_data[idx]\n",
    "    y = ts_data[s]\n",
    "    reg = LinearRegression().fit(X.T, y)\n",
    "    predict = reg.intercept_ + np.dot(X.T, reg.coef_)\n",
    "    result += predict    \n",
    "    print(idx, reg.score(X.T, y))\n",
    "result = result / n_regressors\n"
   ]
  },
  {
   "cell_type": "code",
   "execution_count": null,
   "metadata": {
    "scrolled": false
   },
   "outputs": [],
   "source": [
    "fig, (ax1, ax2, ax3) = plt.subplots(1,3,figsize=(30,10))\n",
    "ax1 = plt.subplot(131)\n",
    "ax2 = plt.subplot(132)\n",
    "ax3 = plt.subplot(133)\n",
    "\n",
    "ax1.plot(ts_data[s], color='red')\n",
    "ax1.plot(ts_data[neighbor[s]].T, color='grey')\n",
    "\n",
    "ax2.plot(y, color='red')\n",
    "ax2.plot(result, color='grey')\n",
    "\n",
    "\n",
    "# ylim = [-1000,40]\n",
    "# ax1.set_ylim(ylim)\n",
    "# ax2.set_ylim(ylim)\n",
    "\n",
    "diff = predict-y\n",
    "\n",
    "ax3.plot(diff, color='red')\n"
   ]
  },
  {
   "cell_type": "code",
   "execution_count": null,
   "metadata": {},
   "outputs": [],
   "source": [
    "def regression_based_outlier_detection2(ts_data, neighbor, station, n_regressors, n_variables, eps) :\n",
    "    result = np.array([], dtype='int')\n",
    "    coeffs = np.zeros((n_regressors, n_variables + 1))\n",
    "    score = np.zeros(n_regressors)\n",
    "    predict = np.zeros((n_regressors, ts_data.shape[1]))\n",
    "    for i in range(n_regressors) : \n",
    "        idx = random.choices(neighbor[station],k=n_variables)\n",
    "        y = ts_data[station] \n",
    "        X = ts_data[idx]\n",
    "        reg = LinearRegression().fit(X.T, y)\n",
    "        score[i] = reg.score(X.T, y)\n",
    "        predict[i] = reg.intercept_ + np.dot(X.T, reg.coef_)\n",
    "        \n",
    "    \n",
    "    print(score)\n",
    "    idx = (-score).argsort()[:-1]\n",
    "    score = score / score.sum()    \n",
    "    return np.dot(predict[idx].T, score[idx])\n",
    "    \n",
    "    \n",
    "    \n",
    "    \n",
    "    "
   ]
  },
  {
   "cell_type": "code",
   "execution_count": null,
   "metadata": {},
   "outputs": [],
   "source": [
    "regression_based_outlier_detection2(ts_data, neighbor, s, n_regressors=10, n_variables=3, eps=2)\n"
   ]
  },
  {
   "cell_type": "code",
   "execution_count": null,
   "metadata": {},
   "outputs": [],
   "source": [
    "predict"
   ]
  },
  {
   "cell_type": "code",
   "execution_count": null,
   "metadata": {},
   "outputs": [],
   "source": [
    "score.sum()"
   ]
  },
  {
   "cell_type": "code",
   "execution_count": null,
   "metadata": {},
   "outputs": [],
   "source": [
    "np.dot(predict.T, score)"
   ]
  },
  {
   "cell_type": "markdown",
   "metadata": {},
   "source": [
    "# random test"
   ]
  },
  {
   "cell_type": "code",
   "execution_count": null,
   "metadata": {},
   "outputs": [],
   "source": [
    "n_variables = 3\n",
    "idx = random.choices(neighbor[s],k=n_variables)\n",
    "print(idx)\n",
    "y = ts_data[s]\n",
    "X = ts_data[neighbor[s]]\n",
    "reg = LinearRegression().fit(X.T, y)\n",
    "predict = reg.intercept_ + np.dot(X.T, reg.coef_)\n",
    "score = reg.score(X.T,y)\n",
    "print(score)"
   ]
  },
  {
   "cell_type": "code",
   "execution_count": null,
   "metadata": {},
   "outputs": [],
   "source": [
    "original = ts_rawdata[s]\n",
    "predict = reg.intercept_ + np.dot(X.T, reg.coef_)\n",
    "plt.plot(original)\n",
    "plt.plot(predict)\n",
    "plt.plot(original-predict)"
   ]
  },
  {
   "cell_type": "code",
   "execution_count": null,
   "metadata": {},
   "outputs": [],
   "source": [
    "mean = np.mean(diff)\n",
    "sd = np.std(diff)\n",
    "result_stat = np.where((diff >= mean + 2* sd)  | (diff  <= mean - 2* sd ))[0]"
   ]
  },
  {
   "cell_type": "code",
   "execution_count": null,
   "metadata": {},
   "outputs": [],
   "source": [
    "ANSWER.sort()\n",
    "ANSWER"
   ]
  },
  {
   "cell_type": "code",
   "execution_count": null,
   "metadata": {},
   "outputs": [],
   "source": [
    "result_stat"
   ]
  }
 ],
 "metadata": {
  "kernelspec": {
   "display_name": "Python 3",
   "language": "python",
   "name": "python3"
  },
  "language_info": {
   "codemirror_mode": {
    "name": "ipython",
    "version": 3
   },
   "file_extension": ".py",
   "mimetype": "text/x-python",
   "name": "python",
   "nbconvert_exporter": "python",
   "pygments_lexer": "ipython3",
   "version": "3.8.8"
  }
 },
 "nbformat": 4,
 "nbformat_minor": 2
}
