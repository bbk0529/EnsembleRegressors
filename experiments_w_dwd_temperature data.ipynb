{
 "cells": [
  {
   "cell_type": "code",
   "execution_count": 1,
   "metadata": {},
   "outputs": [],
   "source": [
    "from regressors import *\n",
    "import pickle\n",
    "import pandas as pd"
   ]
  },
  {
   "cell_type": "code",
   "execution_count": 2,
   "metadata": {},
   "outputs": [],
   "source": [
    "ensembleregression = EnsembleRegression(n_regressors=5,n_variables=3, eps=3, decision_boundary=0.6, global_search=False)\n",
    "spatialcomparision = SpatialComparision()"
   ]
  },
  {
   "cell_type": "code",
   "execution_count": 3,
   "metadata": {},
   "outputs": [],
   "source": [
    "n_stations = 450\n",
    "n_timesteps= 100 #maybe 288 is the maximum to propoerly manage them \n",
    "k = 5\n",
    "p_noise_stations = 0.05\n",
    "p_noise_timesteps= 0.05\n",
    "\n",
    "\n",
    "data = Tempearture_DWD(n_stations, n_timesteps, k, p_noise_stations=p_noise_stations, p_noise_timesteps= p_noise_timesteps)\n",
    "validatorNew= Executor(data, ensembleregression)\n",
    "validatorOld = Executor(data, spatialcomparision)\n",
    "resultNew = validatorNew.evaluate_validator()  \n",
    "resultOld = validatorOld.evaluate_validator()  \n",
    "\n",
    "\n"
   ]
  },
  {
   "cell_type": "code",
   "execution_count": null,
   "metadata": {
    "scrolled": true
   },
   "outputs": [],
   "source": [
    "plt.imshow(data.matrix_noises)\n",
    "plt.colorbar()"
   ]
  },
  {
   "cell_type": "code",
   "execution_count": null,
   "metadata": {},
   "outputs": [],
   "source": [
    "def regression_predict_w_randomness(ts_data, i, global_search=False, display=False) :     \n",
    "    max_score = -np.inf\n",
    "    max_iteration = 50\n",
    "    n_iter = 0 \n",
    "    thr = 0.9\n",
    "    while True :\n",
    "        if global_search : \n",
    "            candidate = np.arange(ts_data.shape[0])\n",
    "            candidate = np.delete(candidate, i)                      \n",
    "        else : \n",
    "            candidate = data._neighbor[i]      \n",
    "        idx_stations = np.random.choice(candidate, size=3, replace=False)\n",
    "        idx_timesteps = np.random.choice(np.arange(ts_data.shape[1]), size= round(ts_data.shape[1]), replace=True)\n",
    "        idx_timesteps.sort()\n",
    "\n",
    "        y = ts_data[i]\n",
    "        X = ts_data[idx_stations]\n",
    "        reg = LinearRegression().fit(X.T[idx_timesteps],y[idx_timesteps])\n",
    "        score = reg.score(X.T[idx_timesteps],y[idx_timesteps])\n",
    "\n",
    "\n",
    "        if score > max_score :\n",
    "            max_score = score\n",
    "            max_idx_stations = idx_stations\n",
    "            max_idx_timesteps = idx_timesteps\n",
    "\n",
    "        if n_iter >= max_iteration :                 \n",
    "            X = ts_data[max_idx_stations]\n",
    "            reg = LinearRegression().fit(X.T[max_idx_timesteps],y[max_idx_timesteps])\n",
    "            pred = reg.predict(X.T)\n",
    "            gap = abs(pred - y)\n",
    "            if display : \n",
    "                print(\"for {} iteration, cannot find more than {}. the best upto now is {}\".format(max_iteration, thr, max_score))\n",
    "            break\n",
    "        if (score > thr) : \n",
    "            pred = reg.predict(X.T)\n",
    "            gap = pred - y\n",
    "            if display : \n",
    "                print(score)\n",
    "            break\n",
    "        n_iter += 1\n",
    "    if display : \n",
    "        plt.figure(figsize=(20,3))\n",
    "        plt.plot(X.T, color='grey')\n",
    "        plt.plot(y)\n",
    "        plt.plot(pred, color='black')\n",
    "        # plt.plot(gap, color='blue')\n",
    "    return pred"
   ]
  },
  {
   "cell_type": "code",
   "execution_count": null,
   "metadata": {},
   "outputs": [],
   "source": [
    "def regression_predict_w_neighbor(ts_data, i) :     \n",
    "    y = ts_data[i]\n",
    "    X = ts_data[neighbor[i]]\n",
    "    reg = LinearRegression().fit(X.T,y)\n",
    "    score = reg.score(X.T,y)\n",
    "    print(score)\n",
    "    pred = reg.predict(X.T)\n",
    "    gap2 = abs(pred - y)\n",
    "    plt.figure(figsize=(20,5))\n",
    "    plt.plot(X.T, color='grey')\n",
    "    plt.plot(y)\n",
    "    plt.plot(pred, color='black')\n",
    "    # plt.plot(gap, color='blue')\n",
    "    return pred"
   ]
  },
  {
   "cell_type": "code",
   "execution_count": 13,
   "metadata": {},
   "outputs": [],
   "source": [
    "def evaluate_predictor(function, ts_data, i, global_search=False, display = False) : \n",
    "    pred = function(ts_data, i, global_search=global_search, display=display)\n",
    "\n",
    "    gap = pred - ts_data[i]\n",
    "    gap_between_rawdata = pred - data._ts_rawdata[i]\n",
    "    \n",
    "    gap_mean = np.mean(gap)\n",
    "    gap_std = max(np.std(gap),2)\n",
    "\n",
    "    idx = (gap >= gap_mean +  2 * gap_std) | (gap <= gap_mean -  2 * gap_std)\n",
    "    pred_by_neighbor_randomness = np.where(idx == True )[0]\n",
    "    \n",
    "    if display  : \n",
    "        print(\"SSE between rawdata\", math.sqrt(sum(gap_between_rawdata**2)))\n",
    "        print(pred_by_neighbor_randomness)\n",
    "        print(\"LevenshteinDistance\", levenshteinDistance(answer, pred_by_neighbor_randomness))\n",
    "        plt.plot(idx, color='red')\n",
    "        \n",
    "        \n",
    "        plt.figure(figsize=(20,3))\n",
    "        plt.plot(pred, color='black')        \n",
    "        plt.plot(data._ts_rawdata[i], color='green')\n",
    "        \n",
    "    return levenshteinDistance(answer, pred_by_neighbor_randomness)"
   ]
  },
  {
   "cell_type": "code",
   "execution_count": null,
   "metadata": {},
   "outputs": [],
   "source": []
  },
  {
   "cell_type": "markdown",
   "metadata": {},
   "source": [
    "# Random Selection"
   ]
  },
  {
   "cell_type": "code",
   "execution_count": 29,
   "metadata": {
    "scrolled": true
   },
   "outputs": [
    {
     "name": "stdout",
     "output_type": "stream",
     "text": [
      "# of noises: 225.0\n",
      "# of data : 22500\n"
     ]
    }
   ],
   "source": [
    "n_stations = 450\n",
    "n_timesteps= 50 #maybe 288 is the maximum to propoerly manage them \n",
    "k = 5\n",
    "p_noise_stations = 0.10\n",
    "p_noise_timesteps= 0.10\n",
    "print(\"# of noises:\", n_stations * n_timesteps * p_noise_stations * p_noise_timesteps)\n",
    "print(\"# of data :\", n_stations * n_timesteps )\n",
    "\n",
    "data = Tempearture_DWD(n_stations, n_timesteps, k, p_noise_stations=p_noise_stations, p_noise_timesteps= p_noise_timesteps)"
   ]
  },
  {
   "cell_type": "code",
   "execution_count": 30,
   "metadata": {},
   "outputs": [],
   "source": [
    "ts_data = data.ts_data\n",
    "neighbor = data._neighbor"
   ]
  },
  {
   "cell_type": "code",
   "execution_count": 31,
   "metadata": {},
   "outputs": [
    {
     "data": {
      "text/plain": [
       "55"
      ]
     },
     "execution_count": 31,
     "metadata": {},
     "output_type": "execute_result"
    }
   ],
   "source": [
    "correct_and_predict()"
   ]
  },
  {
   "cell_type": "code",
   "execution_count": 32,
   "metadata": {},
   "outputs": [
    {
     "data": {
      "text/plain": [
       "(309, 1554, 55)"
      ]
     },
     "execution_count": 32,
     "metadata": {},
     "output_type": "execute_result"
    }
   ],
   "source": [
    "new_predict(), old_predict(), correct_and_predict()"
   ]
  },
  {
   "cell_type": "code",
   "execution_count": null,
   "metadata": {},
   "outputs": [],
   "source": []
  },
  {
   "cell_type": "code",
   "execution_count": null,
   "metadata": {},
   "outputs": [],
   "source": []
  },
  {
   "cell_type": "code",
   "execution_count": null,
   "metadata": {},
   "outputs": [],
   "source": []
  },
  {
   "cell_type": "code",
   "execution_count": null,
   "metadata": {},
   "outputs": [],
   "source": []
  },
  {
   "cell_type": "code",
   "execution_count": null,
   "metadata": {},
   "outputs": [],
   "source": [
    "i = np.random.choice(data._picked_stations)\n",
    "# i = np.random.choice(range(len(ts_data)))\n",
    "try : \n",
    "    answer = sorted(data.dic_timesteps[i])\n",
    "except :\n",
    "    answer = []\n",
    "    \n",
    "pred_by_new = [int(s.split('_')[1]) for s in validatorNew.validate(i)]\n",
    "pred_by_old = [int(s.split('_')[1]) for s in validatorOld.validate(i)]\n",
    "print(\"selected station\", i)\n",
    "print(\"neighbor stations with noise: \", [s for s in neighbor[i] if s in data._picked_stations])\n",
    "print(\"answer:         \",answer)\n",
    "print(\"predicted by new\",pred_by_new, levenshteinDistance(answer, pred_by_new ))\n",
    "print(\"predicted by old\",pred_by_old, levenshteinDistance(answer, pred_by_old ))"
   ]
  },
  {
   "cell_type": "code",
   "execution_count": null,
   "metadata": {},
   "outputs": [],
   "source": []
  },
  {
   "cell_type": "code",
   "execution_count": 7,
   "metadata": {},
   "outputs": [],
   "source": [
    "def new_predict() : \n",
    "    s=0\n",
    "    for i in range(len(ts_data)) : \n",
    "        try : \n",
    "            answer = sorted(data.dic_timesteps[i])\n",
    "        except : \n",
    "            answer = []\n",
    "        pred_by_new = [int(s.split('_')[1]) for s in validatorNew.validate(i)]\n",
    "        s += levenshteinDistance(answer, pred_by_new )\n",
    "\n",
    "    return s"
   ]
  },
  {
   "cell_type": "code",
   "execution_count": 8,
   "metadata": {},
   "outputs": [],
   "source": [
    "def old_predict() : \n",
    "    s=0\n",
    "    for i in range(len(ts_data)) : \n",
    "        try : \n",
    "            answer = sorted(data.dic_timesteps[i])\n",
    "        except : \n",
    "            answer = []\n",
    "        pred_by_old = [int(s.split('_')[1]) for s in validatorOld.validate(i)]\n",
    "        s += levenshteinDistance(answer, pred_by_old )\n",
    "    return s\n"
   ]
  },
  {
   "cell_type": "code",
   "execution_count": 9,
   "metadata": {
    "scrolled": false
   },
   "outputs": [],
   "source": [
    "def correct_and_predict() : \n",
    "    s=0\n",
    "    for i in range(len(ts_data)) : \n",
    "\n",
    "\n",
    "        try : \n",
    "            answer = sorted(data.dic_timesteps[i])\n",
    "        except :\n",
    "            answer = []\n",
    "        y = copy.deepcopy(ts_data[i])\n",
    "        X = copy.deepcopy(ts_data[neighbor[i]])\n",
    "        corrected_y = correct(X,y)\n",
    "        try : \n",
    "            a1 = data.dic_timesteps[i]        \n",
    "        except : \n",
    "            a1 = []\n",
    "        a1.sort()\n",
    "        a2 =np.where(abs(ts_data[i] - corrected_y)>3)[0]\n",
    "        a2.sort()\n",
    "\n",
    "        s+= levenshteinDistance(a1,a2)\n",
    "    return s"
   ]
  },
  {
   "cell_type": "code",
   "execution_count": null,
   "metadata": {},
   "outputs": [],
   "source": [
    "new_predict\n",
    "old_predict()\n",
    "correct_and_predict()"
   ]
  },
  {
   "cell_type": "code",
   "execution_count": null,
   "metadata": {},
   "outputs": [],
   "source": [
    "s=0\n",
    "for i in range(len(ts_data)) : \n",
    "    s +=  evaluate_predictor(regression_predict_w_randomness, ts_data, i, global_search = True, display=False)\n",
    "s"
   ]
  },
  {
   "cell_type": "code",
   "execution_count": null,
   "metadata": {},
   "outputs": [],
   "source": []
  },
  {
   "cell_type": "code",
   "execution_count": null,
   "metadata": {},
   "outputs": [],
   "source": []
  },
  {
   "cell_type": "code",
   "execution_count": null,
   "metadata": {},
   "outputs": [],
   "source": []
  },
  {
   "cell_type": "code",
   "execution_count": null,
   "metadata": {},
   "outputs": [],
   "source": []
  },
  {
   "cell_type": "code",
   "execution_count": null,
   "metadata": {},
   "outputs": [],
   "source": []
  },
  {
   "cell_type": "code",
   "execution_count": null,
   "metadata": {},
   "outputs": [],
   "source": []
  },
  {
   "cell_type": "code",
   "execution_count": null,
   "metadata": {
    "scrolled": false
   },
   "outputs": [],
   "source": [
    "\n",
    "pred_idx = evaluate_predictor(regression_predict_w_randomness, ts_data, i, global_search = True, display=True)\n",
    "\n"
   ]
  },
  {
   "cell_type": "markdown",
   "metadata": {},
   "source": [
    "# GUT"
   ]
  },
  {
   "cell_type": "code",
   "execution_count": null,
   "metadata": {},
   "outputs": [],
   "source": [
    "ts_data = data.ts_data\n",
    "neighbor = data._neighbor"
   ]
  },
  {
   "cell_type": "code",
   "execution_count": null,
   "metadata": {},
   "outputs": [],
   "source": [
    "data._picked_stations"
   ]
  },
  {
   "cell_type": "code",
   "execution_count": null,
   "metadata": {},
   "outputs": [],
   "source": [
    "s"
   ]
  },
  {
   "cell_type": "code",
   "execution_count": null,
   "metadata": {},
   "outputs": [],
   "source": [
    "plt.figure(figsize=(20,3))\n",
    "i = 406\n",
    "plt.plot(ts_data[i])\n",
    "plt.plot(ts_data[neighbor[i]].T, color='grey')"
   ]
  },
  {
   "cell_type": "code",
   "execution_count": null,
   "metadata": {},
   "outputs": [],
   "source": [
    "s"
   ]
  },
  {
   "cell_type": "code",
   "execution_count": null,
   "metadata": {},
   "outputs": [],
   "source": []
  },
  {
   "cell_type": "code",
   "execution_count": null,
   "metadata": {},
   "outputs": [],
   "source": [
    "a2"
   ]
  },
  {
   "cell_type": "code",
   "execution_count": 10,
   "metadata": {},
   "outputs": [],
   "source": [
    "def correct(X, y) : \n",
    "    while True :  \n",
    "        reg = LinearRegression().fit(X.T, y)\n",
    "#         print(reg.score(X.T, y))\n",
    "        pred = reg.predict(X.T)\n",
    "        error = pred - y \n",
    "        error_mean = np.mean(error)\n",
    "        error_std = np.std(error)\n",
    "        idx_boolean = (error >= error_mean +  max(2 * error_std,3)) | (error <= error_mean -  max(2 * error_std,3))\n",
    "        idx = np.where(idx_boolean == True )[0]\n",
    "        y[idx] = pred[idx]\n",
    "#         print(idx)\n",
    "\n",
    "#         plt.figure()\n",
    "#         plt.plot(X.T, color='grey')\n",
    "#         plt.plot(y, color='blue')\n",
    "#         plt.plot(pred, color='red')\n",
    "        \n",
    "        if len(idx) == 0 :            \n",
    "            break\n",
    "    return y\n",
    "\n",
    "    "
   ]
  },
  {
   "cell_type": "code",
   "execution_count": null,
   "metadata": {},
   "outputs": [],
   "source": []
  },
  {
   "cell_type": "code",
   "execution_count": null,
   "metadata": {},
   "outputs": [],
   "source": []
  },
  {
   "cell_type": "code",
   "execution_count": null,
   "metadata": {
    "scrolled": false
   },
   "outputs": [],
   "source": [
    "score_idx = np.zeros(ts_data.shape[1])\n",
    "for j in range(10) : \n",
    "    score_idx += evaluate_predictor(regression_predict_w_randomness, ts_data, i, global_search = False, display=False)"
   ]
  },
  {
   "cell_type": "code",
   "execution_count": null,
   "metadata": {},
   "outputs": [],
   "source": [
    "np.where(score_idx > 6)[0]"
   ]
  },
  {
   "cell_type": "code",
   "execution_count": null,
   "metadata": {},
   "outputs": [],
   "source": [
    "(-score_idx).argsort()[:3]"
   ]
  },
  {
   "cell_type": "code",
   "execution_count": null,
   "metadata": {},
   "outputs": [],
   "source": [
    "np.where(gap>1)[0]"
   ]
  },
  {
   "cell_type": "code",
   "execution_count": null,
   "metadata": {},
   "outputs": [],
   "source": [
    "noise = data.ts_data - data._ts_rawdata\n",
    "plt.figure(figsize=(10,10))\n",
    "plt.imshow(noise)\n",
    "plt.colorbar()\n"
   ]
  },
  {
   "cell_type": "code",
   "execution_count": null,
   "metadata": {},
   "outputs": [],
   "source": [
    "ts_data = data.ts_data "
   ]
  },
  {
   "cell_type": "code",
   "execution_count": null,
   "metadata": {},
   "outputs": [],
   "source": [
    "stations_w_noises = set([int(x.split('_')[0]) for x in data.lst_station_timestep])"
   ]
  },
  {
   "cell_type": "code",
   "execution_count": null,
   "metadata": {},
   "outputs": [],
   "source": [
    "validator1.evaluate_validator()"
   ]
  },
  {
   "cell_type": "code",
   "execution_count": null,
   "metadata": {},
   "outputs": [],
   "source": [
    "validator3.evaluate_validator()"
   ]
  },
  {
   "cell_type": "markdown",
   "metadata": {},
   "source": [
    "# stations with no problems "
   ]
  },
  {
   "cell_type": "code",
   "execution_count": null,
   "metadata": {},
   "outputs": [],
   "source": [
    "\n",
    "# def find_nearest_stations(i, ts_data, neighbor, max_iteration) : \n",
    "def find_nearest_stations(i, ts_data,  max_iteration) : \n",
    "    iteration = 0\n",
    "    max_score = -np.inf\n",
    "    while True  :\n",
    "        candidate = list(range(len(ts_data)))\n",
    "        candidate.remove(i)\n",
    "#         candidate = neighbor[i]\n",
    "        idx = np.random.choice(candidate, size=3)\n",
    "    #     print(idx)\n",
    "        X = ts_data[idx]\n",
    "        y = ts_data[i]\n",
    "        reg = LinearRegression().fit(X.T, y)\n",
    "        score = reg.score(X.T,y)\n",
    "        if score >= max_score :\n",
    "            max_score = score \n",
    "            max_idx = idx\n",
    "        if score >= 0.9 : \n",
    "#             print(i, score, idx,iteration )\n",
    "            return max_score, max_idx\n",
    "\n",
    "        iteration += 1\n",
    "    #     print(idx, score, iteration)\n",
    "        if iteration >= max_iteration : \n",
    "#             print(\"cannot find more than .9, the best so far\")\n",
    "#             plt.plot(y)\n",
    "#             plt.plot(X.T, color='grey')\n",
    "            return max_score, max_idx\n",
    "    "
   ]
  },
  {
   "cell_type": "code",
   "execution_count": null,
   "metadata": {},
   "outputs": [],
   "source": [
    "result = np.zeros(len(data.ts_data))\n",
    "max_iteration = 100\n",
    "for i in range(len(data.ts_data)) : \n",
    "    max_score, _ = find_nearest_stations(i, data.ts_data, max_iteration)\n",
    "    result[i] = max_score"
   ]
  },
  {
   "cell_type": "code",
   "execution_count": null,
   "metadata": {},
   "outputs": [],
   "source": []
  },
  {
   "cell_type": "code",
   "execution_count": null,
   "metadata": {},
   "outputs": [],
   "source": [
    "df = pickle.load(open('data_dvd_reduced.p','rb'))\n",
    "df_metadata = pickle.load(open('metadata.p', 'rb'))\n",
    "metadata = df_metadata.values[:400]\n",
    "neighbor = create_neighor_list(metadata[:,1:], k=5)\n",
    "ts_rawdata = df.values[:400]\n",
    "ts_preprocessed_data = preprocess_data(ts_rawdata)[:,5000:7000]"
   ]
  },
  {
   "cell_type": "code",
   "execution_count": null,
   "metadata": {},
   "outputs": [],
   "source": [
    "ts_data, ANSWER, lst_noises = add_noise(ts_preprocessed_data, 0.10, 3, 10)\n"
   ]
  },
  {
   "cell_type": "code",
   "execution_count": null,
   "metadata": {},
   "outputs": [],
   "source": [
    "s = random.choice(list(set([k[0] for k,v in lst_noises.items()])))\n",
    "\n",
    "plt.figure(figsize=(20,5))\n",
    "plt.plot(ts_data[s], color='red')\n",
    "plt.plot(ts_data[neighbor[s]].T , color='grey')\n",
    "plt.title(s)\n",
    "\n",
    "d = [(k,v) for k,v in sorted(lst_noises.items(), reverse=False, key=lambda x : x[0][0]) if k[0] == s]\n",
    "print([(k,v) for k,v in sorted(d, reverse=False, key=lambda x : x[0][1])])\n",
    "result1 = regression_based_outlier_detection(ts_data, neighbor, s, n_regressors, n_variables, eps=eps)\n",
    "result2 = regression_based_outlier_detection2(ts_data, neighbor, s, n_regressors, n_variables, eps=eps)\n",
    "result3 = regression_based_outlier_detection2(ts_data, neighbor, s, n_regressors, n_variables, eps=eps)\n",
    "result4 = spatialcomparision(ts_data, neighbor, s)\n",
    "\n",
    "print(\"classified by new idea\", result1)\n",
    "# print(\"classified by new idea2\", result2)\n",
    "# print(\"classified by new idea3\", result3)\n",
    "print(\"classified by old idea\", result4)"
   ]
  },
  {
   "cell_type": "code",
   "execution_count": null,
   "metadata": {
    "scrolled": true
   },
   "outputs": [],
   "source": [
    "%%timeit\n",
    "spatialcomparision(ts_data, neighbor, station=s)"
   ]
  },
  {
   "cell_type": "code",
   "execution_count": null,
   "metadata": {},
   "outputs": [],
   "source": [
    "%%timeit\n",
    "regression_based_outlier_detection(ts_data, neighbor, s, n_regressors=n_regressors, n_variables=n_variables, eps=3)\n"
   ]
  },
  {
   "cell_type": "code",
   "execution_count": null,
   "metadata": {},
   "outputs": [],
   "source": [
    "\n",
    "n_regressors = 7\n",
    "result = np.empty(len(ts_data[s]))\n",
    "for i in range(n_regressors) : \n",
    "    idx = random.choices(neighbor[s],k=2)\n",
    "    X = ts_data[idx]\n",
    "    y = ts_data[s]\n",
    "    reg = LinearRegression().fit(X.T, y)\n",
    "    predict = reg.intercept_ + np.dot(X.T, reg.coef_)\n",
    "    result += predict    \n",
    "    print(idx, reg.score(X.T, y))\n",
    "result = result / n_regressors\n"
   ]
  },
  {
   "cell_type": "code",
   "execution_count": null,
   "metadata": {
    "scrolled": false
   },
   "outputs": [],
   "source": [
    "fig, (ax1, ax2, ax3) = plt.subplots(1,3,figsize=(30,10))\n",
    "ax1 = plt.subplot(131)\n",
    "ax2 = plt.subplot(132)\n",
    "ax3 = plt.subplot(133)\n",
    "\n",
    "ax1.plot(ts_data[s], color='red')\n",
    "ax1.plot(ts_data[neighbor[s]].T, color='grey')\n",
    "\n",
    "ax2.plot(y, color='red')\n",
    "ax2.plot(result, color='grey')\n",
    "\n",
    "\n",
    "# ylim = [-1000,40]\n",
    "# ax1.set_ylim(ylim)\n",
    "# ax2.set_ylim(ylim)\n",
    "\n",
    "diff = predict-y\n",
    "\n",
    "ax3.plot(diff, color='red')\n"
   ]
  },
  {
   "cell_type": "code",
   "execution_count": null,
   "metadata": {},
   "outputs": [],
   "source": [
    "def regression_based_outlier_detection2(ts_data, neighbor, station, n_regressors, n_variables, eps) :\n",
    "    result = np.array([], dtype='int')\n",
    "    coeffs = np.zeros((n_regressors, n_variables + 1))\n",
    "    score = np.zeros(n_regressors)\n",
    "    predict = np.zeros((n_regressors, ts_data.shape[1]))\n",
    "    for i in range(n_regressors) : \n",
    "        idx = random.choices(neighbor[station],k=n_variables)\n",
    "        y = ts_data[station] \n",
    "        X = ts_data[idx]\n",
    "        reg = LinearRegression().fit(X.T, y)\n",
    "        score[i] = reg.score(X.T, y)\n",
    "        predict[i] = reg.intercept_ + np.dot(X.T, reg.coef_)\n",
    "        \n",
    "    \n",
    "    print(score)\n",
    "    idx = (-score).argsort()[:-1]\n",
    "    score = score / score.sum()    \n",
    "    return np.dot(predict[idx].T, score[idx])\n",
    "    \n",
    "    \n",
    "    \n",
    "    \n",
    "    "
   ]
  },
  {
   "cell_type": "code",
   "execution_count": null,
   "metadata": {},
   "outputs": [],
   "source": [
    "regression_based_outlier_detection2(ts_data, neighbor, s, n_regressors=10, n_variables=3, eps=2)\n"
   ]
  },
  {
   "cell_type": "code",
   "execution_count": null,
   "metadata": {},
   "outputs": [],
   "source": [
    "predict"
   ]
  },
  {
   "cell_type": "code",
   "execution_count": null,
   "metadata": {},
   "outputs": [],
   "source": [
    "score.sum()"
   ]
  },
  {
   "cell_type": "code",
   "execution_count": null,
   "metadata": {},
   "outputs": [],
   "source": [
    "np.dot(predict.T, score)"
   ]
  },
  {
   "cell_type": "markdown",
   "metadata": {},
   "source": [
    "# random test"
   ]
  },
  {
   "cell_type": "code",
   "execution_count": null,
   "metadata": {},
   "outputs": [],
   "source": [
    "n_variables = 3\n",
    "idx = random.choices(neighbor[s],k=n_variables)\n",
    "print(idx)\n",
    "y = ts_data[s]\n",
    "X = ts_data[neighbor[s]]\n",
    "reg = LinearRegression().fit(X.T, y)\n",
    "predict = reg.intercept_ + np.dot(X.T, reg.coef_)\n",
    "score = reg.score(X.T,y)\n",
    "print(score)"
   ]
  },
  {
   "cell_type": "code",
   "execution_count": null,
   "metadata": {},
   "outputs": [],
   "source": [
    "original = ts_rawdata[s]\n",
    "predict = reg.intercept_ + np.dot(X.T, reg.coef_)\n",
    "plt.plot(original)\n",
    "plt.plot(predict)\n",
    "plt.plot(original-predict)"
   ]
  },
  {
   "cell_type": "code",
   "execution_count": null,
   "metadata": {},
   "outputs": [],
   "source": [
    "mean = np.mean(diff)\n",
    "sd = np.std(diff)\n",
    "result_stat = np.where((diff >= mean + 2* sd)  | (diff  <= mean - 2* sd ))[0]"
   ]
  },
  {
   "cell_type": "code",
   "execution_count": null,
   "metadata": {},
   "outputs": [],
   "source": [
    "ANSWER.sort()\n",
    "ANSWER"
   ]
  },
  {
   "cell_type": "code",
   "execution_count": null,
   "metadata": {},
   "outputs": [],
   "source": [
    "result_stat"
   ]
  }
 ],
 "metadata": {
  "kernelspec": {
   "display_name": "Python 3",
   "language": "python",
   "name": "python3"
  },
  "language_info": {
   "codemirror_mode": {
    "name": "ipython",
    "version": 3
   },
   "file_extension": ".py",
   "mimetype": "text/x-python",
   "name": "python",
   "nbconvert_exporter": "python",
   "pygments_lexer": "ipython3",
   "version": "3.8.8"
  }
 },
 "nbformat": 4,
 "nbformat_minor": 2
}
