{
 "cells": [
  {
   "cell_type": "code",
   "execution_count": 1,
   "metadata": {},
   "outputs": [],
   "source": [
    "import numpy as np\n",
    "import pandas as pd"
   ]
  },
  {
   "cell_type": "code",
   "execution_count": 54,
   "metadata": {},
   "outputs": [],
   "source": [
    "N = 100000\n",
    "ts_data = np.random.rand(N)\n",
    "ts_data = pd.DataFrame(ts_data)\n",
    "v_col = ts_data.columns[0]\n",
    "size = len(ts_data)"
   ]
  },
  {
   "cell_type": "code",
   "execution_count": 55,
   "metadata": {},
   "outputs": [],
   "source": [
    "neighbor_data = pd.DataFrame(np.random.rand(N,10))"
   ]
  },
  {
   "cell_type": "code",
   "execution_count": 56,
   "metadata": {},
   "outputs": [],
   "source": [
    "const_rel_dw = 0.1\n",
    "const_rel_up = 0.1\n",
    "const_abs = 0.1\n",
    "value_min = -np.inf\n",
    "value_max = np.inf"
   ]
  },
  {
   "cell_type": "code",
   "execution_count": 57,
   "metadata": {},
   "outputs": [],
   "source": [
    "def find_invalid(ts_data, size, const_rel_dw, const_rel_up, neighbor_data, value_min, value_max) : \n",
    "\n",
    "    aux_matrix = np.zeros((size, 3))\n",
    "    aux_matrix[:, 0] = neighbor_data.mean(axis=1).abs() * const_rel_dw\n",
    "    aux_matrix[:, 1] = neighbor_data.mean(axis=1).abs() * const_rel_up\n",
    "    aux_matrix[:, 2] = [const_abs] * size\n",
    "    aux_matrix[:, 0] = np.nanmax(aux_matrix[:, [0, 2]], axis=1)\n",
    "    aux_matrix[:, 1] = np.nanmax(aux_matrix[:, [1, 2]], axis=1)\n",
    "    aux_matrix[:, 2] = neighbor_data.std(axis=1) * 2\n",
    "    aux_matrix[:, 0] = np.nanmax(aux_matrix[:, [0, 2]], axis=1)\n",
    "    aux_matrix[:, 1] = np.nanmax(aux_matrix[:, [1, 2]], axis=1)\n",
    "\n",
    "    ts_data = ts_data.assign(\n",
    "                min=neighbor_data.min(axis=1) - aux_matrix[:, 0],\n",
    "                max=neighbor_data.max(axis=1) + aux_matrix[:, 1],\n",
    "    )\n",
    "    event_time_index = ts_data[\n",
    "        ((value_min <= ts_data[v_col]) & (ts_data[v_col] <= value_max))\n",
    "        & ((ts_data[v_col] < ts_data[\"min\"]) | (ts_data[v_col] > ts_data[\"max\"]))\n",
    "\n",
    "    ].index\n",
    "    \n",
    "    return event_time_index"
   ]
  },
  {
   "cell_type": "code",
   "execution_count": 58,
   "metadata": {},
   "outputs": [
    {
     "name": "stdout",
     "output_type": "stream",
     "text": [
      "27.2 ms ± 498 µs per loop (mean ± std. dev. of 7 runs, 10 loops each)\n"
     ]
    }
   ],
   "source": [
    "%%timeit\n",
    "find_invalid(ts_data, size, const_rel_dw, const_rel_up, neighbor_data, value_min, value_max)"
   ]
  },
  {
   "cell_type": "code",
   "execution_count": null,
   "metadata": {},
   "outputs": [],
   "source": []
  }
 ],
 "metadata": {
  "kernelspec": {
   "display_name": "Python 3",
   "language": "python",
   "name": "python3"
  },
  "language_info": {
   "codemirror_mode": {
    "name": "ipython",
    "version": 3
   },
   "file_extension": ".py",
   "mimetype": "text/x-python",
   "name": "python",
   "nbconvert_exporter": "python",
   "pygments_lexer": "ipython3",
   "version": "3.8.8"
  }
 },
 "nbformat": 4,
 "nbformat_minor": 4
}
